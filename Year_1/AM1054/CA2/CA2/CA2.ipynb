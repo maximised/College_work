{
 "cells": [
  {
   "cell_type": "markdown",
   "metadata": {
    "checksum2": "9fa24b53f0cd786db4e39387325762a86e226acb141dffb5ab543c169232113e",
    "deletable": false,
    "editable": false,
    "nbgrader": {
     "checksum": "d6437dd86eb9fe36b0d0e829405d3f96",
     "grade": false,
     "grade_id": "cell-93ac3af61ebd0c25",
     "locked": true,
     "schema_version": 1,
     "solution": false
    }
   },
   "source": [
    "# AM1054 Continuous Assessment 2\n",
    "\n",
    "## Due Friday 30 November 2018, 9am."
   ]
  },
  {
   "cell_type": "code",
   "execution_count": 1,
   "metadata": {
    "checksum2": "9fa24b53f0cd786db4e39387325762a86e226acb141dffb5ab543c169232113e",
    "deletable": false,
    "editable": false,
    "nbgrader": {
     "checksum": "69fd29fe23446596d297327e222c562f",
     "grade": false,
     "grade_id": "cell-0af44e3442508022",
     "locked": true,
     "schema_version": 1,
     "solution": false
    }
   },
   "outputs": [
    {
     "ename": "ModuleNotFoundError",
     "evalue": "No module named 'sympy'",
     "output_type": "error",
     "traceback": [
      "\u001b[1;31m---------------------------------------------------------------------------\u001b[0m",
      "\u001b[1;31mModuleNotFoundError\u001b[0m                       Traceback (most recent call last)",
      "\u001b[1;32m<ipython-input-1-81d520368b70>\u001b[0m in \u001b[0;36m<module>\u001b[1;34m\u001b[0m\n\u001b[0;32m      3\u001b[0m \u001b[1;32mimport\u001b[0m \u001b[0mnumpy\u001b[0m \u001b[1;32mas\u001b[0m \u001b[0mnp\u001b[0m\u001b[1;33m\u001b[0m\u001b[0m\n\u001b[0;32m      4\u001b[0m \u001b[1;32mimport\u001b[0m \u001b[0mmatplotlib\u001b[0m\u001b[1;33m.\u001b[0m\u001b[0mpyplot\u001b[0m \u001b[1;32mas\u001b[0m \u001b[0mplt\u001b[0m\u001b[1;33m\u001b[0m\u001b[0m\n\u001b[1;32m----> 5\u001b[1;33m \u001b[1;32mimport\u001b[0m \u001b[0msympy\u001b[0m \u001b[1;32mas\u001b[0m \u001b[0msym\u001b[0m\u001b[1;33m\u001b[0m\u001b[0m\n\u001b[0m\u001b[0;32m      6\u001b[0m \u001b[1;32mfrom\u001b[0m \u001b[0mipywidgets\u001b[0m\u001b[1;33m.\u001b[0m\u001b[0mwidgets\u001b[0m \u001b[1;32mimport\u001b[0m \u001b[0minteract\u001b[0m\u001b[1;33m\u001b[0m\u001b[0m\n\u001b[0;32m      7\u001b[0m \u001b[0msym\u001b[0m\u001b[1;33m.\u001b[0m\u001b[0minit_printing\u001b[0m\u001b[1;33m(\u001b[0m\u001b[0muse_latex\u001b[0m\u001b[1;33m=\u001b[0m\u001b[1;34m\"mathjax\"\u001b[0m\u001b[1;33m)\u001b[0m\u001b[1;33m\u001b[0m\u001b[0m\n",
      "\u001b[1;31mModuleNotFoundError\u001b[0m: No module named 'sympy'"
     ]
    }
   ],
   "source": [
    "# execute this cell before you start the assignment\n",
    "\n",
    "import numpy as np\n",
    "import matplotlib.pyplot as plt\n",
    "import sympy as sym\n",
    "from ipywidgets.widgets import interact\n",
    "sym.init_printing(use_latex=\"mathjax\")\n",
    "x, y, z, t = sym.symbols('x y z t')"
   ]
  },
  {
   "cell_type": "markdown",
   "metadata": {
    "checksum2": "9fa24b53f0cd786db4e39387325762a86e226acb141dffb5ab543c169232113e",
    "deletable": false,
    "editable": false,
    "nbgrader": {
     "checksum": "329508711b92e0ec473dec87723e2f4f",
     "grade": false,
     "grade_id": "cell-74e0bd8bb2398704",
     "locked": true,
     "schema_version": 1,
     "solution": false
    }
   },
   "source": [
    "No late assignments will be accepted. Strictly individual (no team) solutions are required. \n",
    "\n",
    "Place your solution as file `CA2.ipynb` into the folder `AM1054\\CA2` of your `Z:` drive. \n",
    "\n",
    "Write `std_nr='11XXXXXXX'` (where 11XXXXXXX is your student number) into the next cell:"
   ]
  },
  {
   "cell_type": "code",
   "execution_count": null,
   "metadata": {
    "checksum2": "9fa24b53f0cd786db4e39387325762a86e226acb141dffb5ab543c169232113e",
    "deletable": false,
    "nbgrader": {
     "checksum": "094b0c245b6fed6520a44289d2b9daee",
     "grade": false,
     "grade_id": "stnr",
     "locked": false,
     "schema_version": 1,
     "solution": true
    }
   },
   "outputs": [],
   "source": [
    "std_nr='118364841'"
   ]
  },
  {
   "cell_type": "code",
   "execution_count": null,
   "metadata": {
    "checksum2": "9fa24b53f0cd786db4e39387325762a86e226acb141dffb5ab543c169232113e",
    "deletable": false,
    "editable": false,
    "nbgrader": {
     "checksum": "7bae4417cda9a6b20ba8bbf58ccd6697",
     "grade": true,
     "grade_id": "cell-7c82e818061b6421",
     "locked": true,
     "points": 0,
     "schema_version": 1,
     "solution": false
    }
   },
   "outputs": [],
   "source": [
    "assert(int(std_nr))"
   ]
  },
  {
   "cell_type": "markdown",
   "metadata": {
    "checksum2": "9fa24b53f0cd786db4e39387325762a86e226acb141dffb5ab543c169232113e",
    "deletable": false,
    "editable": false,
    "nbgrader": {
     "checksum": "9f27f6315c20785a9ae80c01586ac305",
     "grade": false,
     "grade_id": "cell-3d9dc2e30b7642d0",
     "locked": true,
     "schema_version": 1,
     "solution": false
    }
   },
   "source": [
    "Write your solutions in the cell below each question. After completing the assignment, check that you can execute the whole assignment by selecting `Kernel -> Restart & Run All`. Make sure that all requested outputs appear as expected after you do this. "
   ]
  },
  {
   "cell_type": "markdown",
   "metadata": {
    "checksum2": "9fa24b53f0cd786db4e39387325762a86e226acb141dffb5ab543c169232113e",
    "deletable": false,
    "editable": false,
    "nbgrader": {
     "checksum": "4e7a9fa99a614c2025c7da6bfa8664dd",
     "grade": false,
     "grade_id": "cell-6beee6365ade1d43",
     "locked": true,
     "schema_version": 1,
     "solution": false
    }
   },
   "source": [
    "# Question 1: Symbolic calculation\n",
    "\n",
    "Consider the function\n",
    "\\begin{equation}\n",
    "p_w(z,t)=\\frac{1}{\\sqrt{\\pi \\left(1-\\exp\\left[-2 t\\right]\\right)}}\n",
    "\\exp\\left[-\\frac{\\left(z-\\exp\\left[-t\\right]\\right)^{2}}{1-\n",
    "\\exp\\left[-2t\\right]}\\right]\n",
    "\\end{equation}\n",
    "\n",
    "a) Define a python variable `p_w` which is a `sympy` expression for $p_w(z,t)$ with sympy symbols `z` and `t`."
   ]
  },
  {
   "cell_type": "code",
   "execution_count": null,
   "metadata": {
    "checksum2": "9fa24b53f0cd786db4e39387325762a86e226acb141dffb5ab543c169232113e",
    "deletable": false,
    "nbgrader": {
     "checksum": "eb1efe802e405ec37b9f67313bba1fd9",
     "grade": false,
     "grade_id": "cell-5f27ff31e72aea0b",
     "locked": false,
     "schema_version": 1,
     "solution": true
    }
   },
   "outputs": [],
   "source": [
    "p_w = (1/sym.sqrt(sym.pi*(1-sym.exp(-2*t))))*sym.exp(-((z-sym.exp(-t))**2)/(1-sym.exp(-2*t)))\n",
    "\n",
    "p_w"
   ]
  },
  {
   "cell_type": "code",
   "execution_count": null,
   "metadata": {
    "checksum2": "9fa24b53f0cd786db4e39387325762a86e226acb141dffb5ab543c169232113e",
    "deletable": false,
    "editable": false,
    "nbgrader": {
     "checksum": "000c77a31d0a3fc897aa58655224f764",
     "grade": true,
     "grade_id": "cell-ddc3a31e3ea26c11",
     "locked": true,
     "points": 1,
     "schema_version": 1,
     "solution": false
    }
   },
   "outputs": [],
   "source": [
    "np.testing.assert_allclose(float(p_w.subs({z:0, t:1}).n()), 0.518831632096486)"
   ]
  },
  {
   "cell_type": "markdown",
   "metadata": {
    "checksum2": "9fa24b53f0cd786db4e39387325762a86e226acb141dffb5ab543c169232113e",
    "deletable": false,
    "editable": false,
    "nbgrader": {
     "checksum": "88a267b942737db7a5a8f4e62a3e9221",
     "grade": false,
     "grade_id": "cell-5461f5196ca5ddef",
     "locked": true,
     "schema_version": 1,
     "solution": false
    }
   },
   "source": [
    "b) Show that $p(z,t)$ fulfills the partial differential equation \n",
    "\\begin{equation}\n",
    "\\partial_{t}p(z,t)=\\partial_{z}\\left[zp(z,t|x,0)\\right]+ \\frac{1}{2} \\partial_{z}^{2}p(z,t|x,0)\n",
    "\\end{equation} \n",
    "\n",
    "Do this by defining two Python variables `LHS` and `RHS` which contain the left hand side and right hand side of this equation. Do all differentiations using `sympy`, do not differentiate by hand! Then show that the difference LHS - RHS vanishes. \n"
   ]
  },
  {
   "cell_type": "code",
   "execution_count": null,
   "metadata": {
    "checksum2": "9fa24b53f0cd786db4e39387325762a86e226acb141dffb5ab543c169232113e",
    "deletable": false,
    "nbgrader": {
     "checksum": "d9ddaee8ef3605779ac4114b10f3df12",
     "grade": false,
     "grade_id": "cell-fcdf1320b5a8fa31",
     "locked": false,
     "schema_version": 1,
     "solution": true
    }
   },
   "outputs": [],
   "source": [
    "LHS = sym.diff(p_w, t)\n",
    "\n",
    "RHS = sym.diff(z * p_w, z) + 0.5*sym.diff(sym.diff(p_w, z), z)\n",
    "\n",
    "\n",
    "sym.simplify(LHS - RHS)"
   ]
  },
  {
   "cell_type": "code",
   "execution_count": null,
   "metadata": {
    "checksum2": "9fa24b53f0cd786db4e39387325762a86e226acb141dffb5ab543c169232113e",
    "deletable": false,
    "editable": false,
    "nbgrader": {
     "checksum": "ca476b2ee061019bf98d658c94abfead",
     "grade": true,
     "grade_id": "cell-ce71007b961be1d2",
     "locked": true,
     "points": 1,
     "schema_version": 1,
     "solution": false
    }
   },
   "outputs": [],
   "source": [
    "assert(sym.simplify(LHS-RHS) == 0)"
   ]
  },
  {
   "cell_type": "markdown",
   "metadata": {
    "checksum2": "9fa24b53f0cd786db4e39387325762a86e226acb141dffb5ab543c169232113e"
   },
   "source": [
    "c) Plot $p(z,t)$ for the three values $t=0.1, 1, 10$ in a $p(z,t)$ versus $z$ diagram. "
   ]
  },
  {
   "cell_type": "code",
   "execution_count": null,
   "metadata": {
    "checksum2": "9fa24b53f0cd786db4e39387325762a86e226acb141dffb5ab543c169232113e",
    "deletable": false,
    "nbgrader": {
     "checksum": "a118c8b49460dee9957920dc1f3d2e08",
     "grade": true,
     "grade_id": "cell-b6a0f8ac8cd2840f",
     "locked": false,
     "points": 1,
     "schema_version": 1,
     "solution": true
    }
   },
   "outputs": [],
   "source": [
    "myx = np.linspace(0,10)\n",
    "\n",
    "x1 = p_w.subs({t:0.1})\n",
    "x2 = p_w.subs({t:1})\n",
    "x3 = p_w.subs({t:10})\n",
    "\n",
    "fx1 = sym.lambdify(z, x1)\n",
    "fx2 = sym.lambdify(z, x2)\n",
    "fx3 = sym.lambdify(z, x3)\n",
    "\n",
    "myx = np.linspace(-10,10, 100)\n",
    "\n",
    "plt.plot(myx, fx1(myx))\n",
    "plt.plot(myx, fx2(myx))\n",
    "plt.plot(myx, fx3(myx))"
   ]
  },
  {
   "cell_type": "markdown",
   "metadata": {
    "checksum2": "9fa24b53f0cd786db4e39387325762a86e226acb141dffb5ab543c169232113e"
   },
   "source": [
    "## Question 2\n",
    "\n",
    "The spherical [Bessel functions](https://en.wikipedia.org/wiki/Bessel_function#Spherical_Bessel_functions:_jn.2C_yn) $j_n(r)$ (for $r>0$) can be defined through\n",
    "\n",
    "\\begin{equation}\n",
    "j_{n-1}(r) = \\left.\\left[\\frac{\\partial^n}{\\partial t^n} \\frac{\\cos \\left(\\sqrt{r^{2}-2rt}\\right)}{r}\\right]\\right|_{t=0}\n",
    "\\end{equation}\n",
    "\n",
    "a) Use this definition and sympy to calculate algebraic expressions for $j_0(r)$, $j_1(r)$, and $j_{10}(r)$ symbolically.  Assign these expressions to the Python variables `j0`, `j1` and `j10` respectively. \n",
    "\n",
    "Hint: Use `r = sym.symbols(\"r\", positive=True)`"
   ]
  },
  {
   "cell_type": "code",
   "execution_count": null,
   "metadata": {
    "checksum2": "9fa24b53f0cd786db4e39387325762a86e226acb141dffb5ab543c169232113e",
    "deletable": false,
    "nbgrader": {
     "checksum": "ad7aac0b7187d626ded9df0dcdaea65e",
     "grade": false,
     "grade_id": "cell-45b55dd491f24c7c",
     "locked": false,
     "schema_version": 1,
     "solution": true
    }
   },
   "outputs": [],
   "source": [
    "r = sym.symbols(\"r\", positive=True)\n",
    "# replace the following with correct expressions:\n",
    "j = sym.cos(sym.sqrt(r**2-2*r*t))/r\n",
    "\n",
    "j0 = j.diff(t,1)\n",
    "\n",
    "j1 = j.diff(t,2)\n",
    "\n",
    "j10 = j.diff(t,11)"
   ]
  },
  {
   "cell_type": "code",
   "execution_count": null,
   "metadata": {
    "checksum2": "9fa24b53f0cd786db4e39387325762a86e226acb141dffb5ab543c169232113e",
    "deletable": false,
    "editable": false,
    "nbgrader": {
     "checksum": "430298b98ebac21dcb4a7efecc7e9453",
     "grade": true,
     "grade_id": "cell-c2876ca3dcd8d621",
     "locked": true,
     "points": 1,
     "schema_version": 1,
     "solution": false
    }
   },
   "outputs": [],
   "source": [
    "assert(j0.limit(r,0)==1)\n",
    "assert(j1.limit(r,0)==0)\n",
    "assert(j10.limit(r,0)==0)"
   ]
  },
  {
   "cell_type": "markdown",
   "metadata": {
    "checksum2": "9fa24b53f0cd786db4e39387325762a86e226acb141dffb5ab543c169232113e"
   },
   "source": [
    "b) Plot $j_0(r)$, $j_1(r)$, and $j_{10}(r)$ for $r\\in (0,20]$. Limit the y-axis to the interval $[-1,1]$ and add an appropriate legend. "
   ]
  },
  {
   "cell_type": "code",
   "execution_count": null,
   "metadata": {
    "checksum2": "9fa24b53f0cd786db4e39387325762a86e226acb141dffb5ab543c169232113e",
    "deletable": false,
    "nbgrader": {
     "checksum": "9724846ca17ef33672845fe7342209c7",
     "grade": true,
     "grade_id": "cell-003449905489ae62",
     "locked": false,
     "points": 0.5,
     "schema_version": 1,
     "solution": true
    }
   },
   "outputs": [],
   "source": [
    "fj0 = sym.lambdify(r, j0.subs({t:0}))\n",
    "fj1 = sym.lambdify(r, j1.subs({t:0}))\n",
    "fj10 = sym.lambdify(r, j10.subs({t:0}))\n",
    "\n",
    "myx = np.linspace(0,20)\n",
    "\n",
    "plt.plot(myx, fj0(myx))\n",
    "plt.plot(myx, fj1(myx))\n",
    "plt.plot(myx, fj10(myx))\n",
    "\n",
    "\n",
    "plt.ylim(-1,1)\n",
    "\n",
    "plt.legend((\"j0(r)\",\"j1(r)\",\"j10(r)\"))"
   ]
  },
  {
   "cell_type": "markdown",
   "metadata": {
    "checksum2": "9fa24b53f0cd786db4e39387325762a86e226acb141dffb5ab543c169232113e"
   },
   "source": [
    "c) Show that $j_{10}(r)$ fulfills the equation\n",
    "\\begin{equation}\n",
    "r^{2}{\\frac {d^{2}j_{10}(r)}{dr^{2}}}+2r{\\frac {dj_{10}(r)}{dr}}+[r^{2}-10(10+1)]j_{10}(r)=0.\n",
    "\\end{equation}"
   ]
  },
  {
   "cell_type": "code",
   "execution_count": null,
   "metadata": {
    "checksum2": "9fa24b53f0cd786db4e39387325762a86e226acb141dffb5ab543c169232113e",
    "deletable": false,
    "nbgrader": {
     "checksum": "53aa9879cebc710e2a92c5bd6a30ac69",
     "grade": true,
     "grade_id": "cell-c0ab3af2e700a5ce",
     "locked": false,
     "points": 1,
     "schema_version": 1,
     "solution": true
    }
   },
   "outputs": [],
   "source": [
    "assert(sym.simplify(r**2*j10.diff(r,2) + 2*r*j10.diff(r,1) + (r**2-10*(10+1))*j10) == 0)"
   ]
  },
  {
   "cell_type": "markdown",
   "metadata": {
    "checksum2": "9fa24b53f0cd786db4e39387325762a86e226acb141dffb5ab543c169232113e"
   },
   "source": [
    "## Question 3: Integration"
   ]
  },
  {
   "cell_type": "markdown",
   "metadata": {
    "checksum2": "9fa24b53f0cd786db4e39387325762a86e226acb141dffb5ab543c169232113e"
   },
   "source": [
    "In the lecture we have introduced the Simpson method for integrating a function $f(x)$ over a given interval $[l,r]$. George Boole (the first Professor of Mathematics in Cork) suggested an alternative rule of integration. For a given $N$ (which is required to be divisible by 4) approximate the integral as follows\n",
    "\\begin{equation}\n",
    " \\int_l^r f(x)dx \\approx \n",
    "  \\frac{2h}{45}\\left[ 7 f_0 + 32 \\left(\\sum_{k=0}^{N/2-1} f_{2k+1}\\right) + 12 \\left(\\sum_{k=0}^{N/4-1} f_{4k+2}\\right)+ 14 \\left(\\sum_{k=1}^{N/4-1} f_{4k}\\right) + 7 f_N \\right]. \n",
    "\\end{equation} where $h=(r-l)/N$ and $f_k = f(l+kh)$ as for the Simpson rule.\n",
    "\n",
    "a) Write a python function `integrate_boole(f,(l,r),N)` which implements this rule. "
   ]
  },
  {
   "cell_type": "code",
   "execution_count": null,
   "metadata": {
    "checksum2": "9fa24b53f0cd786db4e39387325762a86e226acb141dffb5ab543c169232113e",
    "deletable": false,
    "nbgrader": {
     "checksum": "115a5edbea8e57a1ebf1f4df47abfe67",
     "grade": false,
     "grade_id": "1a",
     "locked": false,
     "schema_version": 1,
     "solution": true
    }
   },
   "outputs": [],
   "source": [
    "def integrate_boole(f,lr,N):\n",
    "    (l, r) = lr\n",
    "    h = (r-l)/N\n",
    "    xN = np.linspace(l, r, N+1)\n",
    "    fN = f(xN)\n",
    "    \n",
    "    return (2*h/45)*(7*fN[0] + 32*sum(fN[1:-1:2]) + 12*sum(fN[2:-1:4]) + 14*sum(fN[4:-1:4]) + 7*fN[-1])"
   ]
  },
  {
   "cell_type": "code",
   "execution_count": null,
   "metadata": {
    "checksum2": "9fa24b53f0cd786db4e39387325762a86e226acb141dffb5ab543c169232113e",
    "deletable": false,
    "editable": false,
    "nbgrader": {
     "checksum": "2712d3dd49ce5b8eaf1e27552d409e27",
     "grade": true,
     "grade_id": "cell-52394ca2ba6c6503",
     "locked": true,
     "points": 1,
     "schema_version": 1,
     "solution": false
    }
   },
   "outputs": [],
   "source": [
    "# Please do not delete this cell"
   ]
  },
  {
   "cell_type": "markdown",
   "metadata": {
    "checksum2": "9fa24b53f0cd786db4e39387325762a86e226acb141dffb5ab543c169232113e"
   },
   "source": [
    "b) Using `integrate_boole()` calculate an approximation for the integral\n",
    "\\begin{equation}\n",
    "\\int_0^{\\pi} \\sin(x)dx \n",
    "\\end{equation}\n",
    "\n",
    "Use $N=8$ and the \"lambda\" construction. Only one line of code is allowed in the following cell. Assign this number to the Python variable `sine_int`"
   ]
  },
  {
   "cell_type": "code",
   "execution_count": null,
   "metadata": {
    "checksum2": "9fa24b53f0cd786db4e39387325762a86e226acb141dffb5ab543c169232113e",
    "deletable": false,
    "nbgrader": {
     "checksum": "6c5bca0223f3bfc13f1bf5d45080ea84",
     "grade": false,
     "grade_id": "1b",
     "locked": false,
     "schema_version": 1,
     "solution": true
    }
   },
   "outputs": [],
   "source": [
    "sine_int = integrate_boole(sym.lambdify(x, sym.sin(x)), (0,np.pi), 8)\n",
    "sine_int"
   ]
  },
  {
   "cell_type": "code",
   "execution_count": null,
   "metadata": {},
   "outputs": [],
   "source": [
    "sym.integrate(sym.sin(x), (x,0,np.pi))"
   ]
  },
  {
   "cell_type": "code",
   "execution_count": null,
   "metadata": {
    "checksum2": "9fa24b53f0cd786db4e39387325762a86e226acb141dffb5ab543c169232113e",
    "deletable": false,
    "editable": false,
    "nbgrader": {
     "checksum": "a8b14c0862496810c84eb91a3625b908",
     "grade": true,
     "grade_id": "cell-bbedff065c396a1c",
     "locked": true,
     "points": 0.75,
     "schema_version": 1,
     "solution": false
    }
   },
   "outputs": [],
   "source": [
    "np.testing.assert_allclose(sine_int, 2,rtol=1e-2)"
   ]
  },
  {
   "cell_type": "markdown",
   "metadata": {
    "checksum2": "9fa24b53f0cd786db4e39387325762a86e226acb141dffb5ab543c169232113e"
   },
   "source": [
    "c) Now consider a more interesting function given in python notation as\n",
    "\n",
    "    def f(x):\n",
    "        return x*np.sin(x)/(1+np.cos(x)**2)\n",
    "\n",
    "Plot this function in the interval from $0$ to $\\pi$. "
   ]
  },
  {
   "cell_type": "code",
   "execution_count": null,
   "metadata": {
    "checksum2": "9fa24b53f0cd786db4e39387325762a86e226acb141dffb5ab543c169232113e",
    "deletable": false,
    "nbgrader": {
     "checksum": "9cec58a78bddaf67fc693ad209aafcd7",
     "grade": true,
     "grade_id": "1c",
     "locked": false,
     "points": 0.5,
     "schema_version": 1,
     "solution": true
    }
   },
   "outputs": [],
   "source": [
    "def f(x):\n",
    "    return x*np.sin(x)/(1+np.cos(x)**2)\n",
    "\n",
    "myx = np.linspace(0, np.pi)\n",
    "\n",
    "plt.plot(myx, f(myx))"
   ]
  },
  {
   "cell_type": "markdown",
   "metadata": {
    "checksum2": "9fa24b53f0cd786db4e39387325762a86e226acb141dffb5ab543c169232113e"
   },
   "source": [
    "d) It is analytically known that \n",
    "\\begin{equation}\n",
    "\\int_0^\\pi f(x)dx = \\frac{\\pi^2}{4}\n",
    "\\end{equation}\n",
    "\n",
    "What approximate value do you obtain for this integral using `integrate_boole()` and `N=8`? What is the relative error of value?"
   ]
  },
  {
   "cell_type": "code",
   "execution_count": null,
   "metadata": {
    "checksum2": "9fa24b53f0cd786db4e39387325762a86e226acb141dffb5ab543c169232113e",
    "deletable": false,
    "nbgrader": {
     "checksum": "e4dd57aaeed5f90a211aeda0294c60ac",
     "grade": true,
     "grade_id": "1d",
     "locked": false,
     "points": 0.25,
     "schema_version": 1,
     "solution": true
    }
   },
   "outputs": [],
   "source": [
    "f_approx = integrate_boole(f, (0,np.pi),8)\n",
    "f_exact = np.pi**2/4\n",
    "relerror = abs((f_approx-f_exact)/f_exact)\n",
    "print(\"The approx value is:\", f_approx)\n",
    "print(\"relative error is:\", relerror)"
   ]
  },
  {
   "cell_type": "markdown",
   "metadata": {
    "checksum2": "9fa24b53f0cd786db4e39387325762a86e226acb141dffb5ab543c169232113e"
   },
   "source": [
    "e) Calculate the relative error for the values $N=8, 20, 40, 100, 200, 400, 1000, 2000, 4000$. Present your result in the form of a graph, where the relative error is plotted against $N$ using red dots. Use log scale for both axes and label them."
   ]
  },
  {
   "cell_type": "code",
   "execution_count": null,
   "metadata": {
    "checksum2": "9fa24b53f0cd786db4e39387325762a86e226acb141dffb5ab543c169232113e",
    "deletable": false,
    "nbgrader": {
     "checksum": "fddc86e37c38befb3d82521ac626c0b4",
     "grade": true,
     "grade_id": "1e",
     "locked": false,
     "points": 0.5,
     "schema_version": 1,
     "solution": true
    }
   },
   "outputs": [],
   "source": [
    "N_values = np.array([8,20,40,100,200,400,1000,2000,4000])\n",
    "\n",
    "for N in N_values:\n",
    "    f_approx_graph = integrate_boole(f, (0,np.pi), N)\n",
    "    relerror_graph = abs((f_approx_graph-f_exact)/f_exact)\n",
    "    \n",
    "    plt.loglog(N,relerror_graph, 'ro')\n",
    "    \n",
    "    \n",
    "plt.xlabel(\"N value\")\n",
    "plt.ylabel(\"relative error\")"
   ]
  },
  {
   "cell_type": "markdown",
   "metadata": {
    "checksum2": "9fa24b53f0cd786db4e39387325762a86e226acb141dffb5ab543c169232113e"
   },
   "source": [
    "f) What is the order of convergence of `integrate_boole()`? Find out be adding appropriate plots of $1/N^d$ to the last graph."
   ]
  },
  {
   "cell_type": "code",
   "execution_count": null,
   "metadata": {
    "checksum2": "9fa24b53f0cd786db4e39387325762a86e226acb141dffb5ab543c169232113e",
    "deletable": false,
    "nbgrader": {
     "checksum": "e6e8c08cbf96ebcdfc061ef6aa44add3",
     "grade": true,
     "grade_id": "1f",
     "locked": false,
     "points": 0.5,
     "schema_version": 1,
     "solution": true
    }
   },
   "outputs": [],
   "source": [
    "N_values = np.array([8,20,40,100,200,400,1000,2000,4000])\n",
    "\n",
    "for N in N_values:\n",
    "    f_approx_graph = integrate_boole(f, (0,np.pi), N)\n",
    "    relerror_graph = abs((f_approx_graph-f_exact)/f_exact)\n",
    "    \n",
    "    plt.loglog(N,relerror_graph, 'ro')\n",
    "\n",
    "    \n",
    "    \n",
    "plt.xlabel(\"N value\")\n",
    "plt.ylabel(\"relative error\")\n",
    "\n",
    "plt.plot(N_values, N_values**(-2.0))\n",
    "plt.plot(N_values, N_values**(-3.0))\n",
    "plt.plot(N_values, N_values**(-4.0))\n",
    "plt.plot(N_values, N_values**(-5.0))\n",
    "plt.plot(N_values, N_values**(-6.0))\n",
    "\n",
    "print(\"The order of convergence is 6\")"
   ]
  },
  {
   "cell_type": "markdown",
   "metadata": {
    "checksum2": "9fa24b53f0cd786db4e39387325762a86e226acb141dffb5ab543c169232113e"
   },
   "source": [
    "g) In practice it is a nuisance that we have to specify `N` when we want to integrate a given function. Instead one would prefer to have a function `integrate_boole_eps(f,lr,eps)`, which takes as one of it's argument `eps` the desired relative error.  The algorithm itself should then be able to decide, how many intervals `N` are required to obtain a required accuracy `eps`. \n",
    "\n",
    "Implement a function `integrate_boole_eps(f,lr,eps)` which uses the following strategy to calculate the integral with precision `eps`\n",
    "\n",
    "1. Calculate `integrate_boole(f,lr,N)` for `N` equals 8 and 16. If the relative difference between these two results is less than `eps` return the result for `N=16`. \n",
    "2. Else calculate `integrate_boole(f,lr,N)` for `N=32`. If the relative difference between this result and the one for `N=16` is less than `eps` return the result for `N=32`\n",
    "3. Go on successively doubling the number `N` and calculating `integrate_boole(f,(l,r),N)`. Whenever you find that the relative difference compared to the previous result has dropped below `eps`, return your most accurate result. \n",
    "4. Do not iterate beyond $N_{\\max}=2^{12}$. If you reach this many iterations without finding an accurate result, print out a warning and return the most accurate result obtained. \n"
   ]
  },
  {
   "cell_type": "code",
   "execution_count": null,
   "metadata": {
    "checksum2": "9fa24b53f0cd786db4e39387325762a86e226acb141dffb5ab543c169232113e",
    "deletable": false,
    "nbgrader": {
     "checksum": "6b67662f1441f67ab64e957f9548ef1b",
     "grade": false,
     "grade_id": "1g",
     "locked": false,
     "schema_version": 1,
     "solution": true
    }
   },
   "outputs": [],
   "source": [
    "def integrate_boole_eps(f, lr, eps):\n",
    "    n = 4\n",
    "    n_max = 12\n",
    "    \n",
    "    approx1 = integrate_boole(f, lr, 2**(n-1))\n",
    "    approx2 = integrate_boole(f, lr, 2**n)\n",
    "    \n",
    "    reldiff = abs(approx1-approx2)\n",
    "    min_reldiff = reldiff\n",
    "    n_min = n\n",
    "    \n",
    "    while(reldiff > eps and n<n_max):\n",
    "        n+=1\n",
    "        \n",
    "        approx1 = integrate_boole(f, lr, 2**(n-1))\n",
    "        approx2 = integrate_boole(f, lr, 2**n)\n",
    "        \n",
    "        reldiff = abs(approx1 - approx2)\n",
    "        \n",
    "        if reldiff < min_reldiff:\n",
    "            min_reldiff = reldiff\n",
    "            n_min = n\n",
    "        \n",
    "    if min_reldiff > eps:\n",
    "        return(\"Reached maximum of iterations! The smallest relative difference is: \"+ str(min_reldiff)+\" for N=\"+str(n_min))\n",
    "        \n",
    "    \n",
    "    return (\"The relative difference is: \"+str(reldiff)+\" for N=\"+str(n))\n",
    "\n",
    "        "
   ]
  },
  {
   "cell_type": "code",
   "execution_count": null,
   "metadata": {
    "checksum2": "9fa24b53f0cd786db4e39387325762a86e226acb141dffb5ab543c169232113e",
    "deletable": false,
    "editable": false,
    "nbgrader": {
     "checksum": "9447733ba52f8f1fb9ce370eef588eb2",
     "grade": true,
     "grade_id": "cell-e13a1ebf3baf2e30",
     "locked": true,
     "points": 0.75,
     "schema_version": 1,
     "solution": false
    }
   },
   "outputs": [],
   "source": [
    "# Please do not delete this cell"
   ]
  },
  {
   "cell_type": "markdown",
   "metadata": {
    "checksum2": "9fa24b53f0cd786db4e39387325762a86e226acb141dffb5ab543c169232113e"
   },
   "source": [
    "h) Test the function `integrate_boole_eps()`  by integrating `integrate_boole_eps(f,(0,np.pi),eps)` for `eps = 1e-5`, `1e-8`, `1e-12` and `1e-18`.  What are the actual relative errors in these cases?"
   ]
  },
  {
   "cell_type": "code",
   "execution_count": null,
   "metadata": {
    "checksum2": "9fa24b53f0cd786db4e39387325762a86e226acb141dffb5ab543c169232113e",
    "deletable": false,
    "nbgrader": {
     "checksum": "3ded4fd416797c63804d96e0644fc08c",
     "grade": true,
     "grade_id": "1h",
     "locked": false,
     "points": 0.25,
     "schema_version": 1,
     "solution": true
    }
   },
   "outputs": [],
   "source": [
    "integrate_boole_eps(f,(0,np.pi),1e-16)"
   ]
  },
  {
   "cell_type": "code",
   "execution_count": null,
   "metadata": {},
   "outputs": [],
   "source": []
  }
 ],
 "metadata": {
  "kernelspec": {
   "display_name": "Python 3",
   "language": "python",
   "name": "python3"
  },
  "language_info": {
   "codemirror_mode": {
    "name": "ipython",
    "version": 3
   },
   "file_extension": ".py",
   "mimetype": "text/x-python",
   "name": "python",
   "nbconvert_exporter": "python",
   "pygments_lexer": "ipython3",
   "version": "3.6.5"
  },
  "toc": {
   "nav_menu": {},
   "number_sections": true,
   "sideBar": true,
   "skip_h1_title": false,
   "title_cell": "Table of Contents",
   "title_sidebar": "Contents",
   "toc_cell": false,
   "toc_position": {},
   "toc_section_display": true,
   "toc_window_display": false
  },
  "varInspector": {
   "cols": {
    "lenName": 16,
    "lenType": 16,
    "lenVar": 40
   },
   "kernels_config": {
    "python": {
     "delete_cmd_postfix": "",
     "delete_cmd_prefix": "del ",
     "library": "var_list.py",
     "varRefreshCmd": "print(var_dic_list())"
    },
    "r": {
     "delete_cmd_postfix": ") ",
     "delete_cmd_prefix": "rm(",
     "library": "var_list.r",
     "varRefreshCmd": "cat(var_dic_list()) "
    }
   },
   "types_to_exclude": [
    "module",
    "function",
    "builtin_function_or_method",
    "instance",
    "_Feature"
   ],
   "window_display": false
  }
 },
 "nbformat": 4,
 "nbformat_minor": 1
}
