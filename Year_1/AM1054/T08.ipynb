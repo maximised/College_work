{
 "cells": [
  {
   "cell_type": "code",
   "execution_count": null,
   "metadata": {},
   "outputs": [],
   "source": [
    "# execute this cell before you start\n",
    "import numpy as np\n",
    "import matplotlib.pyplot as plt\n",
    "import sympy as sym\n",
    "\n",
    "sym.init_printing(use_latex=\"mathjax\")\n",
    "x, y, z, t = sym.symbols('x y z t')\n",
    "\n",
    "from ipywidgets import interact\n",
    "from IPython.display import display"
   ]
  },
  {
   "cell_type": "markdown",
   "metadata": {},
   "source": [
    "# Q1 Approximate the Euler number $e$\n",
    "\n",
    "a) Approximate $e$ in Python using the formula \n",
    "\\begin{equation}\n",
    "   e = \\sum_{k=0}^\\infty \\frac{1}{k!} \\approx \\sum_{k=0}^{N} \\frac{1}{k!}.\n",
    "\\end{equation} \n",
    "How does the error of the approximation depend on $N$?"
   ]
  },
  {
   "cell_type": "code",
   "execution_count": null,
   "metadata": {
    "deletable": false,
    "nbgrader": {
     "checksum": "8c4c050b2119bb32717a4b71128896a6",
     "grade": true,
     "grade_id": "cell-bb2a2df2fccaf6f7",
     "locked": false,
     "points": 0,
     "schema_version": 1,
     "solution": true
    }
   },
   "outputs": [],
   "source": [
    "# YOUR CODE HERE\n",
    "raise NotImplementedError()"
   ]
  },
  {
   "cell_type": "markdown",
   "metadata": {},
   "source": [
    "b) Alternatively use \n",
    "\\begin{equation}\n",
    "   e = \\lim_{N \\to \\infty} \\left(1 + \\frac{1}{N} \\right)^N.\n",
    "\\end{equation} \n",
    "How big is the error for $N = 1, 10, 100, 1000, 10000,\\ldots, 10^{20} $? Explain this behaviour."
   ]
  },
  {
   "cell_type": "code",
   "execution_count": null,
   "metadata": {
    "deletable": false,
    "nbgrader": {
     "checksum": "7b22e1ddd9b72057dd844f124f4468b1",
     "grade": true,
     "grade_id": "cell-dde5ce46e7645671",
     "locked": false,
     "points": 0,
     "schema_version": 1,
     "solution": true
    }
   },
   "outputs": [],
   "source": [
    "# YOUR CODE HERE\n",
    "raise NotImplementedError()"
   ]
  },
  {
   "cell_type": "markdown",
   "metadata": {
    "deletable": false,
    "nbgrader": {
     "checksum": "e7d7f262923f413adb9ef4849b70cb4d",
     "grade": true,
     "grade_id": "cell-c5fe5c4226073795",
     "locked": false,
     "points": 0,
     "schema_version": 1,
     "solution": true
    }
   },
   "source": [
    "YOUR ANSWER HERE"
   ]
  },
  {
   "cell_type": "markdown",
   "metadata": {},
   "source": [
    "# Q2 Approximate $\\frac{1}{\\pi}$"
   ]
  },
  {
   "cell_type": "markdown",
   "metadata": {},
   "source": [
    "[Ramanujan](https://en.wikipedia.org/wiki/Srinivasa_Ramanujan) discovered a number of interesting formulas for $\\pi$ and $1/\\pi$, for example:\n",
    "\n",
    "\\begin{equation}\n",
    " {\\frac {1}{\\pi }}={\\frac {2{\\sqrt {2}}}{9801}}\\sum _{k=0}^{\\infty }{\\frac {(4k)!(1103+26390k)}{(k!)^{4}396^{4k}}}\n",
    "\\end{equation}\n",
    "\n",
    "Check, over how many iterations are required to calculate $\\pi$ with better than 16 digits accuracy. **Hint** After `import math` you can use `math.factorial(k)` to calculate $k!$ efficiently."
   ]
  },
  {
   "cell_type": "code",
   "execution_count": null,
   "metadata": {
    "deletable": false,
    "nbgrader": {
     "checksum": "251956f99a95fd371856f185b5898a01",
     "grade": true,
     "grade_id": "cell-57a39d793e61a9ee",
     "locked": false,
     "points": 0,
     "schema_version": 1,
     "solution": true
    }
   },
   "outputs": [],
   "source": [
    "# YOUR CODE HERE\n",
    "raise NotImplementedError()"
   ]
  },
  {
   "cell_type": "markdown",
   "metadata": {},
   "source": [
    "# Q3 The [Basel problem](https://en.wikipedia.org/wiki/Basel_problem)\n",
    "\n",
    "Consider the following series\n",
    "\\begin{align}\n",
    "S_n &=\\sum_{k=1}^n\\frac{1}{k^2} \\\\\n",
    "\\end{align}\n",
    "\n",
    "a) Write a function `S(n)` which implements $S_n$ in python by starting the summation at $k=1$.\n"
   ]
  },
  {
   "cell_type": "code",
   "execution_count": null,
   "metadata": {
    "deletable": false,
    "nbgrader": {
     "checksum": "95422ad0d055dbb83810dbfe0034eaf9",
     "grade": true,
     "grade_id": "cell-9966e930fffb4898",
     "locked": false,
     "points": 0,
     "schema_version": 1,
     "solution": true
    }
   },
   "outputs": [],
   "source": [
    "# YOUR CODE HERE\n",
    "raise NotImplementedError()"
   ]
  },
  {
   "cell_type": "markdown",
   "metadata": {},
   "source": [
    "b) Calculate $S_0$, $S_1$ and $S_{30}$ explicitly."
   ]
  },
  {
   "cell_type": "code",
   "execution_count": null,
   "metadata": {
    "deletable": false,
    "nbgrader": {
     "checksum": "241cb2403f9a5671ef3414488a289a71",
     "grade": true,
     "grade_id": "cell-062f5048f5219d8a",
     "locked": false,
     "points": 0,
     "schema_version": 1,
     "solution": true
    }
   },
   "outputs": [],
   "source": [
    "# YOUR CODE HERE\n",
    "raise NotImplementedError()"
   ]
  },
  {
   "cell_type": "markdown",
   "metadata": {},
   "source": [
    "c) It is claimed that \n",
    "\\begin{equation}\n",
    "\\lim_{n\\to \\infty} S_n = \\frac{\\pi^2}{6}\n",
    "\\end{equation}\n",
    "\n",
    "How well does $S_{3000}$ approximate $\\pi^2/6$? Calculate the absolute error $\\epsilon_\\mathrm{abs}(3000)$ and  the relative error $\\epsilon_\\mathrm{rel}(3000)$. "
   ]
  },
  {
   "cell_type": "code",
   "execution_count": null,
   "metadata": {
    "deletable": false,
    "nbgrader": {
     "checksum": "bfee3e85d0dc97c5ce3ed839d25e9ce4",
     "grade": true,
     "grade_id": "cell-4ed5e37143ad4db1",
     "locked": false,
     "points": 0,
     "schema_version": 1,
     "solution": true
    }
   },
   "outputs": [],
   "source": [
    "# YOUR CODE HERE\n",
    "raise NotImplementedError()"
   ]
  },
  {
   "cell_type": "markdown",
   "metadata": {},
   "source": [
    "d) Plot the relative error $\\epsilon_{\\mathrm{rel}}$ versus $n$ for $n=10,100,10^3,\\ldots,10^7$ using red dots.   Use a logarithmic scale for the x-axis and y-axis."
   ]
  },
  {
   "cell_type": "code",
   "execution_count": null,
   "metadata": {
    "deletable": false,
    "nbgrader": {
     "checksum": "d103fa8d71dd12b0be4c28f9261c446d",
     "grade": true,
     "grade_id": "cell-afddcd9fb42d7603",
     "locked": false,
     "points": 0,
     "schema_version": 1,
     "solution": true
    }
   },
   "outputs": [],
   "source": [
    "# YOUR CODE HERE\n",
    "raise NotImplementedError()"
   ]
  },
  {
   "cell_type": "code",
   "execution_count": null,
   "metadata": {},
   "outputs": [],
   "source": []
  }
 ],
 "metadata": {
  "kernelspec": {
   "display_name": "Python 3",
   "language": "python",
   "name": "python3"
  },
  "language_info": {
   "codemirror_mode": {
    "name": "ipython",
    "version": 3
   },
   "file_extension": ".py",
   "mimetype": "text/x-python",
   "name": "python",
   "nbconvert_exporter": "python",
   "pygments_lexer": "ipython3",
   "version": "3.7.1"
  }
 },
 "nbformat": 4,
 "nbformat_minor": 1
}
