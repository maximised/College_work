{
 "cells": [
  {
   "cell_type": "markdown",
   "metadata": {
    "checksum2": "9fa24b53f0cd786db4e39387325762a86e226acb141dffb5ab543c169232113e",
    "deletable": false,
    "editable": false,
    "nbgrader": {
     "checksum": "a965729daf3bf2a4012b420f63bd18fa",
     "grade": false,
     "grade_id": "cell-0228a5ff376f4d93",
     "locked": true,
     "schema_version": 1,
     "solution": false
    }
   },
   "source": [
    "# AM1054 Continuous Assessment 1"
   ]
  },
  {
   "cell_type": "code",
   "execution_count": null,
   "metadata": {
    "checksum2": "9fa24b53f0cd786db4e39387325762a86e226acb141dffb5ab543c169232113e",
    "deletable": false,
    "editable": false,
    "nbgrader": {
     "checksum": "55b6be45ddc0794febe7cf3887dce4b9",
     "grade": false,
     "grade_id": "cell-4062af99dd5255b7",
     "locked": true,
     "schema_version": 1,
     "solution": false
    }
   },
   "outputs": [],
   "source": [
    "# execute this cell before you start the assignment\n",
    "%matplotlib inline\n",
    "import numpy as np\n",
    "import matplotlib.pyplot as plt"
   ]
  },
  {
   "cell_type": "markdown",
   "metadata": {
    "checksum2": "9fa24b53f0cd786db4e39387325762a86e226acb141dffb5ab543c169232113e",
    "deletable": false,
    "editable": false,
    "nbgrader": {
     "checksum": "91d9b1da9179bd4806699e799e1102d7",
     "grade": false,
     "grade_id": "cell-5f2bc2b8e2966b6f",
     "locked": true,
     "schema_version": 1,
     "solution": false
    }
   },
   "source": [
    "Due Thursday 25 October 2018, 4pm. No late assignments will be accepted. Strictly individual (no team) solutions are required. \n",
    "\n",
    "Place your solution as file `CA1.ipynb` into the folder `AM1054\\CA1` of your `Z:` drive. \n",
    "\n",
    "Write `std_nr='11XXXXXXX'` (where 11XXXXXXX is your student number) into the next cell:"
   ]
  },
  {
   "cell_type": "code",
   "execution_count": null,
   "metadata": {
    "checksum2": "9fa24b53f0cd786db4e39387325762a86e226acb141dffb5ab543c169232113e",
    "deletable": false,
    "nbgrader": {
     "checksum": "094b0c245b6fed6520a44289d2b9daee",
     "grade": false,
     "grade_id": "stnr",
     "locked": false,
     "schema_version": 1,
     "solution": true
    }
   },
   "outputs": [],
   "source": [
    "# YOUR CODE HERE\n",
    "raise NotImplementedError()"
   ]
  },
  {
   "cell_type": "code",
   "execution_count": null,
   "metadata": {
    "checksum2": "9fa24b53f0cd786db4e39387325762a86e226acb141dffb5ab543c169232113e",
    "deletable": false,
    "editable": false,
    "nbgrader": {
     "checksum": "7bae4417cda9a6b20ba8bbf58ccd6697",
     "grade": true,
     "grade_id": "cell-7c82e818061b6421",
     "locked": true,
     "points": 0,
     "schema_version": 1,
     "solution": false
    }
   },
   "outputs": [],
   "source": [
    "assert(int(std_nr))"
   ]
  },
  {
   "cell_type": "markdown",
   "metadata": {
    "checksum2": "9fa24b53f0cd786db4e39387325762a86e226acb141dffb5ab543c169232113e",
    "deletable": false,
    "editable": false,
    "nbgrader": {
     "checksum": "a7c2139f8c554bb02e9b55d38b62cda0",
     "grade": false,
     "grade_id": "cell-af05607cbabb002e",
     "locked": true,
     "schema_version": 1,
     "solution": false
    }
   },
   "source": [
    "Write your solutions in the cell below each question. "
   ]
  },
  {
   "cell_type": "markdown",
   "metadata": {
    "checksum2": "9fa24b53f0cd786db4e39387325762a86e226acb141dffb5ab543c169232113e",
    "deletable": false,
    "editable": false,
    "nbgrader": {
     "checksum": "2994d90dd00884219d209c8e5062265c",
     "grade": false,
     "grade_id": "cell-d75237a886a0afc2",
     "locked": true,
     "schema_version": 1,
     "solution": false
    }
   },
   "source": [
    "# 1. The Henon Sequence"
   ]
  },
  {
   "cell_type": "markdown",
   "metadata": {
    "checksum2": "9fa24b53f0cd786db4e39387325762a86e226acb141dffb5ab543c169232113e",
    "deletable": false,
    "editable": false,
    "nbgrader": {
     "checksum": "55bdf6f15b1edb72f6aa07c26b685bcc",
     "grade": false,
     "grade_id": "cell-a79bad550659d880",
     "locked": true,
     "schema_version": 1,
     "solution": false
    }
   },
   "source": [
    "Consider the Henon sequence \n",
    "\n",
    "\\begin{equation}\n",
    "((x_0,y_0), (x_1,y_1), (x_2,y_2),\\ldots),\n",
    "\\end{equation}\n",
    "which consists of pairs of numbers, and is iteratively defined as follows:\n",
    "\n",
    "\\begin{align}\n",
    "x_0 &= 0\\\\\n",
    "y_0 &= 0\\\\\n",
    "x_{{n+1}}&=1-ax_{n}^{2}+y_{n}\n",
    "\\\\y_{{n+1}}&=bx_{n}.\n",
    "\\end{align}\n",
    "$a$ and $b$ are positive parameters.\n",
    "\n",
    "a) Write a Python function `henon_sequence(N, a=1.4, b=0.3)` which returns a list of the first $N$ pairs of the Henon sequence for the classical parameters $a=1.4$ and $b=0.3$. Calculate `henon_sequence(10)`. "
   ]
  },
  {
   "cell_type": "code",
   "execution_count": null,
   "metadata": {
    "checksum2": "9fa24b53f0cd786db4e39387325762a86e226acb141dffb5ab543c169232113e",
    "deletable": false,
    "nbgrader": {
     "checksum": "8885601345360003e25f4577ea8cbdbb",
     "grade": false,
     "grade_id": "4a",
     "locked": false,
     "schema_version": 1,
     "solution": true
    }
   },
   "outputs": [],
   "source": [
    "def henon_sequence(N, a=1.4, b=0.3):\n",
    "    # YOUR CODE HERE\n",
    "    raise NotImplementedError()\n"
   ]
  },
  {
   "cell_type": "code",
   "execution_count": null,
   "metadata": {
    "checksum2": "9fa24b53f0cd786db4e39387325762a86e226acb141dffb5ab543c169232113e",
    "deletable": false,
    "editable": false,
    "nbgrader": {
     "checksum": "7f2fac1697fa4e93452cf4a848a61f07",
     "grade": true,
     "grade_id": "cell-cb04af5990e7b859",
     "locked": true,
     "points": 1,
     "schema_version": 1,
     "solution": false
    }
   },
   "outputs": [],
   "source": [
    "np.testing.assert_allclose(henon_sequence(10)[-1],(1.1831385762027349, -0.08636135161151118))"
   ]
  },
  {
   "cell_type": "markdown",
   "metadata": {
    "checksum2": "9fa24b53f0cd786db4e39387325762a86e226acb141dffb5ab543c169232113e",
    "deletable": false,
    "editable": false,
    "nbgrader": {
     "checksum": "1122ac172a7e32dbc8d2297ea83352d9",
     "grade": false,
     "grade_id": "cell-20d8b5ec5e2c7143",
     "locked": true,
     "schema_version": 1,
     "solution": false
    }
   },
   "source": [
    "b) Plot the first 1000 pairs of the Henon sequence as red dots in an $x$-$y$ diagram. "
   ]
  },
  {
   "cell_type": "code",
   "execution_count": null,
   "metadata": {
    "checksum2": "9fa24b53f0cd786db4e39387325762a86e226acb141dffb5ab543c169232113e",
    "deletable": false,
    "nbgrader": {
     "checksum": "97d69aff610252fca69073900f40d251",
     "grade": true,
     "grade_id": "cell-3b7f24ec0699c517",
     "locked": false,
     "points": 1,
     "schema_version": 1,
     "solution": true
    }
   },
   "outputs": [],
   "source": [
    "# YOUR CODE HERE\n",
    "raise NotImplementedError()"
   ]
  },
  {
   "cell_type": "markdown",
   "metadata": {
    "checksum2": "9fa24b53f0cd786db4e39387325762a86e226acb141dffb5ab543c169232113e",
    "deletable": false,
    "editable": false,
    "nbgrader": {
     "checksum": "f3810ed3366261a9281a64d2839d4614",
     "grade": false,
     "grade_id": "cell-fe8c0930bd8a0de9",
     "locked": true,
     "schema_version": 1,
     "solution": false
    }
   },
   "source": [
    "c) Redo the last plot, and highlight the pair with the largest distance from the origin with a green square. "
   ]
  },
  {
   "cell_type": "code",
   "execution_count": null,
   "metadata": {
    "checksum2": "9fa24b53f0cd786db4e39387325762a86e226acb141dffb5ab543c169232113e",
    "deletable": false,
    "nbgrader": {
     "checksum": "62436bc81d601d6a933036b7d3db1f8d",
     "grade": true,
     "grade_id": "cell-e02b94ee655b0586",
     "locked": false,
     "points": 1,
     "schema_version": 1,
     "solution": true
    }
   },
   "outputs": [],
   "source": [
    "# YOUR CODE HERE\n",
    "raise NotImplementedError()"
   ]
  },
  {
   "cell_type": "markdown",
   "metadata": {
    "checksum2": "9fa24b53f0cd786db4e39387325762a86e226acb141dffb5ab543c169232113e",
    "deletable": false,
    "editable": false,
    "nbgrader": {
     "checksum": "af76b625c844810a171d9cc54f5b94a7",
     "grade": false,
     "grade_id": "cell-135f14bc202522a4",
     "locked": true,
     "schema_version": 1,
     "solution": false
    }
   },
   "source": [
    "d) Redo the last plot and add two sliders, which allow you to change `a` in the interval from 0 to 1.4 in steps of 0.02 and `b` from 0 to 0.3 in steps of 0.01."
   ]
  },
  {
   "cell_type": "code",
   "execution_count": null,
   "metadata": {
    "checksum2": "9fa24b53f0cd786db4e39387325762a86e226acb141dffb5ab543c169232113e",
    "deletable": false,
    "nbgrader": {
     "checksum": "053506ff30020ada33d33a8fa1f1f759",
     "grade": true,
     "grade_id": "cell-6fd479b5bb2383ca",
     "locked": false,
     "points": 0.5,
     "schema_version": 1,
     "solution": true
    }
   },
   "outputs": [],
   "source": [
    "# YOUR CODE HERE\n",
    "raise NotImplementedError()"
   ]
  },
  {
   "cell_type": "markdown",
   "metadata": {
    "checksum2": "9fa24b53f0cd786db4e39387325762a86e226acb141dffb5ab543c169232113e"
   },
   "source": [
    "# 2 Working with data files\n",
    "\n",
    "The file \"dat.csv\" contains three columns of data.  Do the following with this data:\n",
    "\n",
    "a) Generate a new file \"dat_new.csv\" with two columns: The first column is identical with the first column of \"dat.csv\" and the second column is the product of the last two columns of \"dat.csv\". "
   ]
  },
  {
   "cell_type": "code",
   "execution_count": null,
   "metadata": {
    "checksum2": "9fa24b53f0cd786db4e39387325762a86e226acb141dffb5ab543c169232113e",
    "deletable": false,
    "nbgrader": {
     "checksum": "9f12a112986043887d2b2dd14882cf47",
     "grade": false,
     "grade_id": "1ci",
     "locked": false,
     "schema_version": 1,
     "solution": true
    }
   },
   "outputs": [],
   "source": [
    "# YOUR CODE HERE\n",
    "raise NotImplementedError()"
   ]
  },
  {
   "cell_type": "code",
   "execution_count": null,
   "metadata": {
    "checksum2": "9fa24b53f0cd786db4e39387325762a86e226acb141dffb5ab543c169232113e",
    "deletable": false,
    "editable": false,
    "nbgrader": {
     "checksum": "c3f21f57771a05d1b752ed346a1a84bc",
     "grade": true,
     "grade_id": "cell-17ab538b5044910d",
     "locked": true,
     "points": 1,
     "schema_version": 1,
     "solution": false
    }
   },
   "outputs": [],
   "source": [
    "assert(np.genfromtxt(\"dat_new.csv\", delimiter=\",\").shape == (101,2))\n"
   ]
  },
  {
   "cell_type": "markdown",
   "metadata": {
    "checksum2": "9fa24b53f0cd786db4e39387325762a86e226acb141dffb5ab543c169232113e",
    "deletable": false,
    "editable": false,
    "nbgrader": {
     "checksum": "fed2ccb784f3e8f948d74de2b76008d0",
     "grade": false,
     "grade_id": "cell-c22d35ea7cace847",
     "locked": true,
     "schema_version": 1,
     "solution": false
    }
   },
   "source": [
    "b) Use Python to count the number of rows in `dat.csv`, where the abolute value of the last column is larger than the absolute value in the second column. Store this number in a variable called `count`"
   ]
  },
  {
   "cell_type": "code",
   "execution_count": null,
   "metadata": {
    "checksum2": "9fa24b53f0cd786db4e39387325762a86e226acb141dffb5ab543c169232113e",
    "deletable": false,
    "nbgrader": {
     "checksum": "8efb576144e2c57daffdb1c47bdd09f9",
     "grade": false,
     "grade_id": "1cii",
     "locked": false,
     "schema_version": 1,
     "solution": true
    }
   },
   "outputs": [],
   "source": [
    "# YOUR CODE HERE\n",
    "raise NotImplementedError()"
   ]
  },
  {
   "cell_type": "code",
   "execution_count": null,
   "metadata": {
    "checksum2": "9fa24b53f0cd786db4e39387325762a86e226acb141dffb5ab543c169232113e",
    "deletable": false,
    "editable": false,
    "nbgrader": {
     "checksum": "f6b756e6d9bca719a030291b1db15f15",
     "grade": true,
     "grade_id": "cell-3f32f14878426735",
     "locked": true,
     "points": 1,
     "schema_version": 1,
     "solution": false
    }
   },
   "outputs": [],
   "source": [
    "assert(count>0)"
   ]
  },
  {
   "cell_type": "markdown",
   "metadata": {
    "checksum2": "9fa24b53f0cd786db4e39387325762a86e226acb141dffb5ab543c169232113e",
    "deletable": false,
    "editable": false,
    "nbgrader": {
     "checksum": "e627ddcd99fa4ca8ebee363503989a82",
     "grade": false,
     "grade_id": "cell-df7bd86758f3c6c4",
     "locked": true,
     "schema_version": 1,
     "solution": false
    }
   },
   "source": [
    "c) Use one line of code to assign the first 5 rows of `dat.csv` in reverse order to an array named `fiverows`."
   ]
  },
  {
   "cell_type": "code",
   "execution_count": null,
   "metadata": {
    "checksum2": "9fa24b53f0cd786db4e39387325762a86e226acb141dffb5ab543c169232113e",
    "deletable": false,
    "nbgrader": {
     "checksum": "7c41d11bda9782cdbfcb0dd42ffe47bf",
     "grade": false,
     "grade_id": "1civ",
     "locked": false,
     "schema_version": 1,
     "solution": true
    }
   },
   "outputs": [],
   "source": [
    "# YOUR CODE HERE\n",
    "raise NotImplementedError()"
   ]
  },
  {
   "cell_type": "code",
   "execution_count": null,
   "metadata": {
    "checksum2": "9fa24b53f0cd786db4e39387325762a86e226acb141dffb5ab543c169232113e",
    "deletable": false,
    "editable": false,
    "nbgrader": {
     "checksum": "7477cd6309bd11cfcb3452946e2ac2e6",
     "grade": true,
     "grade_id": "cell-0f0de77adb930cf4",
     "locked": true,
     "points": 0.5,
     "schema_version": 1,
     "solution": false
    }
   },
   "outputs": [],
   "source": [
    "assert(len(fiverows)==5)"
   ]
  },
  {
   "cell_type": "markdown",
   "metadata": {
    "checksum2": "9fa24b53f0cd786db4e39387325762a86e226acb141dffb5ab543c169232113e"
   },
   "source": [
    "# Q3. Presentation Skills\n",
    "\n",
    "In the following links replace `xxx` with the last three digits of your student number.  \n",
    "\n",
    "1. http://arxiv.org/abs/1810.04XXX\n",
    "1. http://arxiv.org/abs/1810.03XXX\n",
    "1. http://arxiv.org/abs/1810.02XXX\n",
    "1. http://arxiv.org/abs/1810.01XXX\n",
    "1. http://arxiv.org/abs/1809.09XXX\n",
    "1. http://arxiv.org/abs/1809.08XXX\n",
    "1. http://arxiv.org/abs/1809.07XXX\n",
    "1. ....\n",
    "\n",
    "\n",
    "a) Open the paper in the first link and look at the section headings of this paper. Reproduce the outline structure of this paper, by copying the section headings into the cell below with the appropriate heading level. Also include title, abstract, references, etc. as appropriate (Note: only copy section headings, not any part of the main text.)"
   ]
  },
  {
   "cell_type": "markdown",
   "metadata": {
    "checksum2": "9fa24b53f0cd786db4e39387325762a86e226acb141dffb5ab543c169232113e",
    "deletable": false,
    "nbgrader": {
     "checksum": "8924493d94121c3a795bbe4160feadfb",
     "grade": true,
     "grade_id": "3a",
     "locked": false,
     "points": 0.5,
     "schema_version": 1,
     "solution": true
    }
   },
   "source": [
    "YOUR ANSWER HERE"
   ]
  },
  {
   "cell_type": "markdown",
   "metadata": {
    "checksum2": "9fa24b53f0cd786db4e39387325762a86e226acb141dffb5ab543c169232113e",
    "deletable": false,
    "editable": false,
    "nbgrader": {
     "checksum": "527a3868b41247109f43c2a642f69c73",
     "grade": false,
     "grade_id": "cell-a746bf2a6bd4462a",
     "locked": true,
     "schema_version": 1,
     "solution": false
    }
   },
   "source": [
    "b) Check through the papers in the links above and find mathematical formulas.  Reprodce them in the markdown cell below. Do this for a number of formulas, until you have at least 300 characters of latex code. Precisely state, which formulas you reproduce from which paper. "
   ]
  },
  {
   "cell_type": "markdown",
   "metadata": {
    "checksum2": "9fa24b53f0cd786db4e39387325762a86e226acb141dffb5ab543c169232113e",
    "deletable": false,
    "nbgrader": {
     "checksum": "ec55340b5c0b7c436901792d95f8f967",
     "grade": true,
     "grade_id": "3b",
     "locked": false,
     "points": 1.5,
     "schema_version": 1,
     "solution": true
    }
   },
   "source": [
    "YOUR ANSWER HERE"
   ]
  },
  {
   "cell_type": "markdown",
   "metadata": {
    "checksum2": "9fa24b53f0cd786db4e39387325762a86e226acb141dffb5ab543c169232113e",
    "deletable": false,
    "editable": false,
    "nbgrader": {
     "checksum": "fb98f1eb3638d5f0fb95926fc02a7f95",
     "grade": false,
     "grade_id": "cell-890199b111e0c22a",
     "locked": true,
     "schema_version": 1,
     "solution": false
    }
   },
   "source": [
    "c) Check through the papers in the links above and see, if any of them contains any two dimensional plots. If this is the case, choose one such plot, which contains either at least two different lines or at least two subplots. Reprodce the axes of the graph, including axis labels, correct range of axes. Plot some fake data with about 10 data points inside the graphs. The aim is to produce a graph, which at first sight looks roughly similar to the published plot. Precisely state, which graph you reproduce from which paper. "
   ]
  },
  {
   "cell_type": "code",
   "execution_count": null,
   "metadata": {
    "checksum2": "9fa24b53f0cd786db4e39387325762a86e226acb141dffb5ab543c169232113e",
    "deletable": false,
    "nbgrader": {
     "checksum": "615eb71c423c328cfa2a5a5c792b8951",
     "grade": true,
     "grade_id": "3d",
     "locked": false,
     "points": 2,
     "schema_version": 1,
     "solution": true
    }
   },
   "outputs": [],
   "source": [
    "# YOUR CODE HERE\n",
    "raise NotImplementedError()"
   ]
  }
 ],
 "metadata": {
  "kernelspec": {
   "display_name": "Python 3",
   "language": "python",
   "name": "python3"
  },
  "language_info": {
   "codemirror_mode": {
    "name": "ipython",
    "version": 3
   },
   "file_extension": ".py",
   "mimetype": "text/x-python",
   "name": "python",
   "nbconvert_exporter": "python",
   "pygments_lexer": "ipython3",
   "version": "3.7.0"
  }
 },
 "nbformat": 4,
 "nbformat_minor": 1
}
