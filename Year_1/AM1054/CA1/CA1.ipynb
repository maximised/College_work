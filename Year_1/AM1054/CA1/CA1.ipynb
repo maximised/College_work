{
 "cells": [
  {
   "cell_type": "markdown",
   "metadata": {
    "checksum2": "9fa24b53f0cd786db4e39387325762a86e226acb141dffb5ab543c169232113e",
    "deletable": false,
    "editable": false,
    "nbgrader": {
     "checksum": "a965729daf3bf2a4012b420f63bd18fa",
     "grade": false,
     "grade_id": "cell-0228a5ff376f4d93",
     "locked": true,
     "schema_version": 1,
     "solution": false
    }
   },
   "source": [
    "# AM1054 Continuous Assessment 1"
   ]
  },
  {
   "cell_type": "code",
   "execution_count": 109,
   "metadata": {
    "checksum2": "9fa24b53f0cd786db4e39387325762a86e226acb141dffb5ab543c169232113e",
    "deletable": false,
    "editable": false,
    "nbgrader": {
     "checksum": "55b6be45ddc0794febe7cf3887dce4b9",
     "grade": false,
     "grade_id": "cell-4062af99dd5255b7",
     "locked": true,
     "schema_version": 1,
     "solution": false
    }
   },
   "outputs": [],
   "source": [
    "# execute this cell before you start the assignment\n",
    "%matplotlib inline\n",
    "import numpy as np\n",
    "import matplotlib.pyplot as plt"
   ]
  },
  {
   "cell_type": "markdown",
   "metadata": {
    "checksum2": "9fa24b53f0cd786db4e39387325762a86e226acb141dffb5ab543c169232113e",
    "deletable": false,
    "editable": false,
    "nbgrader": {
     "checksum": "91d9b1da9179bd4806699e799e1102d7",
     "grade": false,
     "grade_id": "cell-5f2bc2b8e2966b6f",
     "locked": true,
     "schema_version": 1,
     "solution": false
    }
   },
   "source": [
    "Due Thursday 25 October 2018, 4pm. No late assignments will be accepted. Strictly individual (no team) solutions are required. \n",
    "\n",
    "Place your solution as file `CA1.ipynb` into the folder `AM1054\\CA1` of your `Z:` drive. \n",
    "\n",
    "Write `std_nr='11XXXXXXX'` (where 11XXXXXXX is your student number) into the next cell:"
   ]
  },
  {
   "cell_type": "code",
   "execution_count": 110,
   "metadata": {
    "checksum2": "9fa24b53f0cd786db4e39387325762a86e226acb141dffb5ab543c169232113e",
    "deletable": false,
    "nbgrader": {
     "checksum": "094b0c245b6fed6520a44289d2b9daee",
     "grade": false,
     "grade_id": "stnr",
     "locked": false,
     "schema_version": 1,
     "solution": true
    }
   },
   "outputs": [],
   "source": [
    "std_nr='118364841'"
   ]
  },
  {
   "cell_type": "code",
   "execution_count": 111,
   "metadata": {
    "checksum2": "9fa24b53f0cd786db4e39387325762a86e226acb141dffb5ab543c169232113e",
    "deletable": false,
    "editable": false,
    "nbgrader": {
     "checksum": "7bae4417cda9a6b20ba8bbf58ccd6697",
     "grade": true,
     "grade_id": "cell-7c82e818061b6421",
     "locked": true,
     "points": 0,
     "schema_version": 1,
     "solution": false
    }
   },
   "outputs": [],
   "source": [
    "assert(int(std_nr))"
   ]
  },
  {
   "cell_type": "markdown",
   "metadata": {
    "checksum2": "9fa24b53f0cd786db4e39387325762a86e226acb141dffb5ab543c169232113e",
    "deletable": false,
    "editable": false,
    "nbgrader": {
     "checksum": "a7c2139f8c554bb02e9b55d38b62cda0",
     "grade": false,
     "grade_id": "cell-af05607cbabb002e",
     "locked": true,
     "schema_version": 1,
     "solution": false
    }
   },
   "source": [
    "Write your solutions in the cell below each question. "
   ]
  },
  {
   "cell_type": "markdown",
   "metadata": {
    "checksum2": "9fa24b53f0cd786db4e39387325762a86e226acb141dffb5ab543c169232113e",
    "deletable": false,
    "editable": false,
    "nbgrader": {
     "checksum": "2994d90dd00884219d209c8e5062265c",
     "grade": false,
     "grade_id": "cell-d75237a886a0afc2",
     "locked": true,
     "schema_version": 1,
     "solution": false
    }
   },
   "source": [
    "# 1. The Henon Sequence"
   ]
  },
  {
   "cell_type": "markdown",
   "metadata": {
    "checksum2": "9fa24b53f0cd786db4e39387325762a86e226acb141dffb5ab543c169232113e",
    "deletable": false,
    "editable": false,
    "nbgrader": {
     "checksum": "55bdf6f15b1edb72f6aa07c26b685bcc",
     "grade": false,
     "grade_id": "cell-a79bad550659d880",
     "locked": true,
     "schema_version": 1,
     "solution": false
    }
   },
   "source": [
    "Consider the Henon sequence \n",
    "\n",
    "\\begin{equation}\n",
    "((x_0,y_0), (x_1,y_1), (x_2,y_2),\\ldots),\n",
    "\\end{equation}\n",
    "which consists of pairs of numbers, and is iteratively defined as follows:\n",
    "\n",
    "\\begin{align}\n",
    "x_0 &= 0\\\\\n",
    "y_0 &= 0\\\\\n",
    "x_{{n+1}}&=1-ax_{n}^{2}+y_{n}\n",
    "\\\\y_{{n+1}}&=bx_{n}.\n",
    "\\end{align}\n",
    "$a$ and $b$ are positive parameters.\n",
    "\n",
    "a) Write a Python function `henon_sequence(N, a=1.4, b=0.3)` which returns a list of the first $N$ pairs of the Henon sequence for the classical parameters $a=1.4$ and $b=0.3$. Calculate `henon_sequence(10)`. "
   ]
  },
  {
   "cell_type": "code",
   "execution_count": 112,
   "metadata": {
    "checksum2": "9fa24b53f0cd786db4e39387325762a86e226acb141dffb5ab543c169232113e",
    "deletable": false,
    "nbgrader": {
     "checksum": "8885601345360003e25f4577ea8cbdbb",
     "grade": false,
     "grade_id": "4a",
     "locked": false,
     "schema_version": 1,
     "solution": true
    }
   },
   "outputs": [
    {
     "data": {
      "text/plain": [
       "[[0, 0],\n",
       " [1.0, 0.0],\n",
       " [-0.3999999999999999, 0.3],\n",
       " [1.076, -0.11999999999999997],\n",
       " [-0.7408864000000001, 0.32280000000000003],\n",
       " [0.554322279213056, -0.22226592],\n",
       " [0.3475516150752599, 0.1662966837639168],\n",
       " [0.9971877085659265, 0.10426548452257796],\n",
       " [-0.2878711720383706, 0.2991563125697779],\n",
       " [1.1831385762027349, -0.08636135161151118]]"
      ]
     },
     "execution_count": 112,
     "metadata": {},
     "output_type": "execute_result"
    }
   ],
   "source": [
    "def henon_sequence(N, a=1.4, b=0.3):\n",
    "    x, y = 0,0\n",
    "    seq = []\n",
    "    for i in range(N):\n",
    "        seq.append([x, y])\n",
    "        x, y = 1-a*x**2+y, b*x\n",
    "    \n",
    "    return(seq)\n",
    "\n",
    "henon_sequence(10)\n",
    "        \n",
    "\n"
   ]
  },
  {
   "cell_type": "code",
   "execution_count": 113,
   "metadata": {
    "checksum2": "9fa24b53f0cd786db4e39387325762a86e226acb141dffb5ab543c169232113e",
    "deletable": false,
    "editable": false,
    "nbgrader": {
     "checksum": "7f2fac1697fa4e93452cf4a848a61f07",
     "grade": true,
     "grade_id": "cell-cb04af5990e7b859",
     "locked": true,
     "points": 1,
     "schema_version": 1,
     "solution": false
    }
   },
   "outputs": [],
   "source": [
    "np.testing.assert_allclose(henon_sequence(10)[-1],(1.1831385762027349, -0.08636135161151118))"
   ]
  },
  {
   "cell_type": "markdown",
   "metadata": {
    "checksum2": "9fa24b53f0cd786db4e39387325762a86e226acb141dffb5ab543c169232113e",
    "deletable": false,
    "editable": false,
    "nbgrader": {
     "checksum": "1122ac172a7e32dbc8d2297ea83352d9",
     "grade": false,
     "grade_id": "cell-20d8b5ec5e2c7143",
     "locked": true,
     "schema_version": 1,
     "solution": false
    }
   },
   "source": [
    "b) Plot the first 1000 pairs of the Henon sequence as red dots in an $x$-$y$ diagram. "
   ]
  },
  {
   "cell_type": "code",
   "execution_count": 114,
   "metadata": {
    "checksum2": "9fa24b53f0cd786db4e39387325762a86e226acb141dffb5ab543c169232113e",
    "deletable": false,
    "nbgrader": {
     "checksum": "97d69aff610252fca69073900f40d251",
     "grade": true,
     "grade_id": "cell-3b7f24ec0699c517",
     "locked": false,
     "points": 1,
     "schema_version": 1,
     "solution": true
    }
   },
   "outputs": [
    {
     "data": {
      "text/plain": [
       "[<matplotlib.lines.Line2D at 0x1877eb0>]"
      ]
     },
     "execution_count": 114,
     "metadata": {},
     "output_type": "execute_result"
    },
    {
     "data": {
      "image/png": "[encoded data removed]",
      "text/plain": [
       "<Figure size 432x288 with 1 Axes>"
      ]
     },
     "metadata": {
      "needs_background": "light"
     },
     "output_type": "display_data"
    }
   ],
   "source": [
    "seq = np.array(henon_sequence(1000))\n",
    "x = seq[:,0]\n",
    "y = seq[:,1]\n",
    "\n",
    "\n",
    "plt.plot(x, y, 'r.')\n",
    "\n"
   ]
  },
  {
   "cell_type": "markdown",
   "metadata": {
    "checksum2": "9fa24b53f0cd786db4e39387325762a86e226acb141dffb5ab543c169232113e",
    "deletable": false,
    "editable": false,
    "nbgrader": {
     "checksum": "f3810ed3366261a9281a64d2839d4614",
     "grade": false,
     "grade_id": "cell-fe8c0930bd8a0de9",
     "locked": true,
     "schema_version": 1,
     "solution": false
    }
   },
   "source": [
    "c) Redo the last plot, and highlight the pair with the largest distance from the origin with a green square. "
   ]
  },
  {
   "cell_type": "code",
   "execution_count": 115,
   "metadata": {
    "checksum2": "9fa24b53f0cd786db4e39387325762a86e226acb141dffb5ab543c169232113e",
    "deletable": false,
    "nbgrader": {
     "checksum": "62436bc81d601d6a933036b7d3db1f8d",
     "grade": true,
     "grade_id": "cell-e02b94ee655b0586",
     "locked": false,
     "points": 1,
     "schema_version": 1,
     "solution": true
    }
   },
   "outputs": [
    {
     "data": {
      "text/plain": [
       "[<matplotlib.lines.Line2D at 0x18be0f0>]"
      ]
     },
     "execution_count": 115,
     "metadata": {},
     "output_type": "execute_result"
    },
    {
     "data": {
      "image/png": "[encoded data removed]",
      "text/plain": [
       "<Figure size 432x288 with 1 Axes>"
      ]
     },
     "metadata": {
      "needs_background": "light"
     },
     "output_type": "display_data"
    }
   ],
   "source": [
    "plt.plot(x, y, 'r.')\n",
    "\n",
    "\n",
    "dist = 0\n",
    "for i in range(len(x)):\n",
    "    if (x[i]**2 + y[i]**2)>dist:\n",
    "        dist = x[i]**2+y[i]**2\n",
    "        pos = i\n",
    "\n",
    "\n",
    "plt.plot(x[pos], y[pos], 'gs')\n",
    "    "
   ]
  },
  {
   "cell_type": "markdown",
   "metadata": {
    "checksum2": "9fa24b53f0cd786db4e39387325762a86e226acb141dffb5ab543c169232113e",
    "deletable": false,
    "editable": false,
    "nbgrader": {
     "checksum": "af76b625c844810a171d9cc54f5b94a7",
     "grade": false,
     "grade_id": "cell-135f14bc202522a4",
     "locked": true,
     "schema_version": 1,
     "solution": false
    }
   },
   "source": [
    "d) Redo the last plot and add two sliders, which allow you to change `a` in the interval from 0 to 1.4 in steps of 0.02 and `b` from 0 to 0.3 in steps of 0.01."
   ]
  },
  {
   "cell_type": "code",
   "execution_count": 117,
   "metadata": {
    "checksum2": "9fa24b53f0cd786db4e39387325762a86e226acb141dffb5ab543c169232113e",
    "deletable": false,
    "nbgrader": {
     "checksum": "053506ff30020ada33d33a8fa1f1f759",
     "grade": true,
     "grade_id": "cell-6fd479b5bb2383ca",
     "locked": false,
     "points": 0.5,
     "schema_version": 1,
     "solution": true
    }
   },
   "outputs": [
    {
     "data": {
      "application/vnd.jupyter.widget-view+json": {
       "model_id": "4f8863b0d5bc4b4b898e935952e175c2",
       "version_major": 2,
       "version_minor": 0
      },
      "text/plain": [
       "interactive(children=(FloatSlider(value=1.4, description='a', max=1.4, step=0.02), FloatSlider(value=0.3, desc…"
      ]
     },
     "metadata": {},
     "output_type": "display_data"
    }
   ],
   "source": [
    "from ipywidgets import interact\n",
    "\n",
    "@interact( a=(0.00,1.4, 0.02),b=(0.00,0.3, 0.01))\n",
    "\n",
    "def henon_sequence2(a=1.4, b=0.3):\n",
    "    x, y = 0,0\n",
    "    seq = []\n",
    "    for i in range(1000):\n",
    "        seq.append([x, y])\n",
    "        x, y=1-a*x**2+y, b*x\n",
    "\n",
    "   \n",
    "    seq=np.array(seq)\n",
    "    \n",
    "    \n",
    "    \n",
    "    x_plot = seq[:,0]\n",
    "    y_plot = seq[:,1]\n",
    "\n",
    "    plt.plot(x_plot, y_plot, 'r.')\n",
    "    \n",
    "    \n",
    "    dist = 0\n",
    "    for i in range(len(x_plot)):\n",
    "        if (x_plot[i]**2 + y_plot[i]**2)>dist:\n",
    "            dist = x_plot[i]**2+y_plot[i]**2\n",
    "            pos = i\n",
    "    \n",
    "   \n",
    "    plt.plot(x_plot[pos], y_plot[pos], 'gs')"
   ]
  },
  {
   "cell_type": "markdown",
   "metadata": {
    "checksum2": "9fa24b53f0cd786db4e39387325762a86e226acb141dffb5ab543c169232113e"
   },
   "source": [
    "# 2 Working with data files\n",
    "\n",
    "The file \"dat.csv\" contains three columns of data.  Do the following with this data:\n",
    "\n",
    "a) Generate a new file \"dat_new.csv\" with two columns: The first column is identical with the first column of \"dat.csv\" and the second column is the product of the last two columns of \"dat.csv\". "
   ]
  },
  {
   "cell_type": "code",
   "execution_count": 118,
   "metadata": {
    "checksum2": "9fa24b53f0cd786db4e39387325762a86e226acb141dffb5ab543c169232113e",
    "deletable": false,
    "nbgrader": {
     "checksum": "9f12a112986043887d2b2dd14882cf47",
     "grade": false,
     "grade_id": "1ci",
     "locked": false,
     "schema_version": 1,
     "solution": true
    }
   },
   "outputs": [],
   "source": [
    "dat_new = np.genfromtxt('dat.csv', delimiter=',')\n",
    "\n",
    "dat_new[:,1]= dat_new[:,1]*dat_new[:,2]\n",
    "data=[]\n",
    "\n",
    "for i in dat_new:\n",
    "    data.append([i[0], i[1]])\n",
    "    \n",
    "\n",
    "np.savetxt('dat_new.csv', data, delimiter=',')"
   ]
  },
  {
   "cell_type": "code",
   "execution_count": 119,
   "metadata": {
    "checksum2": "9fa24b53f0cd786db4e39387325762a86e226acb141dffb5ab543c169232113e",
    "deletable": false,
    "editable": false,
    "nbgrader": {
     "checksum": "c3f21f57771a05d1b752ed346a1a84bc",
     "grade": true,
     "grade_id": "cell-17ab538b5044910d",
     "locked": true,
     "points": 1,
     "schema_version": 1,
     "solution": false
    }
   },
   "outputs": [],
   "source": [
    "assert(np.genfromtxt(\"dat_new.csv\", delimiter=\",\").shape == (101,2))\n"
   ]
  },
  {
   "cell_type": "markdown",
   "metadata": {
    "checksum2": "9fa24b53f0cd786db4e39387325762a86e226acb141dffb5ab543c169232113e",
    "deletable": false,
    "editable": false,
    "nbgrader": {
     "checksum": "fed2ccb784f3e8f948d74de2b76008d0",
     "grade": false,
     "grade_id": "cell-c22d35ea7cace847",
     "locked": true,
     "schema_version": 1,
     "solution": false
    }
   },
   "source": [
    "b) Use Python to count the number of rows in `dat.csv`, where the abolute value of the last column is larger than the absolute value in the second column. Store this number in a variable called `count`"
   ]
  },
  {
   "cell_type": "code",
   "execution_count": 120,
   "metadata": {
    "checksum2": "9fa24b53f0cd786db4e39387325762a86e226acb141dffb5ab543c169232113e",
    "deletable": false,
    "nbgrader": {
     "checksum": "8efb576144e2c57daffdb1c47bdd09f9",
     "grade": false,
     "grade_id": "1cii",
     "locked": false,
     "schema_version": 1,
     "solution": true
    }
   },
   "outputs": [
    {
     "name": "stdout",
     "output_type": "stream",
     "text": [
      "81\n"
     ]
    }
   ],
   "source": [
    "dat_count = np.genfromtxt('dat.csv', delimiter=',')\n",
    "count = 0\n",
    "for row in dat_count[:-1]:\n",
    "    if abs(row[1]) < abs(dat_count[-1][1]):\n",
    "        count+=1\n",
    "print(count)"
   ]
  },
  {
   "cell_type": "code",
   "execution_count": 121,
   "metadata": {
    "checksum2": "9fa24b53f0cd786db4e39387325762a86e226acb141dffb5ab543c169232113e",
    "deletable": false,
    "editable": false,
    "nbgrader": {
     "checksum": "f6b756e6d9bca719a030291b1db15f15",
     "grade": true,
     "grade_id": "cell-3f32f14878426735",
     "locked": true,
     "points": 1,
     "schema_version": 1,
     "solution": false
    }
   },
   "outputs": [],
   "source": [
    "assert(count>0)"
   ]
  },
  {
   "cell_type": "markdown",
   "metadata": {
    "checksum2": "9fa24b53f0cd786db4e39387325762a86e226acb141dffb5ab543c169232113e",
    "deletable": false,
    "editable": false,
    "nbgrader": {
     "checksum": "e627ddcd99fa4ca8ebee363503989a82",
     "grade": false,
     "grade_id": "cell-df7bd86758f3c6c4",
     "locked": true,
     "schema_version": 1,
     "solution": false
    }
   },
   "source": [
    "c) Use one line of code to assign the first 5 rows of `dat.csv` in reverse order to an array named `fiverows`."
   ]
  },
  {
   "cell_type": "code",
   "execution_count": 122,
   "metadata": {
    "checksum2": "9fa24b53f0cd786db4e39387325762a86e226acb141dffb5ab543c169232113e",
    "deletable": false,
    "nbgrader": {
     "checksum": "7c41d11bda9782cdbfcb0dd42ffe47bf",
     "grade": false,
     "grade_id": "1civ",
     "locked": false,
     "schema_version": 1,
     "solution": true
    }
   },
   "outputs": [],
   "source": [
    "fiverows = [row for row in np.genfromtxt('dat.csv',delimiter=',')[4::-1]]"
   ]
  },
  {
   "cell_type": "code",
   "execution_count": 123,
   "metadata": {
    "checksum2": "9fa24b53f0cd786db4e39387325762a86e226acb141dffb5ab543c169232113e",
    "deletable": false,
    "editable": false,
    "nbgrader": {
     "checksum": "7477cd6309bd11cfcb3452946e2ac2e6",
     "grade": true,
     "grade_id": "cell-0f0de77adb930cf4",
     "locked": true,
     "points": 0.5,
     "schema_version": 1,
     "solution": false
    }
   },
   "outputs": [],
   "source": [
    "assert(len(fiverows)==5)"
   ]
  },
  {
   "cell_type": "markdown",
   "metadata": {
    "checksum2": "9fa24b53f0cd786db4e39387325762a86e226acb141dffb5ab543c169232113e"
   },
   "source": [
    "# Q3. Presentation Skills\n",
    "\n",
    "In the following links replace `xxx` with the last three digits of your student number.  \n",
    "\n",
    "1. http://arxiv.org/abs/1810.04XXX\n",
    "1. http://arxiv.org/abs/1810.03XXX\n",
    "1. http://arxiv.org/abs/1810.02XXX\n",
    "1. http://arxiv.org/abs/1810.01XXX\n",
    "1. http://arxiv.org/abs/1809.09XXX\n",
    "1. http://arxiv.org/abs/1809.08XXX\n",
    "1. http://arxiv.org/abs/1809.07XXX\n",
    "1. ....\n",
    "\n",
    "\n",
    "a) Open the paper in the first link and look at the section headings of this paper. Reproduce the outline structure of this paper, by copying the section headings into the cell below with the appropriate heading level. Also include title, abstract, references, etc. as appropriate (Note: only copy section headings, not any part of the main text.)"
   ]
  },
  {
   "cell_type": "markdown",
   "metadata": {
    "checksum2": "9fa24b53f0cd786db4e39387325762a86e226acb141dffb5ab543c169232113e",
    "deletable": false,
    "nbgrader": {
     "checksum": "8924493d94121c3a795bbe4160feadfb",
     "grade": true,
     "grade_id": "3a",
     "locked": false,
     "points": 0.5,
     "schema_version": 1,
     "solution": true
    }
   },
   "source": [
    "# Unexpected Thermal Conductivity Enhancement by Isotope Doping in Graphene Nanoribbon with Structural Resonance\n",
    "\n",
    "### ABSTRACT\n",
    "\n",
    "### Introduction\n",
    "\n",
    "### Structure and Methods\n",
    "\n",
    "### Results and Discussion\n",
    "\n",
    "### Conclusion\n",
    "\n",
    "### Acknowledgments\n",
    "\n",
    "### Reference\n",
    "\n",
    "\n",
    "### Method\n",
    "### <center> Potential(TERSOFF)  </center>\n",
    "### Function\n",
    "### Parameters\n",
    "### $ n $\n",
    "### 1.57e-7\n",
    "### <center> Simulation Process </center>\n",
    "### <pre> Ensemble                           Setting                             Purpose</pre>\n",
    "### <center> Recorded physical quantity </center>\n",
    "### Temperature\n",
    "### Heat flux\n",
    "### Thermal conductance"
   ]
  },
  {
   "cell_type": "markdown",
   "metadata": {
    "checksum2": "9fa24b53f0cd786db4e39387325762a86e226acb141dffb5ab543c169232113e",
    "deletable": false,
    "editable": false,
    "nbgrader": {
     "checksum": "527a3868b41247109f43c2a642f69c73",
     "grade": false,
     "grade_id": "cell-a746bf2a6bd4462a",
     "locked": true,
     "schema_version": 1,
     "solution": false
    }
   },
   "source": [
    "b) Check through the papers in the links above and find mathematical formulas.  Reprodce them in the markdown cell below. Do this for a number of formulas, until you have at least 300 characters of latex code. Precisely state, which formulas you reproduce from which paper. "
   ]
  },
  {
   "cell_type": "markdown",
   "metadata": {
    "checksum2": "9fa24b53f0cd786db4e39387325762a86e226acb141dffb5ab543c169232113e",
    "deletable": false,
    "nbgrader": {
     "checksum": "ec55340b5c0b7c436901792d95f8f967",
     "grade": true,
     "grade_id": "3b",
     "locked": false,
     "points": 1.5,
     "schema_version": 1,
     "solution": true
    }
   },
   "source": [
    "Fourier's Law\n",
    "<br>\n",
    "Paper titled ['Unexpected Thermal Conductivity Enhancement by Isotope Doping in Graphene Nanoribbon with Structural Resonance'](https://arxiv.org/ftp/arxiv/papers/1810/1810.04841.pdf) by Dengke Ma, Xiao Wan, Nuo Yang.\n",
    "<br>Page 6 (1)\n",
    "\n",
    "\\begin{equation}\n",
    "k=-\\frac{J}{W.d.\\nabla T}\n",
    "\\end{equation}\n",
    "\n",
    "<br>\n",
    "Green Function\n",
    "<br>\n",
    "Paper titled ['HEIGHTS  AND  PERIODIC  POINTS  FOR  ONE-PARAMETER  FAMILIES\n",
    "OF  HENON  MAPS'](https://arxiv.org/pdf/1810.03841.pdf) by Liang-Chung Hsia AND Shu Kawaguchi. \n",
    "<br>Page 2 (0.3)\n",
    "\n",
    "\\begin{equation}G_{H_{t},v}\n",
    "    \\left( P \\right)=\\max\\left\\{\n",
    "    \\lim_{n \\to +\\infty}\n",
    "    \\frac{1}{d^{n}}\n",
    "    \\log{^+}\n",
    "    | H^n_t \\left( P \\right) |,\n",
    "    \\lim_{n \\to +\\infty}\n",
    "    \\frac{1}{d^{n}} \n",
    "    \\log{^+}\n",
    "    |H^{-n}_{t} \\left( P \\right)|\n",
    "    \\right\\} \\end{equation}\n",
    "\n",
    "\n",
    "<br>\n",
    "Paper titled ['Galerkin Approximation of Dynamical Quantities using Trajectory Data'](https://arxiv.org/pdf/1810.01841.pdf) by Erik H. Thiede, Dimitrios Giannakis, Aaron R. Dinner, Jonathan Weare.\n",
    "<br>Page 3 (4)\n",
    "\n",
    "\\begin{equation}\n",
    "\\mathbb{1}_{S_{i}}(x)=\n",
    "\\begin{cases}\n",
    "    1 \\text{ for $x$ in $S_i$} \\\\\n",
    "    0 \\text{ otherwise.}\n",
    "\\end{cases}\n",
    "\\end{equation}\n",
    "\n",
    "\n",
    "\n",
    "<br>\n",
    "Paper titled ['Error Reduction Network for DBLSTM-based Voice Conversion'](https://arxiv.org/pdf/1809.09841.pdf) by Mingyang Zhang, Berrak Sisman, Sai Sirisha Rallabandi, Haizhou Li, Li Zhao.\n",
    "<br>Page 4 (9)\n",
    "\n",
    "\\begin{equation} \n",
    "MCD\\left[dB \\right]=\n",
    "\\frac{10}{\\ln{10}}\n",
    "\\sqrt{2 \\sum^D_{d=1}\n",
    "(C^{target}_d}-\n",
    "C^{converted}_d)^2\n",
    "\\end{equation}\n",
    "\n",
    "\n",
    "\n",
    "<br>\n",
    "Paper titled ['A PDAE FORMULATION OF PARABOLIC PROBLEMS WITH DYNAMIC BOUNDARY CONDITIONS'](https://arxiv.org/pdf/1809.08841.pdf) by Robert Altmann.\n",
    "<br>Page 3 (1)\n",
    "\n",
    "\\begin{equation}\n",
    "\\dot{u}\n",
    "-\\nabla \\cdot (\\kappa \\nabla u)\n",
    "=f \\quad\n",
    "\\text{in } \\Omega,\n",
    "\\qquad u=0\n",
    "\\quad\n",
    "\\text{on } \n",
    "\\Gamma\n",
    "\\end{equation}\n"
   ]
  },
  {
   "cell_type": "markdown",
   "metadata": {
    "checksum2": "9fa24b53f0cd786db4e39387325762a86e226acb141dffb5ab543c169232113e",
    "deletable": false,
    "editable": false,
    "nbgrader": {
     "checksum": "fb98f1eb3638d5f0fb95926fc02a7f95",
     "grade": false,
     "grade_id": "cell-890199b111e0c22a",
     "locked": true,
     "schema_version": 1,
     "solution": false
    }
   },
   "source": [
    "c) Check through the papers in the links above and see, if any of them contains any two dimensional plots. If this is the case, choose one such plot, which contains either at least two different lines or at least two subplots. Reprodce the axes of the graph, including axis labels, correct range of axes. Plot some fake data with about 10 data points inside the graphs. The aim is to produce a graph, which at first sight looks roughly similar to the published plot. Precisely state, which graph you reproduce from which paper. "
   ]
  },
  {
   "cell_type": "code",
   "execution_count": 124,
   "metadata": {
    "checksum2": "9fa24b53f0cd786db4e39387325762a86e226acb141dffb5ab543c169232113e",
    "deletable": false,
    "nbgrader": {
     "checksum": "615eb71c423c328cfa2a5a5c792b8951",
     "grade": true,
     "grade_id": "3d",
     "locked": false,
     "points": 2,
     "schema_version": 1,
     "solution": true
    }
   },
   "outputs": [
    {
     "data": {
      "text/plain": [
       "([<matplotlib.axis.XTick at 0x541ec10>,\n",
       "  <matplotlib.axis.XTick at 0x541e810>,\n",
       "  <matplotlib.axis.XTick at 0x541e670>,\n",
       "  <matplotlib.axis.XTick at 0x5439cd0>,\n",
       "  <matplotlib.axis.XTick at 0x5439f50>,\n",
       "  <matplotlib.axis.XTick at 0xe191270>,\n",
       "  <matplotlib.axis.XTick at 0xe191550>,\n",
       "  <matplotlib.axis.XTick at 0xe191830>,\n",
       "  <matplotlib.axis.XTick at 0xe191b10>,\n",
       "  <matplotlib.axis.XTick at 0xe191df0>],\n",
       " <a list of 10 Text xticklabel objects>)"
      ]
     },
     "execution_count": 124,
     "metadata": {},
     "output_type": "execute_result"
    },
    {
     "data": {
      "image/png": "[encoded data removed]",
      "text/plain": [
       "<Figure size 432x288 with 2 Axes>"
      ]
     },
     "metadata": {
      "needs_background": "light"
     },
     "output_type": "display_data"
    }
   ],
   "source": [
    "import pylab\n",
    "from matplotlib.pyplot import figure\n",
    "from matplotlib.font_manager import FontProperties\n",
    "\n",
    "\n",
    "\n",
    "Ab = np.array([[2, 0.03],\n",
    "              [3, 0.072],\n",
    "              [5, 0.116],\n",
    "              [6, 0.14],\n",
    "              [7, 0.166],\n",
    "              [8, 0.184],\n",
    "              [9, 0.198],\n",
    "              [11, 0.21],\n",
    "              [12, 0.22],\n",
    "              [14, 0.229],\n",
    "              [16, 0.238],\n",
    "              [18, 0.244],\n",
    "               [20, 0.25]]\n",
    "             )\n",
    "Ao = np.array([[2, 0.03],\n",
    "              [3, 0.03],\n",
    "              [4, 0.035],\n",
    "              [5, 0.04],\n",
    "              [6,0.046],\n",
    "              [8, 0.055],\n",
    "              [10, 0.07],\n",
    "              [12, 0.08],\n",
    "              [14, 0.091],\n",
    "              [16, 0.100],\n",
    "              [18, 0.105],\n",
    "             [20, 0.11]])\n",
    "\n",
    "\n",
    "Bb = np.array([[2, 0.003],\n",
    "              [3, 0.0045],\n",
    "               [4, 0.0052],\n",
    "               [5, 0.0064],\n",
    "               [6, 0.0075],\n",
    "               [8, 0.0102],\n",
    "               [10, 0.0125],\n",
    "               [12, 0.0145],\n",
    "               [14, 0.0155],\n",
    "               [16, 0.017],\n",
    "               [18, 0.0175],\n",
    "               [20, 0.0179]\n",
    "              ])\n",
    "\n",
    "\n",
    "Bo = np.array([\n",
    "    [2, 0.0025],\n",
    "    [3, 0.002],\n",
    "    [4, 0.0015],\n",
    "    [5, 0.0017],\n",
    "    [6, 0.0019],\n",
    "    [8, 0.003],\n",
    "    [10, 0.005],\n",
    "    [12, 0.0051],\n",
    "    [14, 0.0054],\n",
    "    [16, 0.0054],\n",
    "    [18, 0.005],\n",
    "    [20, 0.0048]\n",
    "              ])\n",
    "\n",
    "\n",
    "\n",
    "font = FontProperties().copy()\n",
    "font.set_weight('bold')\n",
    "font.set_size('xx-large')\n",
    "\n",
    "\n",
    "\n",
    "\n",
    "\n",
    "\n",
    "plt.subplot(2, 2, 1)\n",
    "\n",
    "Abline, = plt.plot(Ab[:,0], Ab[:,1])\n",
    "Abdot, =plt.plot(Ab[:,0], Ab[:,1], 'b.')\n",
    "\n",
    "Aoline, = plt.plot(Ao[:,0], Ao[:,1], color='orange')\n",
    "Aodot, = plt.plot(Ao[:,0], Ao[:,1],'d')\n",
    "\n",
    "\n",
    "plt.ylabel('Committor RMSE')\n",
    "plt.text(3, 0.25, 'A', fontproperties=font)\n",
    "\n",
    "pylab.xlim([2,20])\n",
    "pylab.ylim([0, 0.3])\n",
    "\n",
    "plt.legend([(Abline, Abdot),(Aoline, Aodot)], ['MSM', 'DMap'], loc='lower right')\n",
    "\n",
    "frame1 = plt.gca()\n",
    "frame1.axes.get_xaxis().set_ticklabels([])\n",
    "\n",
    "plt.xticks(np.arange(2, 21, step=2))\n",
    "\n",
    "\n",
    "\n",
    "\n",
    "\n",
    "\n",
    "plt.subplot(2,2,3)\n",
    "\n",
    "plt.plot(Bb[:,0], Bb[:,1])\n",
    "plt.plot(Bb[:,0],Bb[:,1], 'b.')\n",
    "\n",
    "plt.plot(Bo[:,0], Bo[:,1], color='orange')\n",
    "plt.plot(Bo[:,0], Bo[:,1], 'd')\n",
    "\n",
    "plt.ylabel('Total Reactive Flux')\n",
    "plt.xlabel('System Dimensionality')\n",
    "\n",
    "plt.plot([2, 20], [0.003, 0.003], ':', color = 'black')\n",
    "\n",
    "\n",
    "plt.text(3, 0.015, 'B', fontproperties=font)\n",
    "\n",
    "\n",
    "pylab.xlim([2, 20])\n",
    "pylab.ylim([0, 0.019])\n",
    "\n",
    "plt.xticks(np.arange(2, 21, step=2))"
   ]
  },
  {
   "cell_type": "code",
   "execution_count": null,
   "metadata": {},
   "outputs": [],
   "source": []
  }
 ],
 "metadata": {
  "kernelspec": {
   "display_name": "Python 3",
   "language": "python",
   "name": "python3"
  },
  "language_info": {
   "codemirror_mode": {
    "name": "ipython",
    "version": 3
   },
   "file_extension": ".py",
   "mimetype": "text/x-python",
   "name": "python",
   "nbconvert_exporter": "python",
   "pygments_lexer": "ipython3",
   "version": "3.6.5"
  }
 },
 "nbformat": 4,
 "nbformat_minor": 1
}
