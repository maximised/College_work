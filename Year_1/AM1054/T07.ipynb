{
 "cells": [
  {
   "cell_type": "code",
   "execution_count": null,
   "metadata": {},
   "outputs": [],
   "source": [
    "# execute this cell before you start the tutorial\n",
    "%matplotlib inline\n",
    "import numpy as np\n",
    "import matplotlib.pyplot as plt\n",
    "import sympy as sym\n",
    "\n",
    "from ipywidgets import interact\n",
    "\n",
    "sym.init_printing(use_latex=\"mathjax\")\n",
    "x, y, z, t = sym.symbols('x y z t')"
   ]
  },
  {
   "cell_type": "markdown",
   "metadata": {},
   "source": [
    "# Q1 The Lorentzian Function\n",
    "\n",
    "\n",
    "Consider the function \n",
    "\\begin{equation}\n",
    "f(x) = \\frac{1}{1+x^2}\n",
    "\\end{equation}\n",
    "\n",
    "1) Plot the three functions $f(x)$, $\\frac{d}{dx}f(x)$ and $\\int_0^y f(x)dx$ into one graph for $x\\in[-2,2]$ and $y\\in[-2,2]$."
   ]
  },
  {
   "cell_type": "code",
   "execution_count": null,
   "metadata": {
    "deletable": false,
    "nbgrader": {
     "checksum": "ce4a77ed7a100bf1555ade3e749ff50d",
     "grade": true,
     "grade_id": "cell-e097cdc09a27c065",
     "locked": false,
     "points": 0,
     "schema_version": 1,
     "solution": true
    }
   },
   "outputs": [],
   "source": [
    "# YOUR CODE HERE\n",
    "raise NotImplementedError()"
   ]
  },
  {
   "cell_type": "markdown",
   "metadata": {},
   "source": [
    "2) Evaluate these three functions at the point $x=1$."
   ]
  },
  {
   "cell_type": "code",
   "execution_count": null,
   "metadata": {
    "deletable": false,
    "nbgrader": {
     "checksum": "b0cb1adf649efce2e8917aa59de4c467",
     "grade": true,
     "grade_id": "cell-5cc360aaf87f2a8a",
     "locked": false,
     "points": 0,
     "schema_version": 1,
     "solution": true
    }
   },
   "outputs": [],
   "source": [
    "# YOUR CODE HERE\n",
    "raise NotImplementedError()"
   ]
  },
  {
   "cell_type": "markdown",
   "metadata": {},
   "source": [
    "3) Expand the function $f(x)$ in a Taylor series at the point $x=0$ up to order $x^{12}$.  What do you observe. "
   ]
  },
  {
   "cell_type": "code",
   "execution_count": null,
   "metadata": {
    "deletable": false,
    "nbgrader": {
     "checksum": "8c6f04e22c0a2f52df1488bcafacf78e",
     "grade": true,
     "grade_id": "cell-32e9baecb664f7c1",
     "locked": false,
     "points": 0,
     "schema_version": 1,
     "solution": true
    }
   },
   "outputs": [],
   "source": [
    "# YOUR CODE HERE\n",
    "raise NotImplementedError()"
   ]
  },
  {
   "cell_type": "markdown",
   "metadata": {},
   "source": [
    "4) Now plot the previously found Taylor expansion together with $f(x)$, $\\frac{d}{dx}f(x)$ in one graph.  What do you observe? Does the Taylor expansion converge to the original curve? "
   ]
  },
  {
   "cell_type": "code",
   "execution_count": null,
   "metadata": {
    "deletable": false,
    "nbgrader": {
     "checksum": "5b12f2b563a8ae5edd9754ca907c9794",
     "grade": true,
     "grade_id": "cell-724a33eac558d8da",
     "locked": false,
     "points": 0,
     "schema_version": 1,
     "solution": true
    }
   },
   "outputs": [],
   "source": [
    "# YOUR CODE HERE\n",
    "raise NotImplementedError()"
   ]
  },
  {
   "cell_type": "markdown",
   "metadata": {},
   "source": [
    "5) repeat the previous question, but now expand around $x=1$. "
   ]
  },
  {
   "cell_type": "code",
   "execution_count": null,
   "metadata": {
    "deletable": false,
    "nbgrader": {
     "checksum": "3e97b34bbfe0b9aed226acf88a06c879",
     "grade": true,
     "grade_id": "cell-5d980abfa3f76ef7",
     "locked": false,
     "points": 0,
     "schema_version": 1,
     "solution": true
    }
   },
   "outputs": [],
   "source": [
    "# YOUR CODE HERE\n",
    "raise NotImplementedError()"
   ]
  },
  {
   "cell_type": "markdown",
   "metadata": {},
   "source": [
    "6) make this plot interactive by adding two sliders for the order of your expansion and the point around which you expand. "
   ]
  },
  {
   "cell_type": "code",
   "execution_count": null,
   "metadata": {
    "deletable": false,
    "nbgrader": {
     "checksum": "82bc19cf31c991876c4a0fd871537242",
     "grade": true,
     "grade_id": "cell-3a1b584df78533e4",
     "locked": false,
     "points": 0,
     "schema_version": 1,
     "solution": true
    }
   },
   "outputs": [],
   "source": [
    "# YOUR CODE HERE\n",
    "raise NotImplementedError()"
   ]
  },
  {
   "cell_type": "markdown",
   "metadata": {},
   "source": [
    "7) now replace in the last question the function by $f(x) = \\sin(5x)$. What do you observe? Why do you think both are so different?"
   ]
  },
  {
   "cell_type": "code",
   "execution_count": null,
   "metadata": {
    "deletable": false,
    "nbgrader": {
     "checksum": "07c2104b3b06444cd638a010d4085fe0",
     "grade": true,
     "grade_id": "cell-f191d632eb85fc15",
     "locked": false,
     "points": 0,
     "schema_version": 1,
     "solution": true
    }
   },
   "outputs": [],
   "source": [
    "# YOUR CODE HERE\n",
    "raise NotImplementedError()"
   ]
  },
  {
   "cell_type": "markdown",
   "metadata": {},
   "source": [
    "# Q2. Chebyshev Polynomials\n",
    "\n",
    "The Chebyshev polynomials are constructed according to the following rules:\n",
    "\\begin{align}\n",
    "T_0(x) &= 1 \\\\\n",
    "T_1(x) &= x \\\\\n",
    "T_{k+1} &= 2 x T_{k} - T_{k-1}\n",
    "\\end{align}\n",
    "(Do not use the Chebyshev functions from sympy or numpy in this question)\n",
    "\n",
    "a) Write a python function `chebyshev(n)` which for $n>0$ returns a list of polynomials $T_0(x), \\ldots, T_{n-1}(x)$ according to the rules above. Calculate `chebychev(7)`"
   ]
  },
  {
   "cell_type": "code",
   "execution_count": null,
   "metadata": {
    "deletable": false,
    "nbgrader": {
     "checksum": "bcc1711c3d541d63ae451dea6a7cbfe5",
     "grade": true,
     "grade_id": "2a",
     "locked": false,
     "points": 0,
     "schema_version": 1,
     "solution": true
    }
   },
   "outputs": [],
   "source": [
    "# YOUR CODE HERE\n",
    "raise NotImplementedError()"
   ]
  },
  {
   "cell_type": "markdown",
   "metadata": {},
   "source": [
    "b) Using your function `chebychev()` from part (a) plot $T_1(x),\\ldots, T_9(x)$ for $x\\in[-1,1]$"
   ]
  },
  {
   "cell_type": "code",
   "execution_count": null,
   "metadata": {
    "deletable": false,
    "nbgrader": {
     "checksum": "8d9bdca962529e0958644eb2c9e65c12",
     "grade": true,
     "grade_id": "2b",
     "locked": false,
     "points": 0,
     "schema_version": 1,
     "solution": true
    }
   },
   "outputs": [],
   "source": [
    "# YOUR CODE HERE\n",
    "raise NotImplementedError()"
   ]
  },
  {
   "cell_type": "markdown",
   "metadata": {},
   "source": [
    "c) The set of zeros of $T_n(x)$ is given by \n",
    "\\begin{equation}\n",
    "x_{k,n} = \\cos\\left(\\frac{2k-1}{2n}\\pi\\right), \\quad \\text{for $k=1,\\ldots,n$}\n",
    "\\end{equation}\n",
    "Plot $T_7(x)$ in the interval $x\\in [-1,1]$ and indicate the zeros of $T_7$ using blue dots."
   ]
  },
  {
   "cell_type": "code",
   "execution_count": null,
   "metadata": {
    "deletable": false,
    "nbgrader": {
     "checksum": "aff01ea0f641f6a8054fdabd89ba975d",
     "grade": true,
     "grade_id": "2c",
     "locked": false,
     "points": 0,
     "schema_version": 1,
     "solution": true
    }
   },
   "outputs": [],
   "source": [
    "# YOUR CODE HERE\n",
    "raise NotImplementedError()"
   ]
  }
 ],
 "metadata": {
  "kernelspec": {
   "display_name": "Python 3",
   "language": "python",
   "name": "python3"
  },
  "language_info": {
   "codemirror_mode": {
    "name": "ipython",
    "version": 3
   },
   "file_extension": ".py",
   "mimetype": "text/x-python",
   "name": "python",
   "nbconvert_exporter": "python",
   "pygments_lexer": "ipython3",
   "version": "3.7.0"
  }
 },
 "nbformat": 4,
 "nbformat_minor": 1
}
