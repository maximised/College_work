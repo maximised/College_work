{
 "cells": [
  {
   "cell_type": "markdown",
   "metadata": {},
   "source": [
    "# Link collection\n",
    "\n",
    "\n",
    "Of course, the current module can only give a small glimpse of the topic of *Mathematical Software*.  Much more information is available electronically on the Internet, and also in the form of classical textbooks.  In the following, I give a collection of links and topics, which may be beneficial in exploring the topic beyond the current module. \n",
    "\n",
    "## The Python language\n",
    "\n",
    "Our programming language of choice for the current course was *Python*.  As it is one of the most popular programming languages, there is no end of usueful information on the internet.   Good resources are for \n",
    "example:\n",
    "\n",
    "* [**`www.python.org`**](https://www.python.org/) The Python \"homepage\", which is the authorative source of information for anybody interested in the language.  In particular the [tutorial](https://docs.python.org/3/tutorial/introduction.html) should at this point easy for you to follow. Try parts 3 and 4 of the tutorial, to get most of the language features for the current course.  If you are interested in learning more, try part 5 of the tutorial, in particular 5.5 on *Dictionaries* (`dict`s) is very useful (we have actually used `dict`s already, for example in the context of `sympy.subs`).  Beyond the tutorial, there is also the more formal specification of the full python language for reference. I sometimes use for example the lists of all [build-in functions](https://docs.python.org/3/library/functions.html) and [built-in types](https://docs.python.org/3/library/stdtypes.html).\n",
    "\n",
    "\n",
    "* [**`stackexchange.com`**](https://stackexchange.com/) This is a great site for all sorts of computing (and more general) questions, including, of course, [Python](https://stackoverflow.com/questions/tagged/python), [Numpy](https://stackoverflow.com/questions/tagged/numpy), [Sympy](https://stackoverflow.com/questions/tagged/sympy) and [Matplotlib](https://stackoverflow.com/questions/tagged/matplotlib). \n",
    "\n",
    "##  Tutorials textbooks\n",
    "\n",
    "Here a random selection of links, which you might find useful\n",
    "- http://www.scipy-lectures.org/index.html (Similar topic selection as the current course)\n",
    "- http://pythontutor.com/ (visiualize the execution of your code)\n",
    "- https://www.python-course.eu/numerical_programming.php (Numerical Programming in Python geared towards Big Data)\n",
    "\n",
    "- https://python.swaroopch.com/ (General intro to Python)\n",
    "- http://greenteapress.com/wp/think-python-2e/ (Soft intro to Python, although not specifically to Mathematical applications.)\n",
    "- https://web.stanford.edu/~schmit/cme193/ (Scientific Computing course with different selection of topics.  Courses which are similar to AM1054 are taught world-wide, and you can easily find lecture notes online.)\n",
    "- https://www.youtube.com/watch?v=gtejJ3RCddE (This one is Numpy only, but you will also find videos for other topics covered in the course.)\n",
    "- [Markdown tutorial](https://www.markdowntutorial.com/)\n",
    "- http://www.diveintopython3.net/ (This is an advanced tutorial into Python, not suitable for beginners.)\n",
    "- http://detexify.kirelabs.org/classify.html (recognize latex symbols)\n",
    "- https://en.wikibooks.org/wiki/LaTeX/Mathematics (How to typeset Latex equations)\n"
   ]
  },
  {
   "cell_type": "markdown",
   "metadata": {},
   "source": [
    "## Advanced Libraries\n",
    "\n",
    "\n",
    "We have focused on the three libraries numpy, matplotlib and sympy, but there are many more available. For example\n",
    "\n",
    "\n",
    "* [SciPy](https://www.scipy.org/) (this is an umbrella for many scientific libraries, and also contains the three we covered)\n",
    "\n",
    "* [pandas](http://pandas.pydata.org/) (working with large data tables)\n",
    "\n",
    "* [Networkx](https://networkx.github.io/) (representing networks in python)\n",
    "\n",
    "* [scikit-learn](http://scikit-learn.org/stable/) (This and the next one are used for machine learning applications)\n",
    "\n",
    "* [TensorFlow](https://www.tensorflow.org/)\n",
    "\n",
    "\n"
   ]
  },
  {
   "cell_type": "markdown",
   "metadata": {},
   "source": [
    "# Python Advantages and Disadvantage\n",
    "\n",
    "\n",
    "* Easy to learn\n",
    "\n"
   ]
  },
  {
   "cell_type": "code",
   "execution_count": null,
   "metadata": {
    "collapsed": true
   },
   "outputs": [],
   "source": []
  },
  {
   "cell_type": "code",
   "execution_count": null,
   "metadata": {
    "collapsed": true
   },
   "outputs": [],
   "source": []
  }
 ],
 "metadata": {
  "kernelspec": {
   "display_name": "Python 3",
   "language": "python",
   "name": "python3"
  },
  "language_info": {
   "codemirror_mode": {
    "name": "ipython",
    "version": 3
   },
   "file_extension": ".py",
   "mimetype": "text/x-python",
   "name": "python",
   "nbconvert_exporter": "python",
   "pygments_lexer": "ipython3",
   "version": "3.7.1"
  },
  "toc": {
   "nav_menu": {},
   "number_sections": true,
   "sideBar": true,
   "skip_h1_title": false,
   "title_cell": "Table of Contents",
   "title_sidebar": "Contents",
   "toc_cell": false,
   "toc_position": {},
   "toc_section_display": true,
   "toc_window_display": false
  },
  "varInspector": {
   "cols": {
    "lenName": 16,
    "lenType": 16,
    "lenVar": 40
   },
   "kernels_config": {
    "python": {
     "delete_cmd_postfix": "",
     "delete_cmd_prefix": "del ",
     "library": "var_list.py",
     "varRefreshCmd": "print(var_dic_list())"
    },
    "r": {
     "delete_cmd_postfix": ") ",
     "delete_cmd_prefix": "rm(",
     "library": "var_list.r",
     "varRefreshCmd": "cat(var_dic_list()) "
    }
   },
   "types_to_exclude": [
    "module",
    "function",
    "builtin_function_or_method",
    "instance",
    "_Feature"
   ],
   "window_display": false
  }
 },
 "nbformat": 4,
 "nbformat_minor": 2
}
