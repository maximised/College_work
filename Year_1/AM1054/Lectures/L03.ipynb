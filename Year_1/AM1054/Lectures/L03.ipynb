{
 "cells": [
  {
   "cell_type": "markdown",
   "metadata": {},
   "source": [
    "# Writing text in Jupyter notebooks"
   ]
  },
  {
   "cell_type": "markdown",
   "metadata": {},
   "source": [
    "## `dgg`"
   ]
  },
  {
   "cell_type": "markdown",
   "metadata": {},
   "source": [
    "So far we have concentrated on using the Jupyter notebook for python code snippets.  This means that all notebook cells we used so far were actually *code* cells.  However, most useful documents also contain other content, for example any of the following:\n",
    "\n",
    "* An introduction or motivation why you are studying the problem at hand.\n",
    "* A review of what was done before you in this area.\n",
    "* A discussion of the source of the data you used.\n",
    "* A description of a model or the methods you want to use.\n",
    "* A discussion of your results. \n",
    "\n",
    "All of those points might involve text and also mathematical formulas. We therefore look for a way how we can include these things in our notebook. \n",
    "\n",
    "In order to include simple text, just open a new cell as you did before, for example with `Insert->Insert Cell Below`. Per default this generates a code cell, as indicate by the term `Code` in the Toolbar (at the left of the words `Cell Toolbar`). Now click on this word `Code` and a drop down list of options should appear, with options including `Code`, `Markdown`,  `Heading`, and possibly more. Now select the option `Markdown` from this list. Once you do this, you should notice that the blue `In []:` in front of the cell disappears. Now type `return`, in order to get a green frame and a blinking cursor inside the cell and start typing:\n",
    "\n",
    "    Hello\n",
    "    \n",
    "then type `shift-return`. You should see that the word hello appears as normal text as in the following cell:"
   ]
  },
  {
   "cell_type": "markdown",
   "metadata": {},
   "source": [
    "1. DDKODF\n",
    "            1. EEE\n",
    "            2. CCCCCC\n",
    "2. EWEW"
   ]
  },
  {
   "cell_type": "markdown",
   "metadata": {},
   "source": [
    "Hello"
   ]
  },
  {
   "cell_type": "markdown",
   "metadata": {},
   "source": [
    "Now select again the cell with the word `Hello` type `return` to get a green frame with a coursor. Then replace the text with:\n",
    "\n",
    "    *Hello*, this is a **test**!\n",
    "    \n",
    "After `shift-return` you should see"
   ]
  },
  {
   "cell_type": "markdown",
   "metadata": {},
   "source": [
    "RGFGGREG ffffffffuuuuuuuuuuuuuuuuuuccccccccccc\n",
    "    def fun():\n",
    "        "
   ]
  },
  {
   "cell_type": "markdown",
   "metadata": {},
   "source": [
    "*Hello,* this is a **test**!"
   ]
  },
  {
   "cell_type": "markdown",
   "metadata": {},
   "source": [
    "This means that we get *italic* fonts by enclosing parts of our sentence in star (`*`) signs. If you enclose in double stars (`**`), we get **bold** fonts.\n",
    "\n",
    "Edit the cell once more, and now type return after every word, so that it looks as follows:\n",
    "\n",
    "    *Hello*, \n",
    "    this \n",
    "    is \n",
    "    a \n",
    "    **test**!\n",
    "    \n",
    "After `shift-return` you should notice that this did not change the output, everything still comes in one line. If you want to start a new paragraph, you need to insert an empty line:\n",
    "\n",
    "    This is the first paragraph!\n",
    "    This is still in the first paragraph. \n",
    "    \n",
    "    Now we are in the second paragraph.\n"
   ]
  },
  {
   "cell_type": "markdown",
   "metadata": {},
   "source": [
    "This is the first paragraph!\n",
    "This is still in the first paragraph. \n",
    "    \n",
    "Now we are in the second paragraph."
   ]
  },
  {
   "cell_type": "markdown",
   "metadata": {},
   "source": [
    "The syntax we use here is called [markdown](http://en.wikipedia.org/wiki/Markdown). The good thing about *markdown* however is that there is not much to learn about it as it has very few features. \n",
    "\n",
    "For text to be written in typewriter style, enclose in backticks as follows:\n",
    "\n",
    "    This is a `typewriter` font. \n",
    "    \n",
    "which yields:\n",
    "\n",
    "This is a `typewriter` font.\n",
    "\n",
    "This style is useful for giving code examples in your text. Within the backticks, the `*` loses it's special meaning and is printed verbatim. For longer sections of code that you want to reproduce verbatim, you can simply indent them:\n",
    "\n",
    "        print(\"Hello World\")\n",
    "        2+3*4*5"
   ]
  },
  {
   "cell_type": "markdown",
   "metadata": {},
   "source": [
    "## Lists and tables"
   ]
  },
  {
   "cell_type": "markdown",
   "metadata": {},
   "source": [
    "name | age | song \n",
    "-----|:-----|:------\n",
    "coon | 21  | baa baa\n"
   ]
  },
  {
   "cell_type": "markdown",
   "metadata": {},
   "source": [
    "You can make lists as follows:\n",
    "\n",
    "    This is a list:\n",
    "    \n",
    "    * first item\n",
    "    * next item\n",
    "    * another one\n",
    "\n",
    "which translates into ...\n",
    "\n",
    "This is a list:\n",
    "    \n",
    "* first item\n",
    "* next item\n",
    "* another one\n",
    "\n",
    "similarly a numbered list goes as follows:\n",
    "\n",
    "    This is a numbered list:\n",
    "    \n",
    "    1. first item\n",
    "    2. next item\n",
    "    2. another one\n",
    "\n",
    "which translates into ...\n",
    "\n",
    "This is a numbered list:\n",
    "    \n",
    "1. first item\n",
    "2. next item\n",
    "2. another one\n",
    "\n",
    "Note that it did not matter that I misnumbered the last item, it still comes out correctly numbered. \n",
    "\n",
    "Nested lists are also possible, try for example\n",
    "\n",
    "    1. bla\n",
    "    2. blub\n",
    "        1. nest one\n",
    "        4. nest again\n",
    "    1. blabla\n",
    "    \n",
    "You can also quickly produce simple tables in markdown as follows:\n",
    "\n",
    "    first column | second column heading| another column| last one\n",
    "    ----------|---------------:|:------:|---\n",
    "    item 1 | another item | bla |\n",
    "    next  |  *italics* entry | **fat** entry |last one \n",
    "\n",
    "which yields\n",
    "\n",
    "first column | second column heading| another column| last one\n",
    "----------|---------------:|:------:|---\n",
    "item 1 | another item | bla |\n",
    "`code` entry  |  *italics* entry | **fat** entry |last one \n",
    "\n",
    "The colons in the second line influence, if a column is right, left or center aligned. Note that I did not need to make the table look nice when I type it out, I just need to get the structure right. After `shift-return` markdown figures out, how to produce a nice table. "
   ]
  },
  {
   "cell_type": "markdown",
   "metadata": {},
   "source": [
    "When a line in markdown start with one or more hashes, it is a heading. For example \n",
    "\n",
    "    # A Top level Heading\n",
    "    \n",
    "yields"
   ]
  },
  {
   "cell_type": "markdown",
   "metadata": {},
   "source": [
    "#dsd"
   ]
  },
  {
   "cell_type": "markdown",
   "metadata": {},
   "source": [
    "# A Top level Heading "
   ]
  },
  {
   "cell_type": "markdown",
   "metadata": {},
   "source": [
    "i.e. you get a level one heading. As you guess, you can get subheadings and subsubheadings using `##` and `###` at the beginning of the line:"
   ]
  },
  {
   "cell_type": "markdown",
   "metadata": {},
   "source": [
    "## A second level Heading \n",
    "\n",
    "### A third level heading"
   ]
  },
  {
   "cell_type": "markdown",
   "metadata": {},
   "source": [
    "This is an easy way to give your notebook a structure and subdivide it into a number of sections and subsections as appropriate. \n",
    "\n",
    "Another useful feature of markdown is that you can define hyperlinks to any place on the web using the following syntax:\n",
    "\n",
    "    this is a [link](http://en.wikipedia.org/wiki/Hyperlink).\n",
    "    \n",
    "yielding\n",
    "\n",
    "this is a [link](http://en.wikipedia.org/wiki/Hyperlink).  A bare url is also recognized as a link automatically, for example http://jupyter.org/"
   ]
  },
  {
   "cell_type": "markdown",
   "metadata": {},
   "source": [
    "# Mathematical Formulas"
   ]
  },
  {
   "cell_type": "markdown",
   "metadata": {},
   "source": [
    "One of best features of the markdown environment in Jupyter notebook is that it allows us to typeset sophisticated mathematical formulas in a professional way. This can be done by enclosing formulas in dollar signs as follows:\n",
    "\n",
    "    The formula $ E = m c^{2} $ is due to Einstein.\n",
    "yields\n",
    "\n",
    "The formula $ E = m c^{2} $ is due to Einstein.\n",
    "\n",
    "Here the formula is *inline*, i.e. part of the flowing text. For bigger formulas, it is more common to have the formula on a line of its own. This is achieved by enclosing the formula as follows:\n",
    "\n",
    "    The formula \\begin{equation} E = m c^{2} \\end{equation} is due to Einstein.\n",
    "yields\n",
    "\n",
    "The formula \\begin{equation} E = m c^{2} \\end{equation} is due to Einstein. \n",
    "\n",
    "The language we use here is called [LaTeX](http://www.latex-project.org/), and is the most popular language for typesetting mathematical (and physical) literature.  Jupyter Notebook does not know the full LaTeX language, but only the mathematical part, i.e. only LaTeX commands which are used for mathematical formulas are supported. \n",
    "\n",
    "The finer details of LaTeX are beyond the scope of this course. Instead I will only cover a small subset of LaTeX maths commands to cover the most important formulas. \n",
    "\n",
    "From the above example you see already that superscripts are obtained by `^`. Similarly subscripts are obtained by the underscore `_` for example `$x_i$` is $x_i$. We have access to all Greek letters $\\alpha$, $\\beta$ etc. by putting a backslash in front of their name:\n",
    "\n",
    "    $\\alpha$, $\\beta$, etc.\n",
    "    \n",
    "If we want to typeset a square root symbol, we write\n",
    "\n",
    "    $\\sqrt{2 \\alpha}$\n",
    "    \n",
    "$\\sqrt{2 \\alpha}$\n",
    "\n",
    "Note, how the curly brackets determine, how far the root symbol extends. Similarly you can typeset a fraction using `\\frac{}{}` where the nominator appears in the first pair of curly brackets and the denominator in the second pair. For example\n",
    "\n",
    "    $\\frac{1}{a} + \\frac{1}{b} = \\frac{a + b}{a b}$\n",
    "\n",
    "$\\frac{1}{a} + \\frac{1}{b} = \\frac{a + b}{a b}$\n",
    "\n",
    "\n",
    "Try to typeset the following formula: $x_1 = -\\frac{p}{2}+\\sqrt{\\frac{p^2}{4} - q}$."
   ]
  },
  {
   "cell_type": "markdown",
   "metadata": {},
   "source": [
    "#head"
   ]
  },
  {
   "cell_type": "markdown",
   "metadata": {},
   "source": [
    "## `\\left` and `\\right`"
   ]
  },
  {
   "cell_type": "markdown",
   "metadata": {},
   "source": [
    "To surround mathematical expressions with braces of the right size, enclose the expressions in `\\left(` and `\\right)`. \n",
    "\n",
    "`$\\left[ \\frac{ 3 \\left(\\frac{a}{b} + \\frac{\\pi}{d} \\right) }{ \\gamma } \\right]^{2}$` \n",
    "\n",
    "$\\left[ \\frac{ 3 \\left(\\frac{a}{b} + \\frac{\\pi}{d} \\right) }{ \\gamma } \\right]^{2}$\n",
    "\n",
    "If you want curly braces, you need to write `\\left\\{` and `\\right\\}`. (Do you know why?). `\\left` and `right` always come in pairs. If you do not want a symbol on the left, use `\\left.`, for example\n",
    "    \n",
    "    $\\left. \\frac{a(x)}{b(x)}\\right|_{x=0}$\n",
    "$\\left. \\frac{a(x)}{b(x)}\\right|_{x=0}$\n",
    "\n",
    "Often used delimiters are\n",
    "\n",
    "|delimiters | code |\n",
    "|:---------:|:----:|\n",
    "| $\\left(\\frac{1}{1}\\right)$ | `\\left( \\frac{1}{1} \\right)`|\n",
    "| $\\left|\\frac{1}{1}\\right|$ | `\\left`$|$ `\\frac{1}{1} \\right`$|$|\n",
    "| $\\left.\\frac{1}{1}\\right|$ | `\\left. \\frac{1}{1} \\right`$|$|\n",
    "| $\\left[\\frac{1}{1}\\right]$ | `\\left[ \\frac{1}{1} \\right]`|\n",
    "| $\\left\\{\\frac{1}{1}\\right\\}$ | `\\left\\{ \\frac{1}{1} \\right\\}`|\n",
    "| $\\left\\|\\frac{1}{1}\\right\\|$ | `\\left\\`$|$ `\\frac{1}{1} \\right\\`$|$|\n",
    "| $\\left\\lfloor\\frac{1}{1}\\right\\rfloor$ | `\\left\\lfloor \\frac{1}{1} \\right\\rfloor`|\n",
    "| $\\left\\langle\\frac{1}{1}\\right\\rangle$ | `\\left\\langle \\frac{1}{1} \\right\\rangle`|"
   ]
  },
  {
   "cell_type": "markdown",
   "metadata": {},
   "source": [
    "## Often used symbols"
   ]
  },
  {
   "cell_type": "markdown",
   "metadata": {},
   "source": [
    "Let us collect a number of often used symbols:\n",
    "\n",
    "symbol|code || symbol|code \n",
    ":------:|:-----:|-|:------:|:-----:\n",
    "$\\infty$ | `\\infty` || $\\sim$ | `\\sim`\n",
    "$\\le$ |`\\le` || $\\ge$ |`\\ge` \n",
    "$\\ll$ |`\\ll` || $\\gg$ |`\\gg` \n",
    "$\\pm$ |`\\pm` || $\\mp$ |`\\mp`\n",
    "$\\to$ |`\\to` || $\\mapsto$ |`\\mapsto`\n",
    "$\\partial$ | `\\partial` || $\\times$ | `\\times`\n",
    "$\\neq$ |`\\neq` || $\\approx$ | `\\approx`\n",
    "$\\{ \\}$ |`\\{\\}` || $\\|$ | `\\`$|$\n",
    "$\\cup$ | `\\cup` || $\\cap$ | `\\cap` \n",
    "$\\subset$ | `\\subset` || $\\wedge$ | `\\wedge` \n",
    "$\\in$ | `\\in` || $\\emptyset$ | `\\emptyset`\n",
    "$\\nabla$ | `\\nabla` || $\\Delta$| `\\Delta`\n",
    "$\\cdot $ |`\\cdot `|| $\\circ$ | `\\circ`\n",
    "$\\ldots$ | `\\ldots` || $\\cdots$ | `\\cdots`\n",
    "$\\vdots$ | `\\vdots` || $\\ddots$ | `\\ddots`\n",
    "$\\forall$ |`\\forall` || $\\exists$| `\\exists`\n",
    "$\\mathbb{R}$| `\\mathbb{R}` || $\\mathbb{N}$| `\\mathbb{N}` \n",
    "$\\Re$ | `\\Re` ||$\\Im$ | `\\Im`\n",
    "\n",
    "For a slightly longer list see [LaTeX Math Symbols](http://web.ift.uib.no/Teori/KURS/WRK/TeX/symALL.html). You can also simply draw a symbol with the mouse and have it recognized using [detexify](http://detexify.kirelabs.org/classify.html)."
   ]
  },
  {
   "cell_type": "markdown",
   "metadata": {},
   "source": [
    "## Annotating symbols"
   ]
  },
  {
   "cell_type": "markdown",
   "metadata": {},
   "source": [
    "Sometimes you need to annotate symbols with dots, hats, vector arrows, etc. The following table gives an overview:\n",
    "\n",
    "symbol|code || symbol|code \n",
    ":------:|:-----:|-|:------:|:-----:\n",
    "$\\dot{a}$ | `\\dot{a}` || $\\ddot{a}$ | `\\ddot{a}`\n",
    "$\\hat{a}$ | `\\hat{a}` || $\\vec{a}$ | `\\vec{a}`\n",
    "$\\tilde{a}$ | `\\tilde{a}` || $\\bar{a}$ | `\\bar{a}`"
   ]
  },
  {
   "cell_type": "markdown",
   "metadata": {},
   "source": [
    "To write integrals, use `\\int` and then write the boundaries as sub and superscript\n",
    "\n",
    "    \\begin{equation}\n",
    "    \\int_{-1}^{1} x^{2} dx = \n",
    "    \\left[\\frac{1}{3}x^{3}\\right]_{-1}^{1} = \\frac{2}{3}\n",
    "    \\end{equation}\n",
    "    \n",
    "\\begin{equation} \n",
    "\\int_{-1}^{1} x^{2} dx = \n",
    "\\left[\\frac{1}{3}x^{3}\\right]_{-1}^{1} = \\frac{2}{3}\n",
    "\\end{equation}\n",
    "\n",
    "Simlarly you can use `\\sum` and  `\\prod` to write sums and products, for example \n",
    "\\begin{equation}\n",
    "\\sum_{k=1}^\\infty \\frac{1}{k^3}\n",
    "\\end{equation}\n",
    "\n",
    "For formulas involving sine and cosine, write for example `$\\sin(\\pi) = 0$` which yields $\\sin(\\pi) = 0$. Similarly `\\cos`, `\\tan`, `\\log` and `\\det` are available with obvious meanings.\n",
    "\n",
    "Another example is expressing a limit using some of the symbols above:\n",
    "\n",
    "    \\begin{equation}\n",
    "\\lim_{\\epsilon \\to \\infty} \\frac{\\sin(\\epsilon)}{\\epsilon} \\neq 1\n",
    "\\end{equation}\n",
    "    \n",
    "\\begin{equation}\n",
    "\\lim_{\\epsilon \\to \\infty} \\frac{\\sin(\\epsilon)}{\\epsilon} \\neq 1\n",
    "\\end{equation}\n",
    "\n",
    "This type of syntax also applies for example to `\\min` and `\\max`"
   ]
  },
  {
   "cell_type": "markdown",
   "metadata": {},
   "source": [
    "## Aligning equations"
   ]
  },
  {
   "cell_type": "markdown",
   "metadata": {},
   "source": [
    "When you write long algebraic expressions with many equations, it is nice to align them neatly. You can do that by usign `\\begin{align}` and `\\end{align}` instead of `\\begin{equation}` and `\\end{equation}`. For example you can do\n",
    "\n",
    "    \\begin{align}\n",
    "3 x + 5 y &= 7 \\\\\n",
    "2 x - 20 y &= 10\n",
    "\\end{align}\n",
    "\n",
    "\\begin{align}\n",
    "3 x + 5 y &= 7 \\\\\n",
    "2 x - 20 y &= 10\n",
    "\\end{align}\n",
    "\n",
    "Note that the double backslash `\\\\` starts a new line and the ampersand `&` indicates the points where the equations are aligned.  "
   ]
  },
  {
   "cell_type": "markdown",
   "metadata": {},
   "source": [
    "## Matrices and vectors"
   ]
  },
  {
   "cell_type": "markdown",
   "metadata": {},
   "source": [
    "The previous equation can also be expressed in matrix form as follows:\n",
    "\n",
    "\\begin{equation}\n",
    "\\left(\n",
    "    \\begin{array}{cc} \n",
    "     3 & 5 \\\\\n",
    "     2 & -20\n",
    "    \\end{array}\n",
    "\\right)\n",
    "\\left(\n",
    "    \\begin{array}{c} \n",
    "     x \\\\\n",
    "     y\n",
    "    \\end{array}\n",
    "\\right) =\n",
    "\\left(\n",
    "    \\begin{array}{c} \n",
    "     7 \\\\\n",
    "     10\n",
    "    \\end{array}\n",
    "\\right)\n",
    "\\end{equation}\n",
    "\n",
    "The latex code for this is a bit longer, and uses the `array` environment:\n",
    "\n",
    "    \\begin{equation}\n",
    "\\left(\n",
    "    \\begin{array}{cc} \n",
    "     3 & 5 \\\\\n",
    "     2 & -20\n",
    "    \\end{array}\n",
    "\\right)\n",
    "\\left(\n",
    "    \\begin{array}{c} \n",
    "     x \\\\\n",
    "     y\n",
    "    \\end{array}\n",
    "\\right) =\n",
    "\\left(\n",
    "    \\begin{array}{c} \n",
    "     7 \\\\\n",
    "     10\n",
    "    \\end{array}\n",
    "\\right)\n",
    "\\end{equation}\n"
   ]
  },
  {
   "cell_type": "markdown",
   "metadata": {},
   "source": [
    "## Cases environment"
   ]
  },
  {
   "cell_type": "markdown",
   "metadata": {},
   "source": [
    "The same mechanism of using `&` and `\\\\` is also applied in the `cases` environment. Let us look at an example:\n",
    "\n",
    "    \\begin{equation}\n",
    "    \\Theta(x) = \\begin{cases}\n",
    "        0 & \\text{for $x<0$} \\\\\n",
    "        1 & \\text{else}\n",
    "    \\end{cases}\n",
    "    \\end{equation}\n",
    "\n",
    "\\begin{equation}\n",
    "\\Theta(x) = \\begin{cases}\n",
    "    0 & \\text{for $x<0$} \\\\\n",
    "    1 & \\text{else}\n",
    "\\end{cases}\n",
    "\\end{equation}\n",
    "\n",
    "Here we also made use of the `\\text{}` command to make text inside formulas appear like normal text. "
   ]
  },
  {
   "cell_type": "markdown",
   "metadata": {},
   "source": [
    "## Spaces"
   ]
  },
  {
   "cell_type": "markdown",
   "metadata": {},
   "source": [
    "If you really want to finetune the look of your formulas, you can make use of proper spacing between symbols. The following gives an overview:\n",
    "\n",
    "\n",
    "rendered text|code \n",
    ":------:|:-----:\n",
    "$a\\,b$|`a\\,b`\n",
    "$a\\;b$ |`a\\;b` \n",
    "$a\\quad b$|`a\\quad b`\n",
    "$a\\qquad b$|`a\\qquad b`\n"
   ]
  },
  {
   "cell_type": "code",
   "execution_count": null,
   "metadata": {
    "collapsed": true
   },
   "outputs": [],
   "source": []
  }
 ],
 "metadata": {
  "kernelspec": {
   "display_name": "Python 3",
   "language": "python",
   "name": "python3"
  },
  "language_info": {
   "codemirror_mode": {
    "name": "ipython",
    "version": 3
   },
   "file_extension": ".py",
   "mimetype": "text/x-python",
   "name": "python",
   "nbconvert_exporter": "python",
   "pygments_lexer": "ipython3",
   "version": "3.6.5"
  }
 },
 "nbformat": 4,
 "nbformat_minor": 1
}
