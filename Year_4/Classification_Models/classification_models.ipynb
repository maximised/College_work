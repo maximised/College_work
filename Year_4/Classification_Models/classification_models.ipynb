{
 "cells": [
  {
   "cell_type": "markdown",
   "id": "06c2b225-5272-4113-bb68-c499c81e001a",
   "metadata": {},
   "source": [
    "## Import packages"
   ]
  },
  {
   "cell_type": "code",
   "execution_count": 2,
   "id": "07d4d572-6c6c-458d-bc50-31e3ca8751f0",
   "metadata": {},
   "outputs": [],
   "source": [
    "import pandas as pd\n",
    "from sklearn.impute import SimpleImputer\n",
    "from sklearn.model_selection import train_test_split\n",
    "import category_encoders as ce\n",
    "from sklearn.preprocessing import OneHotEncoder\n",
    "import scipy.stats as ss\n",
    "from sklearn.metrics import confusion_matrix\n",
    "from sklearn.linear_model import LogisticRegression\n",
    "from autoimpute.imputations.series import MultinomialLogisticImputer\n",
    "from autoimpute.imputations.dataframe.base_imputer import MultinomialLogisticImputer\n",
    "from sklearn.neighbors import KNeighborsRegressor\n",
    "from sklearn.neighbors import KNeighborsClassifier\n",
    "from sklearn.model_selection import cross_val_score\n",
    "from sklearn.tree import DecisionTreeClassifier\n",
    "from sklearn.preprocessing import StandardScaler\n",
    "from sklearn.model_selection import RepeatedStratifiedKFold\n",
    "from mlxtend.evaluate import paired_ttest_5x2cv\n",
    "import numpy as np\n",
    "import pandas as pd\n",
    "from pgmpy.models import BayesianNetwork\n",
    "from collections import Counter\n",
    "from sklearn import metrics\n",
    "\n",
    "pd.set_option('display.max_columns', None)\n"
   ]
  },
  {
   "cell_type": "markdown",
   "id": "6a75e68a-3d62-412e-99bc-ad93300d568b",
   "metadata": {},
   "source": [
    "## Read in csv data"
   ]
  },
  {
   "cell_type": "code",
   "execution_count": 3,
   "id": "ac9da7c3-fc18-4db7-82ac-37c0c63208b5",
   "metadata": {},
   "outputs": [],
   "source": [
    "df = pd.read_csv('adult.csv')\n",
    "df = df.replace('?', np.nan)\n",
    "#df.info()\n",
    "\n",
    "# workclass, occupation, native.country have nan values"
   ]
  },
  {
   "cell_type": "markdown",
   "id": "3d42373d-2e76-4031-bcb1-1524bfb91ab6",
   "metadata": {},
   "source": [
    "#### preprocessing"
   ]
  },
  {
   "cell_type": "code",
   "execution_count": 4,
   "id": "8d589d62-244f-44b9-84fd-176c80a779c7",
   "metadata": {},
   "outputs": [],
   "source": [
    "nominal_cols = ['workclass','marital.status','occupation','relationship','race','sex','income']\n",
    "y_cols = ['income']\n",
    "x_cols = ['age','workclass','fnlwgt','education.num','marital.status','occupation','relationship','race',\n",
    "     'sex','capital','hours.per.week']\n",
    "\n",
    "# Combine capital.loss and capital.gain\n",
    "df['capital'] = df['capital.gain'] + df['capital.loss']\n",
    "\n",
    "# remove unnecessary variables (education, native.country, capital.gain, capital.loss) native.country has too many values\n",
    "df = df[['age','workclass','fnlwgt','education.num','marital.status','occupation','relationship','race',\n",
    "        'sex','capital','hours.per.week','income']]\n"
   ]
  },
  {
   "cell_type": "markdown",
   "id": "cb9aceaa-c6fb-446c-b687-f8979d38f497",
   "metadata": {},
   "source": [
    "## 1. Imputation of data"
   ]
  },
  {
   "cell_type": "code",
   "execution_count": 5,
   "id": "82549be8-b388-4a0d-bf07-00db0c96ff0e",
   "metadata": {},
   "outputs": [],
   "source": [
    "# list of indices that contain nan values\n",
    "wc_index = df[df['workclass'].isna()].index.tolist()\n",
    "occ_index = df[df['occupation'].isna()].index.tolist()"
   ]
  },
  {
   "cell_type": "markdown",
   "id": "12d009ca-b55a-439d-b3ab-abfdaf17195f",
   "metadata": {},
   "source": [
    "#### Mean Imputation"
   ]
  },
  {
   "cell_type": "code",
   "execution_count": 6,
   "id": "53fe65c7-f3cc-4ac3-9412-bbfa2616e3e7",
   "metadata": {},
   "outputs": [],
   "source": [
    "df_mean_imputation = df.apply(lambda x: x.fillna(x.value_counts().index[0]))"
   ]
  },
  {
   "cell_type": "markdown",
   "id": "251ae946-1181-4511-8ca7-596baf559983",
   "metadata": {},
   "source": [
    "#### Cold Deck Imputation"
   ]
  },
  {
   "cell_type": "code",
   "execution_count": 7,
   "id": "7b137370-7d9a-494c-8b0d-f57906f3e943",
   "metadata": {
    "tags": []
   },
   "outputs": [],
   "source": [
    "def cold_deck_impute(input_df, impute_col):\n",
    "    model = KNeighborsClassifier(n_neighbors=1)\n",
    "    df = input_df.copy()\n",
    "    \n",
    "    # df should have encoded/dummy categorical variables except for columns with nan\n",
    "    x_cols = nominal_cols.copy()\n",
    "    x_cols.remove(impute_col)\n",
    "    ce_OHE = ce.OneHotEncoder(cols=x_cols)\n",
    "    df_copy = ce_OHE.fit_transform(df)\n",
    "    \n",
    "    # imputation\n",
    "    df_test = df_copy[df_copy[impute_col].isna()]\n",
    "    df_train = df_copy.dropna()\n",
    "\n",
    "    model.fit(df_train.loc[:, df_train.columns != impute_col], df_train[impute_col])\n",
    "    df.loc[df[impute_col].isna(), impute_col] = model.predict(df_test.loc[:, df_test.columns != impute_col])\n",
    "    return df"
   ]
  },
  {
   "cell_type": "code",
   "execution_count": 8,
   "id": "49c72f05-25d0-416d-9ea6-096923630b40",
   "metadata": {},
   "outputs": [],
   "source": [
    "df_cold_deck = cold_deck_impute(df, 'workclass')\n",
    "df_cold_deck = cold_deck_impute(df_cold_deck, 'occupation')"
   ]
  },
  {
   "cell_type": "markdown",
   "id": "bf7c8549-04de-4ad6-bae6-347fad6b2fc9",
   "metadata": {},
   "source": [
    "#### Regression imputation"
   ]
  },
  {
   "cell_type": "code",
   "execution_count": 9,
   "id": "bc19f81d-dc98-4d93-86e2-51c40629ec67",
   "metadata": {
    "tags": []
   },
   "outputs": [],
   "source": [
    "def impute_regression(input_df, impute_col):\n",
    "    imp = MultinomialLogisticImputer()\n",
    "    df = input_df.copy()\n",
    "\n",
    "    # df should have encoded/dummy categorical variables except for columns with nan\n",
    "    x_cols = nominal_cols.copy()\n",
    "    x_cols.remove(impute_col)\n",
    "    ce_OHE = ce.OneHotEncoder(cols=x_cols)\n",
    "    df_copy = ce_OHE.fit_transform(df)\n",
    "\n",
    "    # imputation\n",
    "    df_test = df_copy[df_copy[impute_col].isna()]\n",
    "    df_train = df_copy.dropna()\n",
    "\n",
    "    imp.fit(df_train.loc[:, df_train.columns != impute_col], df_train[impute_col])\n",
    "    df.loc[df[impute_col].isna(), impute_col] = imp.impute(df_test.loc[:, df_test.columns != impute_col])\n",
    "\n",
    "    return df"
   ]
  },
  {
   "cell_type": "code",
   "execution_count": 10,
   "id": "7c3bf9e8-3663-49d9-94bd-4be91a6a46bf",
   "metadata": {},
   "outputs": [
    {
     "name": "stderr",
     "output_type": "stream",
     "text": [
      "/Library/Frameworks/Python.framework/Versions/3.9/lib/python3.9/site-packages/sklearn/linear_model/_sag.py:328: ConvergenceWarning: The max_iter was reached which means the coef_ did not converge\n",
      "  warnings.warn(\"The max_iter was reached which means \"\n",
      "/Library/Frameworks/Python.framework/Versions/3.9/lib/python3.9/site-packages/sklearn/linear_model/_sag.py:328: ConvergenceWarning: The max_iter was reached which means the coef_ did not converge\n",
      "  warnings.warn(\"The max_iter was reached which means \"\n"
     ]
    }
   ],
   "source": [
    "# workclass imputation\n",
    "df_regression_imputation = impute_regression(df, 'workclass')\n",
    "\n",
    "# occupation imputation\n",
    "df_regression_imputation = impute_regression(df_regression_imputation, 'occupation')"
   ]
  },
  {
   "cell_type": "markdown",
   "id": "abcc095a-f46a-48a7-9a63-f104b3e4a3b6",
   "metadata": {},
   "source": [
    "#### Check imputation results"
   ]
  },
  {
   "cell_type": "code",
   "execution_count": 11,
   "id": "97bbba8c-7450-488b-9ecb-8ec0abee0292",
   "metadata": {},
   "outputs": [
    {
     "name": "stdout",
     "output_type": "stream",
     "text": [
      "Counter({'Private': 1836})\n",
      "Counter({'Prof-specialty': 1843})\n"
     ]
    }
   ],
   "source": [
    "# Check how many of each value was imputed here\n",
    "test_df = df_mean_imputation\n",
    "print(Counter(test_df.loc[wc_index, 'workclass']))\n",
    "print(Counter(test_df.loc[occ_index, 'occupation']))"
   ]
  },
  {
   "cell_type": "markdown",
   "id": "872b449b-4d6e-46e6-a414-88382e3aa8ee",
   "metadata": {},
   "source": [
    "### Encode Categorical data"
   ]
  },
  {
   "cell_type": "code",
   "execution_count": 12,
   "id": "89f76e68-5595-4576-a5e1-118f13a690b4",
   "metadata": {},
   "outputs": [],
   "source": [
    "# Deal with categorical variables\n",
    "df_list = [df_mean_imputation, df_cold_deck, df_regression_imputation]\n",
    "cols = ['workclass','marital.status','occupation','relationship','race','sex']\n",
    "ce_OHE = ce.OneHotEncoder(cols=cols)\n",
    "\n",
    "for i in range(len(df_list)):\n",
    "    df_list[i] = ce_OHE.fit_transform(df_list[i])\n",
    "df_dict = {'mean_impuation':df_list[0], 'cold deck':df_list[1], 'regression_imputation':df_list[2]}\n"
   ]
  },
  {
   "cell_type": "code",
   "execution_count": 13,
   "id": "3dde0121-b14b-47c0-a2ba-dd1b6181dff4",
   "metadata": {},
   "outputs": [
    {
     "data": {
      "text/html": [
       "<div>\n",
       "<style scoped>\n",
       "    .dataframe tbody tr th:only-of-type {\n",
       "        vertical-align: middle;\n",
       "    }\n",
       "\n",
       "    .dataframe tbody tr th {\n",
       "        vertical-align: top;\n",
       "    }\n",
       "\n",
       "    .dataframe thead th {\n",
       "        text-align: right;\n",
       "    }\n",
       "</style>\n",
       "<table border=\"1\" class=\"dataframe\">\n",
       "  <thead>\n",
       "    <tr style=\"text-align: right;\">\n",
       "      <th></th>\n",
       "      <th>age</th>\n",
       "      <th>workclass_1</th>\n",
       "      <th>workclass_2</th>\n",
       "      <th>workclass_3</th>\n",
       "      <th>workclass_4</th>\n",
       "      <th>workclass_5</th>\n",
       "      <th>workclass_6</th>\n",
       "      <th>workclass_7</th>\n",
       "      <th>workclass_8</th>\n",
       "      <th>fnlwgt</th>\n",
       "      <th>education.num</th>\n",
       "      <th>marital.status_1</th>\n",
       "      <th>marital.status_2</th>\n",
       "      <th>marital.status_3</th>\n",
       "      <th>marital.status_4</th>\n",
       "      <th>marital.status_5</th>\n",
       "      <th>marital.status_6</th>\n",
       "      <th>marital.status_7</th>\n",
       "      <th>occupation_1</th>\n",
       "      <th>occupation_2</th>\n",
       "      <th>occupation_3</th>\n",
       "      <th>occupation_4</th>\n",
       "      <th>occupation_5</th>\n",
       "      <th>occupation_6</th>\n",
       "      <th>occupation_7</th>\n",
       "      <th>occupation_8</th>\n",
       "      <th>occupation_9</th>\n",
       "      <th>occupation_10</th>\n",
       "      <th>occupation_11</th>\n",
       "      <th>occupation_12</th>\n",
       "      <th>occupation_13</th>\n",
       "      <th>occupation_14</th>\n",
       "      <th>relationship_1</th>\n",
       "      <th>relationship_2</th>\n",
       "      <th>relationship_3</th>\n",
       "      <th>relationship_4</th>\n",
       "      <th>relationship_5</th>\n",
       "      <th>relationship_6</th>\n",
       "      <th>race_1</th>\n",
       "      <th>race_2</th>\n",
       "      <th>race_3</th>\n",
       "      <th>race_4</th>\n",
       "      <th>race_5</th>\n",
       "      <th>sex_1</th>\n",
       "      <th>sex_2</th>\n",
       "      <th>capital</th>\n",
       "      <th>hours.per.week</th>\n",
       "      <th>income</th>\n",
       "    </tr>\n",
       "  </thead>\n",
       "  <tbody>\n",
       "    <tr>\n",
       "      <th>0</th>\n",
       "      <td>90</td>\n",
       "      <td>1</td>\n",
       "      <td>0</td>\n",
       "      <td>0</td>\n",
       "      <td>0</td>\n",
       "      <td>0</td>\n",
       "      <td>0</td>\n",
       "      <td>0</td>\n",
       "      <td>0</td>\n",
       "      <td>77053</td>\n",
       "      <td>9</td>\n",
       "      <td>1</td>\n",
       "      <td>0</td>\n",
       "      <td>0</td>\n",
       "      <td>0</td>\n",
       "      <td>0</td>\n",
       "      <td>0</td>\n",
       "      <td>0</td>\n",
       "      <td>1</td>\n",
       "      <td>0</td>\n",
       "      <td>0</td>\n",
       "      <td>0</td>\n",
       "      <td>0</td>\n",
       "      <td>0</td>\n",
       "      <td>0</td>\n",
       "      <td>0</td>\n",
       "      <td>0</td>\n",
       "      <td>0</td>\n",
       "      <td>0</td>\n",
       "      <td>0</td>\n",
       "      <td>0</td>\n",
       "      <td>0</td>\n",
       "      <td>1</td>\n",
       "      <td>0</td>\n",
       "      <td>0</td>\n",
       "      <td>0</td>\n",
       "      <td>0</td>\n",
       "      <td>0</td>\n",
       "      <td>1</td>\n",
       "      <td>0</td>\n",
       "      <td>0</td>\n",
       "      <td>0</td>\n",
       "      <td>0</td>\n",
       "      <td>1</td>\n",
       "      <td>0</td>\n",
       "      <td>4356</td>\n",
       "      <td>40</td>\n",
       "      <td>&lt;=50K</td>\n",
       "    </tr>\n",
       "    <tr>\n",
       "      <th>1</th>\n",
       "      <td>82</td>\n",
       "      <td>1</td>\n",
       "      <td>0</td>\n",
       "      <td>0</td>\n",
       "      <td>0</td>\n",
       "      <td>0</td>\n",
       "      <td>0</td>\n",
       "      <td>0</td>\n",
       "      <td>0</td>\n",
       "      <td>132870</td>\n",
       "      <td>9</td>\n",
       "      <td>1</td>\n",
       "      <td>0</td>\n",
       "      <td>0</td>\n",
       "      <td>0</td>\n",
       "      <td>0</td>\n",
       "      <td>0</td>\n",
       "      <td>0</td>\n",
       "      <td>0</td>\n",
       "      <td>1</td>\n",
       "      <td>0</td>\n",
       "      <td>0</td>\n",
       "      <td>0</td>\n",
       "      <td>0</td>\n",
       "      <td>0</td>\n",
       "      <td>0</td>\n",
       "      <td>0</td>\n",
       "      <td>0</td>\n",
       "      <td>0</td>\n",
       "      <td>0</td>\n",
       "      <td>0</td>\n",
       "      <td>0</td>\n",
       "      <td>1</td>\n",
       "      <td>0</td>\n",
       "      <td>0</td>\n",
       "      <td>0</td>\n",
       "      <td>0</td>\n",
       "      <td>0</td>\n",
       "      <td>1</td>\n",
       "      <td>0</td>\n",
       "      <td>0</td>\n",
       "      <td>0</td>\n",
       "      <td>0</td>\n",
       "      <td>1</td>\n",
       "      <td>0</td>\n",
       "      <td>4356</td>\n",
       "      <td>18</td>\n",
       "      <td>&lt;=50K</td>\n",
       "    </tr>\n",
       "    <tr>\n",
       "      <th>2</th>\n",
       "      <td>66</td>\n",
       "      <td>1</td>\n",
       "      <td>0</td>\n",
       "      <td>0</td>\n",
       "      <td>0</td>\n",
       "      <td>0</td>\n",
       "      <td>0</td>\n",
       "      <td>0</td>\n",
       "      <td>0</td>\n",
       "      <td>186061</td>\n",
       "      <td>10</td>\n",
       "      <td>1</td>\n",
       "      <td>0</td>\n",
       "      <td>0</td>\n",
       "      <td>0</td>\n",
       "      <td>0</td>\n",
       "      <td>0</td>\n",
       "      <td>0</td>\n",
       "      <td>1</td>\n",
       "      <td>0</td>\n",
       "      <td>0</td>\n",
       "      <td>0</td>\n",
       "      <td>0</td>\n",
       "      <td>0</td>\n",
       "      <td>0</td>\n",
       "      <td>0</td>\n",
       "      <td>0</td>\n",
       "      <td>0</td>\n",
       "      <td>0</td>\n",
       "      <td>0</td>\n",
       "      <td>0</td>\n",
       "      <td>0</td>\n",
       "      <td>0</td>\n",
       "      <td>1</td>\n",
       "      <td>0</td>\n",
       "      <td>0</td>\n",
       "      <td>0</td>\n",
       "      <td>0</td>\n",
       "      <td>0</td>\n",
       "      <td>1</td>\n",
       "      <td>0</td>\n",
       "      <td>0</td>\n",
       "      <td>0</td>\n",
       "      <td>1</td>\n",
       "      <td>0</td>\n",
       "      <td>4356</td>\n",
       "      <td>40</td>\n",
       "      <td>&lt;=50K</td>\n",
       "    </tr>\n",
       "    <tr>\n",
       "      <th>3</th>\n",
       "      <td>54</td>\n",
       "      <td>1</td>\n",
       "      <td>0</td>\n",
       "      <td>0</td>\n",
       "      <td>0</td>\n",
       "      <td>0</td>\n",
       "      <td>0</td>\n",
       "      <td>0</td>\n",
       "      <td>0</td>\n",
       "      <td>140359</td>\n",
       "      <td>4</td>\n",
       "      <td>0</td>\n",
       "      <td>1</td>\n",
       "      <td>0</td>\n",
       "      <td>0</td>\n",
       "      <td>0</td>\n",
       "      <td>0</td>\n",
       "      <td>0</td>\n",
       "      <td>0</td>\n",
       "      <td>0</td>\n",
       "      <td>1</td>\n",
       "      <td>0</td>\n",
       "      <td>0</td>\n",
       "      <td>0</td>\n",
       "      <td>0</td>\n",
       "      <td>0</td>\n",
       "      <td>0</td>\n",
       "      <td>0</td>\n",
       "      <td>0</td>\n",
       "      <td>0</td>\n",
       "      <td>0</td>\n",
       "      <td>0</td>\n",
       "      <td>0</td>\n",
       "      <td>1</td>\n",
       "      <td>0</td>\n",
       "      <td>0</td>\n",
       "      <td>0</td>\n",
       "      <td>0</td>\n",
       "      <td>1</td>\n",
       "      <td>0</td>\n",
       "      <td>0</td>\n",
       "      <td>0</td>\n",
       "      <td>0</td>\n",
       "      <td>1</td>\n",
       "      <td>0</td>\n",
       "      <td>3900</td>\n",
       "      <td>40</td>\n",
       "      <td>&lt;=50K</td>\n",
       "    </tr>\n",
       "    <tr>\n",
       "      <th>4</th>\n",
       "      <td>41</td>\n",
       "      <td>1</td>\n",
       "      <td>0</td>\n",
       "      <td>0</td>\n",
       "      <td>0</td>\n",
       "      <td>0</td>\n",
       "      <td>0</td>\n",
       "      <td>0</td>\n",
       "      <td>0</td>\n",
       "      <td>264663</td>\n",
       "      <td>10</td>\n",
       "      <td>0</td>\n",
       "      <td>0</td>\n",
       "      <td>1</td>\n",
       "      <td>0</td>\n",
       "      <td>0</td>\n",
       "      <td>0</td>\n",
       "      <td>0</td>\n",
       "      <td>1</td>\n",
       "      <td>0</td>\n",
       "      <td>0</td>\n",
       "      <td>0</td>\n",
       "      <td>0</td>\n",
       "      <td>0</td>\n",
       "      <td>0</td>\n",
       "      <td>0</td>\n",
       "      <td>0</td>\n",
       "      <td>0</td>\n",
       "      <td>0</td>\n",
       "      <td>0</td>\n",
       "      <td>0</td>\n",
       "      <td>0</td>\n",
       "      <td>0</td>\n",
       "      <td>0</td>\n",
       "      <td>1</td>\n",
       "      <td>0</td>\n",
       "      <td>0</td>\n",
       "      <td>0</td>\n",
       "      <td>1</td>\n",
       "      <td>0</td>\n",
       "      <td>0</td>\n",
       "      <td>0</td>\n",
       "      <td>0</td>\n",
       "      <td>1</td>\n",
       "      <td>0</td>\n",
       "      <td>3900</td>\n",
       "      <td>40</td>\n",
       "      <td>&lt;=50K</td>\n",
       "    </tr>\n",
       "    <tr>\n",
       "      <th>...</th>\n",
       "      <td>...</td>\n",
       "      <td>...</td>\n",
       "      <td>...</td>\n",
       "      <td>...</td>\n",
       "      <td>...</td>\n",
       "      <td>...</td>\n",
       "      <td>...</td>\n",
       "      <td>...</td>\n",
       "      <td>...</td>\n",
       "      <td>...</td>\n",
       "      <td>...</td>\n",
       "      <td>...</td>\n",
       "      <td>...</td>\n",
       "      <td>...</td>\n",
       "      <td>...</td>\n",
       "      <td>...</td>\n",
       "      <td>...</td>\n",
       "      <td>...</td>\n",
       "      <td>...</td>\n",
       "      <td>...</td>\n",
       "      <td>...</td>\n",
       "      <td>...</td>\n",
       "      <td>...</td>\n",
       "      <td>...</td>\n",
       "      <td>...</td>\n",
       "      <td>...</td>\n",
       "      <td>...</td>\n",
       "      <td>...</td>\n",
       "      <td>...</td>\n",
       "      <td>...</td>\n",
       "      <td>...</td>\n",
       "      <td>...</td>\n",
       "      <td>...</td>\n",
       "      <td>...</td>\n",
       "      <td>...</td>\n",
       "      <td>...</td>\n",
       "      <td>...</td>\n",
       "      <td>...</td>\n",
       "      <td>...</td>\n",
       "      <td>...</td>\n",
       "      <td>...</td>\n",
       "      <td>...</td>\n",
       "      <td>...</td>\n",
       "      <td>...</td>\n",
       "      <td>...</td>\n",
       "      <td>...</td>\n",
       "      <td>...</td>\n",
       "      <td>...</td>\n",
       "    </tr>\n",
       "    <tr>\n",
       "      <th>32556</th>\n",
       "      <td>22</td>\n",
       "      <td>1</td>\n",
       "      <td>0</td>\n",
       "      <td>0</td>\n",
       "      <td>0</td>\n",
       "      <td>0</td>\n",
       "      <td>0</td>\n",
       "      <td>0</td>\n",
       "      <td>0</td>\n",
       "      <td>310152</td>\n",
       "      <td>10</td>\n",
       "      <td>0</td>\n",
       "      <td>0</td>\n",
       "      <td>0</td>\n",
       "      <td>1</td>\n",
       "      <td>0</td>\n",
       "      <td>0</td>\n",
       "      <td>0</td>\n",
       "      <td>0</td>\n",
       "      <td>0</td>\n",
       "      <td>0</td>\n",
       "      <td>0</td>\n",
       "      <td>0</td>\n",
       "      <td>0</td>\n",
       "      <td>0</td>\n",
       "      <td>0</td>\n",
       "      <td>0</td>\n",
       "      <td>0</td>\n",
       "      <td>0</td>\n",
       "      <td>1</td>\n",
       "      <td>0</td>\n",
       "      <td>0</td>\n",
       "      <td>1</td>\n",
       "      <td>0</td>\n",
       "      <td>0</td>\n",
       "      <td>0</td>\n",
       "      <td>0</td>\n",
       "      <td>0</td>\n",
       "      <td>1</td>\n",
       "      <td>0</td>\n",
       "      <td>0</td>\n",
       "      <td>0</td>\n",
       "      <td>0</td>\n",
       "      <td>0</td>\n",
       "      <td>1</td>\n",
       "      <td>0</td>\n",
       "      <td>40</td>\n",
       "      <td>&lt;=50K</td>\n",
       "    </tr>\n",
       "    <tr>\n",
       "      <th>32557</th>\n",
       "      <td>27</td>\n",
       "      <td>1</td>\n",
       "      <td>0</td>\n",
       "      <td>0</td>\n",
       "      <td>0</td>\n",
       "      <td>0</td>\n",
       "      <td>0</td>\n",
       "      <td>0</td>\n",
       "      <td>0</td>\n",
       "      <td>257302</td>\n",
       "      <td>12</td>\n",
       "      <td>0</td>\n",
       "      <td>0</td>\n",
       "      <td>0</td>\n",
       "      <td>0</td>\n",
       "      <td>1</td>\n",
       "      <td>0</td>\n",
       "      <td>0</td>\n",
       "      <td>0</td>\n",
       "      <td>0</td>\n",
       "      <td>0</td>\n",
       "      <td>0</td>\n",
       "      <td>0</td>\n",
       "      <td>0</td>\n",
       "      <td>0</td>\n",
       "      <td>0</td>\n",
       "      <td>0</td>\n",
       "      <td>0</td>\n",
       "      <td>1</td>\n",
       "      <td>0</td>\n",
       "      <td>0</td>\n",
       "      <td>0</td>\n",
       "      <td>0</td>\n",
       "      <td>0</td>\n",
       "      <td>0</td>\n",
       "      <td>0</td>\n",
       "      <td>0</td>\n",
       "      <td>1</td>\n",
       "      <td>1</td>\n",
       "      <td>0</td>\n",
       "      <td>0</td>\n",
       "      <td>0</td>\n",
       "      <td>0</td>\n",
       "      <td>1</td>\n",
       "      <td>0</td>\n",
       "      <td>0</td>\n",
       "      <td>38</td>\n",
       "      <td>&lt;=50K</td>\n",
       "    </tr>\n",
       "    <tr>\n",
       "      <th>32558</th>\n",
       "      <td>40</td>\n",
       "      <td>1</td>\n",
       "      <td>0</td>\n",
       "      <td>0</td>\n",
       "      <td>0</td>\n",
       "      <td>0</td>\n",
       "      <td>0</td>\n",
       "      <td>0</td>\n",
       "      <td>0</td>\n",
       "      <td>154374</td>\n",
       "      <td>9</td>\n",
       "      <td>0</td>\n",
       "      <td>0</td>\n",
       "      <td>0</td>\n",
       "      <td>0</td>\n",
       "      <td>1</td>\n",
       "      <td>0</td>\n",
       "      <td>0</td>\n",
       "      <td>0</td>\n",
       "      <td>0</td>\n",
       "      <td>1</td>\n",
       "      <td>0</td>\n",
       "      <td>0</td>\n",
       "      <td>0</td>\n",
       "      <td>0</td>\n",
       "      <td>0</td>\n",
       "      <td>0</td>\n",
       "      <td>0</td>\n",
       "      <td>0</td>\n",
       "      <td>0</td>\n",
       "      <td>0</td>\n",
       "      <td>0</td>\n",
       "      <td>0</td>\n",
       "      <td>0</td>\n",
       "      <td>0</td>\n",
       "      <td>0</td>\n",
       "      <td>1</td>\n",
       "      <td>0</td>\n",
       "      <td>1</td>\n",
       "      <td>0</td>\n",
       "      <td>0</td>\n",
       "      <td>0</td>\n",
       "      <td>0</td>\n",
       "      <td>0</td>\n",
       "      <td>1</td>\n",
       "      <td>0</td>\n",
       "      <td>40</td>\n",
       "      <td>&gt;50K</td>\n",
       "    </tr>\n",
       "    <tr>\n",
       "      <th>32559</th>\n",
       "      <td>58</td>\n",
       "      <td>1</td>\n",
       "      <td>0</td>\n",
       "      <td>0</td>\n",
       "      <td>0</td>\n",
       "      <td>0</td>\n",
       "      <td>0</td>\n",
       "      <td>0</td>\n",
       "      <td>0</td>\n",
       "      <td>151910</td>\n",
       "      <td>9</td>\n",
       "      <td>1</td>\n",
       "      <td>0</td>\n",
       "      <td>0</td>\n",
       "      <td>0</td>\n",
       "      <td>0</td>\n",
       "      <td>0</td>\n",
       "      <td>0</td>\n",
       "      <td>0</td>\n",
       "      <td>0</td>\n",
       "      <td>0</td>\n",
       "      <td>0</td>\n",
       "      <td>1</td>\n",
       "      <td>0</td>\n",
       "      <td>0</td>\n",
       "      <td>0</td>\n",
       "      <td>0</td>\n",
       "      <td>0</td>\n",
       "      <td>0</td>\n",
       "      <td>0</td>\n",
       "      <td>0</td>\n",
       "      <td>0</td>\n",
       "      <td>0</td>\n",
       "      <td>1</td>\n",
       "      <td>0</td>\n",
       "      <td>0</td>\n",
       "      <td>0</td>\n",
       "      <td>0</td>\n",
       "      <td>1</td>\n",
       "      <td>0</td>\n",
       "      <td>0</td>\n",
       "      <td>0</td>\n",
       "      <td>0</td>\n",
       "      <td>1</td>\n",
       "      <td>0</td>\n",
       "      <td>0</td>\n",
       "      <td>40</td>\n",
       "      <td>&lt;=50K</td>\n",
       "    </tr>\n",
       "    <tr>\n",
       "      <th>32560</th>\n",
       "      <td>22</td>\n",
       "      <td>1</td>\n",
       "      <td>0</td>\n",
       "      <td>0</td>\n",
       "      <td>0</td>\n",
       "      <td>0</td>\n",
       "      <td>0</td>\n",
       "      <td>0</td>\n",
       "      <td>0</td>\n",
       "      <td>201490</td>\n",
       "      <td>9</td>\n",
       "      <td>0</td>\n",
       "      <td>0</td>\n",
       "      <td>0</td>\n",
       "      <td>1</td>\n",
       "      <td>0</td>\n",
       "      <td>0</td>\n",
       "      <td>0</td>\n",
       "      <td>0</td>\n",
       "      <td>0</td>\n",
       "      <td>0</td>\n",
       "      <td>0</td>\n",
       "      <td>1</td>\n",
       "      <td>0</td>\n",
       "      <td>0</td>\n",
       "      <td>0</td>\n",
       "      <td>0</td>\n",
       "      <td>0</td>\n",
       "      <td>0</td>\n",
       "      <td>0</td>\n",
       "      <td>0</td>\n",
       "      <td>0</td>\n",
       "      <td>0</td>\n",
       "      <td>0</td>\n",
       "      <td>1</td>\n",
       "      <td>0</td>\n",
       "      <td>0</td>\n",
       "      <td>0</td>\n",
       "      <td>1</td>\n",
       "      <td>0</td>\n",
       "      <td>0</td>\n",
       "      <td>0</td>\n",
       "      <td>0</td>\n",
       "      <td>0</td>\n",
       "      <td>1</td>\n",
       "      <td>0</td>\n",
       "      <td>20</td>\n",
       "      <td>&lt;=50K</td>\n",
       "    </tr>\n",
       "  </tbody>\n",
       "</table>\n",
       "<p>32561 rows × 48 columns</p>\n",
       "</div>"
      ],
      "text/plain": [
       "       age  workclass_1  workclass_2  workclass_3  workclass_4  workclass_5  \\\n",
       "0       90            1            0            0            0            0   \n",
       "1       82            1            0            0            0            0   \n",
       "2       66            1            0            0            0            0   \n",
       "3       54            1            0            0            0            0   \n",
       "4       41            1            0            0            0            0   \n",
       "...    ...          ...          ...          ...          ...          ...   \n",
       "32556   22            1            0            0            0            0   \n",
       "32557   27            1            0            0            0            0   \n",
       "32558   40            1            0            0            0            0   \n",
       "32559   58            1            0            0            0            0   \n",
       "32560   22            1            0            0            0            0   \n",
       "\n",
       "       workclass_6  workclass_7  workclass_8  fnlwgt  education.num  \\\n",
       "0                0            0            0   77053              9   \n",
       "1                0            0            0  132870              9   \n",
       "2                0            0            0  186061             10   \n",
       "3                0            0            0  140359              4   \n",
       "4                0            0            0  264663             10   \n",
       "...            ...          ...          ...     ...            ...   \n",
       "32556            0            0            0  310152             10   \n",
       "32557            0            0            0  257302             12   \n",
       "32558            0            0            0  154374              9   \n",
       "32559            0            0            0  151910              9   \n",
       "32560            0            0            0  201490              9   \n",
       "\n",
       "       marital.status_1  marital.status_2  marital.status_3  marital.status_4  \\\n",
       "0                     1                 0                 0                 0   \n",
       "1                     1                 0                 0                 0   \n",
       "2                     1                 0                 0                 0   \n",
       "3                     0                 1                 0                 0   \n",
       "4                     0                 0                 1                 0   \n",
       "...                 ...               ...               ...               ...   \n",
       "32556                 0                 0                 0                 1   \n",
       "32557                 0                 0                 0                 0   \n",
       "32558                 0                 0                 0                 0   \n",
       "32559                 1                 0                 0                 0   \n",
       "32560                 0                 0                 0                 1   \n",
       "\n",
       "       marital.status_5  marital.status_6  marital.status_7  occupation_1  \\\n",
       "0                     0                 0                 0             1   \n",
       "1                     0                 0                 0             0   \n",
       "2                     0                 0                 0             1   \n",
       "3                     0                 0                 0             0   \n",
       "4                     0                 0                 0             1   \n",
       "...                 ...               ...               ...           ...   \n",
       "32556                 0                 0                 0             0   \n",
       "32557                 1                 0                 0             0   \n",
       "32558                 1                 0                 0             0   \n",
       "32559                 0                 0                 0             0   \n",
       "32560                 0                 0                 0             0   \n",
       "\n",
       "       occupation_2  occupation_3  occupation_4  occupation_5  occupation_6  \\\n",
       "0                 0             0             0             0             0   \n",
       "1                 1             0             0             0             0   \n",
       "2                 0             0             0             0             0   \n",
       "3                 0             1             0             0             0   \n",
       "4                 0             0             0             0             0   \n",
       "...             ...           ...           ...           ...           ...   \n",
       "32556             0             0             0             0             0   \n",
       "32557             0             0             0             0             0   \n",
       "32558             0             1             0             0             0   \n",
       "32559             0             0             0             1             0   \n",
       "32560             0             0             0             1             0   \n",
       "\n",
       "       occupation_7  occupation_8  occupation_9  occupation_10  occupation_11  \\\n",
       "0                 0             0             0              0              0   \n",
       "1                 0             0             0              0              0   \n",
       "2                 0             0             0              0              0   \n",
       "3                 0             0             0              0              0   \n",
       "4                 0             0             0              0              0   \n",
       "...             ...           ...           ...            ...            ...   \n",
       "32556             0             0             0              0              0   \n",
       "32557             0             0             0              0              1   \n",
       "32558             0             0             0              0              0   \n",
       "32559             0             0             0              0              0   \n",
       "32560             0             0             0              0              0   \n",
       "\n",
       "       occupation_12  occupation_13  occupation_14  relationship_1  \\\n",
       "0                  0              0              0               1   \n",
       "1                  0              0              0               1   \n",
       "2                  0              0              0               0   \n",
       "3                  0              0              0               0   \n",
       "4                  0              0              0               0   \n",
       "...              ...            ...            ...             ...   \n",
       "32556              1              0              0               1   \n",
       "32557              0              0              0               0   \n",
       "32558              0              0              0               0   \n",
       "32559              0              0              0               0   \n",
       "32560              0              0              0               0   \n",
       "\n",
       "       relationship_2  relationship_3  relationship_4  relationship_5  \\\n",
       "0                   0               0               0               0   \n",
       "1                   0               0               0               0   \n",
       "2                   1               0               0               0   \n",
       "3                   1               0               0               0   \n",
       "4                   0               1               0               0   \n",
       "...               ...             ...             ...             ...   \n",
       "32556               0               0               0               0   \n",
       "32557               0               0               0               0   \n",
       "32558               0               0               0               1   \n",
       "32559               1               0               0               0   \n",
       "32560               0               1               0               0   \n",
       "\n",
       "       relationship_6  race_1  race_2  race_3  race_4  race_5  sex_1  sex_2  \\\n",
       "0                   0       1       0       0       0       0      1      0   \n",
       "1                   0       1       0       0       0       0      1      0   \n",
       "2                   0       0       1       0       0       0      1      0   \n",
       "3                   0       1       0       0       0       0      1      0   \n",
       "4                   0       1       0       0       0       0      1      0   \n",
       "...               ...     ...     ...     ...     ...     ...    ...    ...   \n",
       "32556               0       1       0       0       0       0      0      1   \n",
       "32557               1       1       0       0       0       0      1      0   \n",
       "32558               0       1       0       0       0       0      0      1   \n",
       "32559               0       1       0       0       0       0      1      0   \n",
       "32560               0       1       0       0       0       0      0      1   \n",
       "\n",
       "       capital  hours.per.week income  \n",
       "0         4356              40  <=50K  \n",
       "1         4356              18  <=50K  \n",
       "2         4356              40  <=50K  \n",
       "3         3900              40  <=50K  \n",
       "4         3900              40  <=50K  \n",
       "...        ...             ...    ...  \n",
       "32556        0              40  <=50K  \n",
       "32557        0              38  <=50K  \n",
       "32558        0              40   >50K  \n",
       "32559        0              40  <=50K  \n",
       "32560        0              20  <=50K  \n",
       "\n",
       "[32561 rows x 48 columns]"
      ]
     },
     "execution_count": 13,
     "metadata": {},
     "output_type": "execute_result"
    }
   ],
   "source": [
    "df_dict['mean_impuation']"
   ]
  },
  {
   "cell_type": "markdown",
   "id": "d853671d-2aa8-4c77-9b83-7bbe7c00dcee",
   "metadata": {},
   "source": [
    "## 2. Splitting data"
   ]
  },
  {
   "cell_type": "code",
   "execution_count": 14,
   "id": "5a6d0f69-bc6b-4149-a268-a0b0f0a60cfe",
   "metadata": {},
   "outputs": [],
   "source": [
    "df = df_dict['mean_impuation']"
   ]
  },
  {
   "cell_type": "code",
   "execution_count": 15,
   "id": "2fadacf5-5747-436f-b9ad-30d67d29917b",
   "metadata": {},
   "outputs": [],
   "source": [
    "x = df.loc[:, df.columns != 'income']\n",
    "y = df['income']\n",
    "\n",
    "x_train, x_test, y_train, y_test = train_test_split(x, y, test_size = 0.2,random_state= 1)"
   ]
  },
  {
   "cell_type": "code",
   "execution_count": 16,
   "id": "7b0f0116-7827-464b-8b48-939b4468fda7",
   "metadata": {},
   "outputs": [
    {
     "name": "stderr",
     "output_type": "stream",
     "text": [
      "/var/folders/0d/6tkfrx094tb888cb90mgytt40000gp/T/ipykernel_99207/597751876.py:3: SettingWithCopyWarning: \n",
      "A value is trying to be set on a copy of a slice from a DataFrame.\n",
      "Try using .loc[row_indexer,col_indexer] = value instead\n",
      "\n",
      "See the caveats in the documentation: https://pandas.pydata.org/pandas-docs/stable/user_guide/indexing.html#returning-a-view-versus-a-copy\n",
      "  x_train[['age','hours.per.week','capital','fnlwgt']] = sc.fit_transform(x_train[['age','hours.per.week','capital','fnlwgt']])\n",
      "/Library/Frameworks/Python.framework/Versions/3.9/lib/python3.9/site-packages/pandas/core/indexing.py:1738: SettingWithCopyWarning: \n",
      "A value is trying to be set on a copy of a slice from a DataFrame.\n",
      "Try using .loc[row_indexer,col_indexer] = value instead\n",
      "\n",
      "See the caveats in the documentation: https://pandas.pydata.org/pandas-docs/stable/user_guide/indexing.html#returning-a-view-versus-a-copy\n",
      "  self._setitem_single_column(loc, value[:, i].tolist(), pi)\n",
      "/var/folders/0d/6tkfrx094tb888cb90mgytt40000gp/T/ipykernel_99207/597751876.py:4: SettingWithCopyWarning: \n",
      "A value is trying to be set on a copy of a slice from a DataFrame.\n",
      "Try using .loc[row_indexer,col_indexer] = value instead\n",
      "\n",
      "See the caveats in the documentation: https://pandas.pydata.org/pandas-docs/stable/user_guide/indexing.html#returning-a-view-versus-a-copy\n",
      "  x_test[['age','hours.per.week','capital','fnlwgt']] = sc.fit_transform(x_test[['age','hours.per.week','capital','fnlwgt']])\n",
      "/Library/Frameworks/Python.framework/Versions/3.9/lib/python3.9/site-packages/pandas/core/indexing.py:1738: SettingWithCopyWarning: \n",
      "A value is trying to be set on a copy of a slice from a DataFrame.\n",
      "Try using .loc[row_indexer,col_indexer] = value instead\n",
      "\n",
      "See the caveats in the documentation: https://pandas.pydata.org/pandas-docs/stable/user_guide/indexing.html#returning-a-view-versus-a-copy\n",
      "  self._setitem_single_column(loc, value[:, i].tolist(), pi)\n"
     ]
    }
   ],
   "source": [
    "# Feature Scaling (run this before classifier model)\n",
    "sc = StandardScaler()\n",
    "x_train[['age','hours.per.week','capital','fnlwgt']] = sc.fit_transform(x_train[['age','hours.per.week','capital','fnlwgt']])\n",
    "x_test[['age','hours.per.week','capital','fnlwgt']] = sc.fit_transform(x_test[['age','hours.per.week','capital','fnlwgt']])"
   ]
  },
  {
   "cell_type": "markdown",
   "id": "23b84f09-1ab5-4015-9b1c-78339b4b30f1",
   "metadata": {},
   "source": [
    "## Classifier Predictors"
   ]
  },
  {
   "cell_type": "markdown",
   "id": "eee8adee-4ad2-44db-a496-c3e04fb9d0ad",
   "metadata": {},
   "source": [
    "#### Decision Tree"
   ]
  },
  {
   "cell_type": "code",
   "execution_count": 17,
   "id": "9dcd4fc3-1f1e-4309-9d6c-1180664cfe63",
   "metadata": {},
   "outputs": [],
   "source": [
    "dtc = DecisionTreeClassifier()\n",
    "dtc.fit(x_train,y_train)\n",
    "\n",
    "y_pred = dtc.predict(x_test)"
   ]
  },
  {
   "cell_type": "code",
   "execution_count": 18,
   "id": "900a0686-9d8c-4dbb-b2dc-4a405524dddc",
   "metadata": {
    "tags": []
   },
   "outputs": [
    {
     "name": "stdout",
     "output_type": "stream",
     "text": [
      "Accuracy: 0.8140641793336404\n"
     ]
    },
    {
     "data": {
      "text/plain": [
       "array([[4322,  621],\n",
       "       [ 590,  980]])"
      ]
     },
     "execution_count": 18,
     "metadata": {},
     "output_type": "execute_result"
    }
   ],
   "source": [
    "print(\"Accuracy:\",metrics.accuracy_score(y_test, y_pred))\n",
    "cm = confusion_matrix(y_test, y_pred)\n",
    "cm"
   ]
  },
  {
   "cell_type": "markdown",
   "id": "107f16c1-eb8d-4051-961a-13b6bdc6e683",
   "metadata": {},
   "source": [
    "#### Random Forest"
   ]
  },
  {
   "cell_type": "code",
   "execution_count": 21,
   "id": "ff964a93-03c2-4fa4-b9f7-1a7a734b4689",
   "metadata": {},
   "outputs": [],
   "source": [
    "from sklearn.ensemble import RandomForestClassifier\n",
    "\n",
    "rfc = RandomForestClassifier(n_estimators=100)\n",
    "rfc.fit(x_train,y_train)\n",
    "\n",
    "y_pred = rfc.predict(x_test)"
   ]
  },
  {
   "cell_type": "code",
   "execution_count": 22,
   "id": "98f0985c-473c-4aef-b103-d23c0d2ea176",
   "metadata": {},
   "outputs": [
    {
     "name": "stdout",
     "output_type": "stream",
     "text": [
      "Accuracy: 0.8582834331337326\n"
     ]
    },
    {
     "data": {
      "text/plain": [
       "array([[4588,  355],\n",
       "       [ 568, 1002]])"
      ]
     },
     "execution_count": 22,
     "metadata": {},
     "output_type": "execute_result"
    }
   ],
   "source": [
    "print(\"Accuracy:\",metrics.accuracy_score(y_test, y_pred))\n",
    "cm = confusion_matrix(y_test, y_pred)\n",
    "cm"
   ]
  },
  {
   "cell_type": "markdown",
   "id": "e7178238-a6a4-4e41-b93f-2ed4dc91a08c",
   "metadata": {},
   "source": [
    "#### Naive Bayes"
   ]
  },
  {
   "cell_type": "markdown",
   "id": "d4a8b386-719d-45f6-985b-4159991d1cda",
   "metadata": {},
   "source": [
    "##### Multinomial"
   ]
  },
  {
   "cell_type": "code",
   "execution_count": 140,
   "id": "be2b0220-5f68-45cc-bad6-7f290083064b",
   "metadata": {},
   "outputs": [],
   "source": [
    "from sklearn.naive_bayes import MultinomialNB\n",
    "\n",
    "mnb = MultinomialNB()\n",
    "mnb.fit(x_train, y_train)\n",
    "\n",
    "y_pred = mnb.predict(x_test)"
   ]
  },
  {
   "cell_type": "code",
   "execution_count": 141,
   "id": "53871218-5d53-4b83-a500-bc007fdf60d7",
   "metadata": {},
   "outputs": [
    {
     "name": "stdout",
     "output_type": "stream",
     "text": [
      "Accuracy: 0.7881160755412252\n"
     ]
    },
    {
     "data": {
      "text/plain": [
       "array([[4657,  286],\n",
       "       [1094,  476]])"
      ]
     },
     "execution_count": 141,
     "metadata": {},
     "output_type": "execute_result"
    }
   ],
   "source": [
    "print(\"Accuracy:\",metrics.accuracy_score(y_test, y_pred))\n",
    "cm = confusion_matrix(y_test, y_pred)\n",
    "cm"
   ]
  },
  {
   "cell_type": "markdown",
   "id": "74ef2dd8-afdd-4ec2-bf49-58be7ba8b162",
   "metadata": {},
   "source": [
    "##### Gaussian"
   ]
  },
  {
   "cell_type": "code",
   "execution_count": 142,
   "id": "50a2e186-b469-4a2d-ac28-1a05a714c995",
   "metadata": {},
   "outputs": [],
   "source": [
    "from sklearn.naive_bayes import GaussianNB\n",
    "\n",
    "gnb = GaussianNB()\n",
    "gnb.fit(x_train, y_train)\n",
    "\n",
    "y_pred = gnb.predict(x_test)"
   ]
  },
  {
   "cell_type": "code",
   "execution_count": 143,
   "id": "712af610-614b-488c-9e90-7a3961c3fe6d",
   "metadata": {},
   "outputs": [
    {
     "name": "stdout",
     "output_type": "stream",
     "text": [
      "Accuracy: 0.7950253339474896\n"
     ]
    },
    {
     "data": {
      "text/plain": [
       "array([[4831,  112],\n",
       "       [1223,  347]])"
      ]
     },
     "execution_count": 143,
     "metadata": {},
     "output_type": "execute_result"
    }
   ],
   "source": [
    "print(\"Accuracy:\",metrics.accuracy_score(y_test, y_pred))\n",
    "cm = confusion_matrix(y_test, y_pred)\n",
    "cm"
   ]
  },
  {
   "cell_type": "markdown",
   "id": "c8c96289-487d-45cb-a843-4c836d64b78e",
   "metadata": {},
   "source": [
    "#### Bayesian Network"
   ]
  },
  {
   "cell_type": "code",
   "execution_count": 144,
   "id": "9894f368-ca9e-40b8-a60f-56ca45927d35",
   "metadata": {},
   "outputs": [
    {
     "data": {
      "application/vnd.jupyter.widget-view+json": {
       "model_id": "f05ee75a346c4e66bce014c22dcdc806",
       "version_major": 2,
       "version_minor": 0
      },
      "text/plain": [
       "  0%|          | 0/840 [00:00<?, ?it/s]"
      ]
     },
     "metadata": {},
     "output_type": "display_data"
    }
   ],
   "source": [
    "# Can't use too many columns for Bayesian Network, must choose most significant columns\n",
    "df = df_mean_imputation[['sex','education.num','marital.status','occupation','income']]\n",
    "x_bayes = df.loc[:, df.columns != 'income']\n",
    "y_bayes = df['income']\n",
    "x_train, x_test, y_train, y_test = train_test_split(x_bayes, y_bayes, test_size = 0.2,random_state= 1)\n",
    "train_data = x_train.join(y_train)\n",
    "\n",
    "bn = BayesianNetwork([('education.num', 'income'),('marital.status', 'income'),('occupation', 'income'),('sex', 'income')])\n",
    "bn.fit(train_data)\n",
    "y_pred = bn.predict(x_test)"
   ]
  },
  {
   "cell_type": "code",
   "execution_count": 145,
   "id": "2d8f7fbe-a366-4bf0-90e9-7eae68cc88c2",
   "metadata": {},
   "outputs": [
    {
     "name": "stdout",
     "output_type": "stream",
     "text": [
      "Accuracy: 0.8288039306003377\n"
     ]
    },
    {
     "data": {
      "text/plain": [
       "array([[4660,  283],\n",
       "       [ 832,  738]])"
      ]
     },
     "execution_count": 145,
     "metadata": {},
     "output_type": "execute_result"
    }
   ],
   "source": [
    "print(\"Accuracy:\",metrics.accuracy_score(y_test, y_pred))\n",
    "cm = confusion_matrix(y_test, y_pred)\n",
    "cm"
   ]
  },
  {
   "cell_type": "markdown",
   "id": "a098f4a1-4422-48de-9ca1-9357dfcd963f",
   "metadata": {},
   "source": [
    "### 3. Compare Predictive Accuracy"
   ]
  },
  {
   "cell_type": "code",
   "execution_count": 146,
   "id": "0259fd68-448f-4e02-87c6-4bd228501401",
   "metadata": {},
   "outputs": [
    {
     "name": "stdout",
     "output_type": "stream",
     "text": [
      "DecisionTreeClassifier Mean Accuracy: 0.811 (0.003)\n",
      "RandomForestClassifier Mean Accuracy: 0.852 (0.001)\n",
      "MultinomialNB Mean Accuracy: 0.784 (0.002)\n",
      "GaussianNB Mean Accuracy: 0.794 (0.002)\n"
     ]
    },
    {
     "data": {
      "application/vnd.jupyter.widget-view+json": {
       "model_id": "0733d24319d4413bba27bb15d0eeab59",
       "version_major": 2,
       "version_minor": 0
      },
      "text/plain": [
       "  0%|          | 0/840 [00:00<?, ?it/s]"
      ]
     },
     "metadata": {},
     "output_type": "display_data"
    },
    {
     "name": "stdout",
     "output_type": "stream",
     "text": [
      "BayesianNetwork Accuracy: 0.8288039306003377\n",
      "\n",
      "RandomForestClassifier and DecisionTreeClassifier comparison:\n",
      "P-value: 0.000, t-Statistic: -19.019\n",
      "Reject null hypothesis that the mean performance is the same. We can say RandomForestClassifier is significantly better.\n"
     ]
    }
   ],
   "source": [
    "# evaluate DecisionTreeClassifier\n",
    "dtc = DecisionTreeClassifier()\n",
    "cv1 = RepeatedStratifiedKFold(n_splits=2, n_repeats=5, random_state=1)\n",
    "scores1 = cross_val_score(dtc, x, y, scoring='accuracy', cv=cv1, n_jobs=-1)\n",
    "print('DecisionTreeClassifier Mean Accuracy: %.3f (%.3f)' % (np.mean(scores1), np.std(scores1)))\n",
    "# evaluate RandomForestClassifier\n",
    "rfc = RandomForestClassifier(n_estimators=100)\n",
    "cv2 = RepeatedStratifiedKFold(n_splits=2, n_repeats=5, random_state=1)\n",
    "scores2 = cross_val_score(rfc, x, y, scoring='accuracy', cv=cv2, n_jobs=-1)\n",
    "print('RandomForestClassifier Mean Accuracy: %.3f (%.3f)' % (np.mean(scores2), np.std(scores2)))\n",
    "# evaluate MultinomialNB\n",
    "mnb = MultinomialNB()\n",
    "cv3 = RepeatedStratifiedKFold(n_splits=2, n_repeats=5, random_state=1)\n",
    "scores3 = cross_val_score(mnb, x, y, scoring='accuracy', cv=cv3, n_jobs=-1)\n",
    "print('MultinomialNB Mean Accuracy: %.3f (%.3f)' % (np.mean(scores3), np.std(scores3)))\n",
    "# evaluate GaussianNB\n",
    "gnb = GaussianNB()\n",
    "cv4 = RepeatedStratifiedKFold(n_splits=2, n_repeats=5, random_state=1)\n",
    "scores4 = cross_val_score(gnb, x, y, scoring='accuracy', cv=cv4, n_jobs=-1)\n",
    "print('GaussianNB Mean Accuracy: %.3f (%.3f)' % (np.mean(scores4), np.std(scores4)))\n",
    "# evaluate BayesianNetwork\n",
    "df = df_mean_imputation[['sex','education.num','marital.status','occupation','income']]\n",
    "x_bayes = df.loc[:, df.columns != 'income']\n",
    "y_bayes = df['income']\n",
    "x_train, x_test, y_train, y_test = train_test_split(x_bayes, y_bayes, test_size = 0.2,random_state= 1)\n",
    "train_data = x_train.join(y_train)\n",
    "bn = BayesianNetwork([('education.num', 'income'),('marital.status', 'income'),('occupation', 'income'),('sex', 'income')])\n",
    "bn.fit(train_data)\n",
    "y_pred = bn.predict(x_test)\n",
    "print(\"BayesianNetwork Accuracy:\",metrics.accuracy_score(y_test, y_pred))\n",
    "print()\n",
    "\n",
    "# Compare RandomForestClassifier and DecisionTreeClassifier\n",
    "print('RandomForestClassifier and DecisionTreeClassifier comparison:')\n",
    "t, p = paired_ttest_5x2cv(estimator1=dtc, estimator2=rfc, X=x, y=y, scoring='accuracy', random_seed=1)\n",
    "\n",
    "# summarize RandomForestClassifier and DecisionTreeClassifier. They got the two highest.\n",
    "print('P-value: %.3f, t-Statistic: %.3f' % (p, t))\n",
    "# interpret the result\n",
    "if p <= 0.05:\n",
    "    print('Reject null hypothesis that the mean performance is the same. We can say RandomForestClassifier is significantly better.')\n",
    "else:\n",
    "    print('Fail to reject null hypothesis. RandomForestClassifier and DecisionTreeClassifier probably have the same performance')\n"
   ]
  },
  {
   "cell_type": "markdown",
   "id": "34e7fb5d-1148-47c3-ba6b-99ff414ef7c8",
   "metadata": {},
   "source": [
    "#### Tune RandomForest Parameters"
   ]
  },
  {
   "cell_type": "code",
   "execution_count": 264,
   "id": "76561f93-2050-4eb0-bd24-dabd963c8c02",
   "metadata": {},
   "outputs": [
    {
     "data": {
      "text/plain": [
       "GridSearchCV(cv=10, estimator=RandomForestClassifier(),\n",
       "             param_grid=[{'bootstrap': [True, False],\n",
       "                          'max_depth': [10, 50, None], 'max_features': [5, 10],\n",
       "                          'n_estimators': [10, 25, 50]}],\n",
       "             scoring='accuracy')"
      ]
     },
     "execution_count": 264,
     "metadata": {},
     "output_type": "execute_result"
    }
   ],
   "source": [
    "from sklearn.model_selection import GridSearchCV\n",
    "\n",
    "param_grid = [\n",
    "{'n_estimators': [10, 25], 'max_features': [5, 10], \n",
    " 'max_depth': [10, 50, None], 'bootstrap': [True, False]}\n",
    "]\n",
    "\n",
    "grid_search_forest = GridSearchCV(rfc, param_grid, cv=10, scoring='accuracy')\n",
    "grid_search_forest.fit(x_train, y_train)"
   ]
  },
  {
   "cell_type": "code",
   "execution_count": null,
   "id": "e0ba1cae-4f88-4444-a793-e93d93e4a958",
   "metadata": {},
   "outputs": [],
   "source": [
    "#now let's how the RMSE changes for each parameter configuration\n",
    "cvres = grid_search_forest.cv_results_\n",
    "for mean_score, params in zip(cvres[\"mean_test_score\"], cvres[\"params\"]):\n",
    "    print(np.sqrt(-mean_score), params)"
   ]
  },
  {
   "cell_type": "code",
   "execution_count": null,
   "id": "e6ebafd1-79fa-4f80-98ea-67ce01f52d41",
   "metadata": {},
   "outputs": [],
   "source": [
    "grid_search_forest.best_estimator_"
   ]
  },
  {
   "cell_type": "code",
   "execution_count": null,
   "id": "1d81184e-362f-43ac-bc0f-ea8fea5593f2",
   "metadata": {},
   "outputs": [],
   "source": [
    "# Performance metrics\n",
    "grid_best = grid_search_forest.best_estimator_.predict(x_test)\n",
    "Print('Best accuracy from Grid Search:')\n",
    "print(\"Accuracy:\",metrics.accuracy_score(y_test, grid_best))\n",
    "cm = confusion_matrix(y_test, y_pred)\n",
    "cm"
   ]
  },
  {
   "cell_type": "markdown",
   "id": "f0f65c00-a6c2-4165-a294-3bc0917e2759",
   "metadata": {},
   "source": [
    "### 4. Compare Imputations and Classifiers"
   ]
  },
  {
   "cell_type": "markdown",
   "id": "7b6031a6-74de-46f3-884a-406271102ad5",
   "metadata": {},
   "source": [
    "RandomForestClassifier seems to have the highest accuracy from the classifiers.\n",
    "Below, we'll compare which imputation method leads to highest accuracy, by imputing with each method, then using the RandomForestClassifier on each imputed dataset."
   ]
  },
  {
   "cell_type": "code",
   "execution_count": 149,
   "id": "1a046846-8a12-494e-adc3-ff4d479b31fc",
   "metadata": {
    "jupyter": {
     "source_hidden": true
    },
    "tags": []
   },
   "outputs": [],
   "source": [
    "def evaluate_accuracy(input_df, clf):\n",
    "    df = input_df\n",
    "    x = df.loc[:, df.columns != 'income']\n",
    "    y = df['income']\n",
    "    cv = RepeatedStratifiedKFold(n_splits=2, n_repeats=5, random_state=1)\n",
    "    scores = cross_val_score(clf, x, y, scoring='accuracy', cv=cv, n_jobs=-1)\n",
    "    print('Mean Accuracy: %.3f (%.3f)' % (np.mean(scores), np.std(scores)))"
   ]
  },
  {
   "cell_type": "code",
   "execution_count": 199,
   "id": "3a94f0fb-6f9f-40f1-a190-6fd1bc97c6b6",
   "metadata": {},
   "outputs": [
    {
     "name": "stdout",
     "output_type": "stream",
     "text": [
      "DecisionTreeClassifier() mean_impuation\n",
      "Mean Accuracy: 0.810 (0.002)\n",
      "\n",
      "DecisionTreeClassifier() cold deck\n",
      "Mean Accuracy: 0.810 (0.003)\n",
      "\n",
      "DecisionTreeClassifier() regression_imputation\n",
      "Mean Accuracy: 0.811 (0.003)\n",
      "\n",
      "RandomForestClassifier() mean_impuation\n",
      "Mean Accuracy: 0.852 (0.001)\n",
      "\n",
      "RandomForestClassifier() cold deck\n",
      "Mean Accuracy: 0.852 (0.002)\n",
      "\n",
      "RandomForestClassifier() regression_imputation\n",
      "Mean Accuracy: 0.852 (0.002)\n",
      "\n",
      "MultinomialNB() mean_impuation\n",
      "Mean Accuracy: 0.784 (0.002)\n",
      "\n",
      "MultinomialNB() cold deck\n",
      "Mean Accuracy: 0.784 (0.002)\n",
      "\n",
      "MultinomialNB() regression_imputation\n",
      "Mean Accuracy: 0.784 (0.002)\n",
      "\n",
      "GaussianNB() mean_impuation\n",
      "Mean Accuracy: 0.794 (0.002)\n",
      "\n",
      "GaussianNB() cold deck\n",
      "Mean Accuracy: 0.794 (0.002)\n",
      "\n",
      "GaussianNB() regression_imputation\n",
      "Mean Accuracy: 0.794 (0.002)\n",
      "\n"
     ]
    }
   ],
   "source": [
    "clf_list = [DecisionTreeClassifier(), RandomForestClassifier(n_estimators=100), MultinomialNB(), GaussianNB()]\n",
    "for clf in clf_list:\n",
    "    for name, df in df_dict.items():\n",
    "        print(clf, name)\n",
    "        evaluate_accuracy(df, clf)\n",
    "        print()"
   ]
  },
  {
   "cell_type": "code",
   "execution_count": 197,
   "id": "e7e2a9b9-f425-422a-9dc9-ef47dc85a7a5",
   "metadata": {},
   "outputs": [
    {
     "name": "stdout",
     "output_type": "stream",
     "text": [
      "Mean impuatation RandomForestClassifier Mean Accuracy: 0.853 (0.001)\n",
      "Cold deck imputation RandomForestClassifier Mean Accuracy: 0.852 (0.001)\n",
      "Regression imputation RandomForestClassifier Mean Accuracy: 0.852 (0.001)\n",
      "RandomForestClassifier and DecisionTreeClassifier comparison:\n",
      "P-value: 0.475, t-Statistic: -0.772\n",
      "Fail to reject null hypothesis. cold deck and regression imputation lead to same accuracy in classifier\n"
     ]
    }
   ],
   "source": [
    "# evaluate mean imputation on RandomForestClassifier\n",
    "df = df_list[0]\n",
    "x = df.loc[:, df.columns != 'income']\n",
    "y = df['income']\n",
    "rfc1 = RandomForestClassifier(n_estimators=100)\n",
    "cv1 = RepeatedStratifiedKFold(n_splits=2, n_repeats=5, random_state=1)\n",
    "scores1 = cross_val_score(rfc1, x, y, scoring='accuracy', cv=cv1, n_jobs=-1)\n",
    "print('Mean impuatation RandomForestClassifier Mean Accuracy: %.3f (%.3f)' % (np.mean(scores1), np.std(scores1)))\n",
    "\n",
    "# evaluate cold deck imputation on RandomForestClassifier\n",
    "df = df_list[1]\n",
    "x = df.loc[:, df.columns != 'income']\n",
    "y = df['income']\n",
    "rfc2 = RandomForestClassifier(n_estimators=100)\n",
    "cv2 = RepeatedStratifiedKFold(n_splits=2, n_repeats=5, random_state=1)\n",
    "scores2 = cross_val_score(rfc2, x, y, scoring='accuracy', cv=cv2, n_jobs=-1)\n",
    "print('Cold deck imputation RandomForestClassifier Mean Accuracy: %.3f (%.3f)' % (np.mean(scores2), np.std(scores2)))\n",
    "\n",
    "# evaluate mean imputation on RandomForestClassifier\n",
    "df = df_list[2]\n",
    "x = df.loc[:, df.columns != 'income']\n",
    "y = df['income']\n",
    "rfc3 = RandomForestClassifier(n_estimators=100)\n",
    "cv3 = RepeatedStratifiedKFold(n_splits=2, n_repeats=5, random_state=1)\n",
    "scores3 = cross_val_score(rfc3, x, y, scoring='accuracy', cv=cv3, n_jobs=-1)\n",
    "print('Regression imputation RandomForestClassifier Mean Accuracy: %.3f (%.3f)' % (np.mean(scores3), np.std(scores3)))\n",
    "\n",
    "print('RandomForestClassifier and DecisionTreeClassifier comparison:')\n",
    "t, p = paired_ttest_5x2cv(estimator1=rfc3, estimator2=rfc2, X=x, y=y, scoring='accuracy', random_seed=1)\n",
    "print('P-value: %.3f, t-Statistic: %.3f' % (p, t))\n",
    "# interpret the result\n",
    "if p <= 0.05:\n",
    "    print('Reject null hypothesis that the mean performance is the same. We can say cold deck impuatation is better than regression impuation')\n",
    "else:\n",
    "    print('Fail to reject null hypothesis. cold deck and regression imputation lead to same accuracy in classifier')\n"
   ]
  },
  {
   "cell_type": "code",
   "execution_count": 153,
   "id": "a5328489-1fd1-4958-b214-c9e51937a02b",
   "metadata": {},
   "outputs": [
    {
     "name": "stdout",
     "output_type": "stream",
     "text": [
      "mean imputation, imputed values\n",
      "Counter({'Private': 1836})\n",
      "Counter({'Prof-specialty': 1843})\n",
      "\n",
      "cold deck imputation, imputed values\n",
      "Counter({'Private': 1368, 'Self-emp-not-inc': 147, 'Local-gov': 120, 'State-gov': 82, 'Federal-gov': 66, 'Self-emp-inc': 51, 'Without-pay': 1, 'Never-worked': 1})\n",
      "Counter({'Other-service': 268, 'Adm-clerical': 259, 'Craft-repair': 229, 'Sales': 220, 'Exec-managerial': 214, 'Prof-specialty': 193, 'Machine-op-inspct': 131, 'Transport-moving': 88, 'Handlers-cleaners': 70, 'Tech-support': 59, 'Farming-fishing': 57, 'Protective-serv': 45, 'Priv-house-serv': 10})\n",
      "\n",
      "regression imputation, imputed values\n",
      "Counter({'Private': 1836})\n",
      "Counter({'Craft-repair': 1696, 'Prof-specialty': 147})\n"
     ]
    }
   ],
   "source": [
    "# View what values were imputed in each method\n",
    "\n",
    "print('mean imputation, imputed values')\n",
    "test_df = df_mean_imputation\n",
    "print(Counter(test_df.loc[wc_index, 'workclass']))\n",
    "print(Counter(test_df.loc[occ_index, 'occupation']))\n",
    "print()\n",
    "print('cold deck imputation, imputed values')\n",
    "test_df = df_cold_deck\n",
    "print(Counter(test_df.loc[wc_index, 'workclass']))\n",
    "print(Counter(test_df.loc[occ_index, 'occupation']))\n",
    "print()\n",
    "print('regression imputation, imputed values')\n",
    "test_df = df_regression_imputation\n",
    "print(Counter(test_df.loc[wc_index, 'workclass']))\n",
    "print(Counter(test_df.loc[occ_index, 'occupation']))"
   ]
  },
  {
   "cell_type": "markdown",
   "id": "1d5a62f5-79b7-4814-8d67-5e93d4f0fe41",
   "metadata": {},
   "source": [
    "#### Answer\n",
    "\n",
    "All the different imputation methods, seem to have little to no difference in their effects on the Predictive accuracy of the classifier models. \n",
    "There is no significantly better impuatation method in terms of predictive accuracy.\n",
    "\n",
    "\n",
    "We have compared the Predictive Accuracy of all the Classification models in Section 3. We have found that RandomForestClassifier is significantly the best classifier out of them."
   ]
  }
 ],
 "metadata": {
  "kernelspec": {
   "display_name": "Python 3 (ipykernel)",
   "language": "python",
   "name": "python3"
  },
  "language_info": {
   "codemirror_mode": {
    "name": "ipython",
    "version": 3
   },
   "file_extension": ".py",
   "mimetype": "text/x-python",
   "name": "python",
   "nbconvert_exporter": "python",
   "pygments_lexer": "ipython3",
   "version": "3.9.2"
  }
 },
 "nbformat": 4,
 "nbformat_minor": 5
}
